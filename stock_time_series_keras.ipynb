{
 "cells": [
  {
   "cell_type": "markdown",
   "metadata": {},
   "source": [
    "# Time Series Modeling with Keras"
   ]
  },
  {
   "cell_type": "markdown",
   "metadata": {},
   "source": [
    "- ~~Official Tutorial:~~\n",
    "    - https://www.tensorflow.org/tutorials/structured_data/time_series\n",
    "    \n",
    "- Using the TimeSeriesGenerator\n",
    "    - https://machinelearningmastery.com/how-to-use-the-timeseriesgenerator-for-time-series-forecasting-in-keras/\n",
    "    \n",
    "- Using Tensorflow 2.0's time series methods\n",
    "    - https://keras.io/api/preprocessing/timeseries/"
   ]
  },
  {
   "cell_type": "code",
   "execution_count": 1,
   "metadata": {
    "ExecuteTime": {
     "end_time": "2020-11-13T17:55:25.014859Z",
     "start_time": "2020-11-13T17:55:25.011919Z"
    }
   },
   "outputs": [],
   "source": [
    "DOWNLOAD_DATA=False"
   ]
  },
  {
   "cell_type": "code",
   "execution_count": 2,
   "metadata": {
    "ExecuteTime": {
     "end_time": "2020-11-13T17:55:28.804016Z",
     "start_time": "2020-11-13T17:55:25.016744Z"
    }
   },
   "outputs": [
    {
     "name": "stdout",
     "output_type": "stream",
     "text": [
      "fsds v0.2.27 loaded.  Read the docs: https://fs-ds.readthedocs.io/en/latest/ \n"
     ]
    },
    {
     "data": {
      "text/html": [
       "<style  type=\"text/css\" >\n",
       "</style><table id=\"T_69a0f3ac_25d9_11eb_be02_acde48001122\" ><caption>Loaded Packages and Handles</caption><thead>    <tr>        <th class=\"col_heading level0 col0\" >Handle</th>        <th class=\"col_heading level0 col1\" >Package</th>        <th class=\"col_heading level0 col2\" >Description</th>    </tr></thead><tbody>\n",
       "                <tr>\n",
       "                                <td id=\"T_69a0f3ac_25d9_11eb_be02_acde48001122row0_col0\" class=\"data row0 col0\" >dp</td>\n",
       "                        <td id=\"T_69a0f3ac_25d9_11eb_be02_acde48001122row0_col1\" class=\"data row0 col1\" >IPython.display</td>\n",
       "                        <td id=\"T_69a0f3ac_25d9_11eb_be02_acde48001122row0_col2\" class=\"data row0 col2\" >Display modules with helpful display and clearing commands.</td>\n",
       "            </tr>\n",
       "            <tr>\n",
       "                                <td id=\"T_69a0f3ac_25d9_11eb_be02_acde48001122row1_col0\" class=\"data row1 col0\" >fs</td>\n",
       "                        <td id=\"T_69a0f3ac_25d9_11eb_be02_acde48001122row1_col1\" class=\"data row1 col1\" >fsds</td>\n",
       "                        <td id=\"T_69a0f3ac_25d9_11eb_be02_acde48001122row1_col2\" class=\"data row1 col2\" >Custom data science bootcamp student package</td>\n",
       "            </tr>\n",
       "            <tr>\n",
       "                                <td id=\"T_69a0f3ac_25d9_11eb_be02_acde48001122row2_col0\" class=\"data row2 col0\" >mpl</td>\n",
       "                        <td id=\"T_69a0f3ac_25d9_11eb_be02_acde48001122row2_col1\" class=\"data row2 col1\" >matplotlib</td>\n",
       "                        <td id=\"T_69a0f3ac_25d9_11eb_be02_acde48001122row2_col2\" class=\"data row2 col2\" >Matplotlib's base OOP module with formatting artists</td>\n",
       "            </tr>\n",
       "            <tr>\n",
       "                                <td id=\"T_69a0f3ac_25d9_11eb_be02_acde48001122row3_col0\" class=\"data row3 col0\" >plt</td>\n",
       "                        <td id=\"T_69a0f3ac_25d9_11eb_be02_acde48001122row3_col1\" class=\"data row3 col1\" >matplotlib.pyplot</td>\n",
       "                        <td id=\"T_69a0f3ac_25d9_11eb_be02_acde48001122row3_col2\" class=\"data row3 col2\" >Matplotlib's matlab-like plotting module</td>\n",
       "            </tr>\n",
       "            <tr>\n",
       "                                <td id=\"T_69a0f3ac_25d9_11eb_be02_acde48001122row4_col0\" class=\"data row4 col0\" >np</td>\n",
       "                        <td id=\"T_69a0f3ac_25d9_11eb_be02_acde48001122row4_col1\" class=\"data row4 col1\" >numpy</td>\n",
       "                        <td id=\"T_69a0f3ac_25d9_11eb_be02_acde48001122row4_col2\" class=\"data row4 col2\" >scientific computing with Python</td>\n",
       "            </tr>\n",
       "            <tr>\n",
       "                                <td id=\"T_69a0f3ac_25d9_11eb_be02_acde48001122row5_col0\" class=\"data row5 col0\" >pd</td>\n",
       "                        <td id=\"T_69a0f3ac_25d9_11eb_be02_acde48001122row5_col1\" class=\"data row5 col1\" >pandas</td>\n",
       "                        <td id=\"T_69a0f3ac_25d9_11eb_be02_acde48001122row5_col2\" class=\"data row5 col2\" >High performance data structures and tools</td>\n",
       "            </tr>\n",
       "            <tr>\n",
       "                                <td id=\"T_69a0f3ac_25d9_11eb_be02_acde48001122row6_col0\" class=\"data row6 col0\" >sns</td>\n",
       "                        <td id=\"T_69a0f3ac_25d9_11eb_be02_acde48001122row6_col1\" class=\"data row6 col1\" >seaborn</td>\n",
       "                        <td id=\"T_69a0f3ac_25d9_11eb_be02_acde48001122row6_col2\" class=\"data row6 col2\" >High-level data visualization library based on matplotlib</td>\n",
       "            </tr>\n",
       "    </tbody></table>"
      ],
      "text/plain": [
       "<pandas.io.formats.style.Styler at 0x7fa3b1b451d0>"
      ]
     },
     "metadata": {},
     "output_type": "display_data"
    },
    {
     "data": {
      "text/html": [
       "        <script type=\"text/javascript\">\n",
       "        window.PlotlyConfig = {MathJaxConfig: 'local'};\n",
       "        if (window.MathJax) {MathJax.Hub.Config({SVG: {font: \"STIX-Web\"}});}\n",
       "        if (typeof require !== 'undefined') {\n",
       "        require.undef(\"plotly\");\n",
       "        requirejs.config({\n",
       "            paths: {\n",
       "                'plotly': ['https://cdn.plot.ly/plotly-latest.min']\n",
       "            }\n",
       "        });\n",
       "        require(['plotly'], function(Plotly) {\n",
       "            window._Plotly = Plotly;\n",
       "        });\n",
       "        }\n",
       "        </script>\n",
       "        "
      ]
     },
     "metadata": {},
     "output_type": "display_data"
    },
    {
     "data": {
      "text/html": [
       "        <script type=\"text/javascript\">\n",
       "        window.PlotlyConfig = {MathJaxConfig: 'local'};\n",
       "        if (window.MathJax) {MathJax.Hub.Config({SVG: {font: \"STIX-Web\"}});}\n",
       "        if (typeof require !== 'undefined') {\n",
       "        require.undef(\"plotly\");\n",
       "        requirejs.config({\n",
       "            paths: {\n",
       "                'plotly': ['https://cdn.plot.ly/plotly-latest.min']\n",
       "            }\n",
       "        });\n",
       "        require(['plotly'], function(Plotly) {\n",
       "            window._Plotly = Plotly;\n",
       "        });\n",
       "        }\n",
       "        </script>\n",
       "        "
      ]
     },
     "metadata": {},
     "output_type": "display_data"
    },
    {
     "name": "stdout",
     "output_type": "stream",
     "text": [
      "[i] Pandas .iplot() method activated.\n"
     ]
    }
   ],
   "source": [
    "# !pip install -U fsds\n",
    "from fsds.imports import *"
   ]
  },
  {
   "cell_type": "code",
   "execution_count": 3,
   "metadata": {
    "ExecuteTime": {
     "end_time": "2020-11-13T17:55:28.937862Z",
     "start_time": "2020-11-13T17:55:28.805943Z"
    }
   },
   "outputs": [],
   "source": [
    "import requests\n",
    "import datetime as dt \n",
    "import glob,time,os\n",
    "def download_stock_data(fpath='data/ive_minute_tick_bidask_API.csv',\n",
    "                       verbose=True,append_date=True):\n",
    "    \"\"\"Downloads up-to-date IVE S&P 500 1-min aggregate data from \n",
    "    http://www.kibot.com/free_historical_data.aspx\n",
    "    \n",
    "    Args:\n",
    "        fpath (str): csv filepath to save (Default='data/ive_minute_tick_bidask_API.csv')\n",
    "        verbose (bool): Display file info (Default=True)\n",
    "        \n",
    "    Returns:\n",
    "        stock_df: DataFrame with correct headers and datetime index\"\"\"\n",
    "    agg_url = 'http://api.kibot.com/?action=history&symbol=IVE&interval=tickbidask1&bp=1&user=guest'\n",
    "    response = requests.get(agg_url,\n",
    "                            allow_redirects=True)\n",
    "\n",
    "    ## Save output to csv file\n",
    "    with open(fpath,'wb') as file:\n",
    "        file.write(response.content)\n",
    "        \n",
    "        \n",
    "    ## Load in Stock Data Frame with headers (then save)\n",
    "    headers = ['Date','Time','BidOpen','BidHigh','BidLow','BidClose','AskOpen','AskHigh','AskLow','AskClose']\n",
    "    stock_df = pd.read_csv(fpath,names=headers)\n",
    "\n",
    "# \n",
    "    ## Make Combined Date Time column and Drop Origs\n",
    "    stock_df['datetime'] = pd.to_datetime(stock_df['Date'].astype(str)+' '+stock_df['Time'].astype(str))\n",
    "    \n",
    "    if append_date:\n",
    "        suffix = dt.date.today().strftime('%m-%d-%y')\n",
    "        fpath = f\"{fpath.split('.csv')[0]}_{suffix}.csv\"\n",
    "        \n",
    "    print(f'Saving as {fpath}')\n",
    "    stock_df.to_csv(fpath,index=False)\n",
    "        \n",
    "    if verbose:\n",
    "        print('[i] Stock data successfully downloaded and saved as:')\n",
    "        print(' - ',fpath)\n",
    "        \n",
    "    return pd.read_csv(fpath,parse_dates=['datetime'],index_col='datetime')"
   ]
  },
  {
   "cell_type": "code",
   "execution_count": 4,
   "metadata": {
    "ExecuteTime": {
     "end_time": "2020-11-13T17:55:30.150663Z",
     "start_time": "2020-11-13T17:55:28.939720Z"
    }
   },
   "outputs": [
    {
     "name": "stdout",
     "output_type": "stream",
     "text": [
      "[i] Loading most recent data sets...\n"
     ]
    },
    {
     "data": {
      "text/html": [
       "<div>\n",
       "<style scoped>\n",
       "    .dataframe tbody tr th:only-of-type {\n",
       "        vertical-align: middle;\n",
       "    }\n",
       "\n",
       "    .dataframe tbody tr th {\n",
       "        vertical-align: top;\n",
       "    }\n",
       "\n",
       "    .dataframe thead th {\n",
       "        text-align: right;\n",
       "    }\n",
       "</style>\n",
       "<table border=\"1\" class=\"dataframe\">\n",
       "  <thead>\n",
       "    <tr style=\"text-align: right;\">\n",
       "      <th></th>\n",
       "      <th>Date</th>\n",
       "      <th>Time</th>\n",
       "      <th>BidOpen</th>\n",
       "      <th>BidHigh</th>\n",
       "      <th>BidLow</th>\n",
       "      <th>BidClose</th>\n",
       "      <th>AskOpen</th>\n",
       "      <th>AskHigh</th>\n",
       "      <th>AskLow</th>\n",
       "      <th>AskClose</th>\n",
       "    </tr>\n",
       "    <tr>\n",
       "      <th>datetime</th>\n",
       "      <th></th>\n",
       "      <th></th>\n",
       "      <th></th>\n",
       "      <th></th>\n",
       "      <th></th>\n",
       "      <th></th>\n",
       "      <th></th>\n",
       "      <th></th>\n",
       "      <th></th>\n",
       "      <th></th>\n",
       "    </tr>\n",
       "  </thead>\n",
       "  <tbody>\n",
       "    <tr>\n",
       "      <th>2009-09-28 09:30:00</th>\n",
       "      <td>09/28/2009</td>\n",
       "      <td>09:30</td>\n",
       "      <td>39.06</td>\n",
       "      <td>39.06</td>\n",
       "      <td>39.06</td>\n",
       "      <td>39.06</td>\n",
       "      <td>39.13</td>\n",
       "      <td>39.13</td>\n",
       "      <td>39.13</td>\n",
       "      <td>39.13</td>\n",
       "    </tr>\n",
       "    <tr>\n",
       "      <th>2009-09-28 09:31:00</th>\n",
       "      <td>09/28/2009</td>\n",
       "      <td>09:31</td>\n",
       "      <td>39.10</td>\n",
       "      <td>39.10</td>\n",
       "      <td>39.08</td>\n",
       "      <td>39.09</td>\n",
       "      <td>39.11</td>\n",
       "      <td>39.11</td>\n",
       "      <td>39.10</td>\n",
       "      <td>39.11</td>\n",
       "    </tr>\n",
       "    <tr>\n",
       "      <th>2009-09-28 09:32:00</th>\n",
       "      <td>09/28/2009</td>\n",
       "      <td>09:32</td>\n",
       "      <td>39.11</td>\n",
       "      <td>39.15</td>\n",
       "      <td>39.11</td>\n",
       "      <td>39.15</td>\n",
       "      <td>39.12</td>\n",
       "      <td>39.16</td>\n",
       "      <td>39.12</td>\n",
       "      <td>39.16</td>\n",
       "    </tr>\n",
       "    <tr>\n",
       "      <th>2009-09-28 09:33:00</th>\n",
       "      <td>09/28/2009</td>\n",
       "      <td>09:33</td>\n",
       "      <td>39.14</td>\n",
       "      <td>39.14</td>\n",
       "      <td>39.14</td>\n",
       "      <td>39.14</td>\n",
       "      <td>39.15</td>\n",
       "      <td>39.16</td>\n",
       "      <td>39.15</td>\n",
       "      <td>39.15</td>\n",
       "    </tr>\n",
       "    <tr>\n",
       "      <th>2009-09-28 09:34:00</th>\n",
       "      <td>09/28/2009</td>\n",
       "      <td>09:34</td>\n",
       "      <td>39.14</td>\n",
       "      <td>39.14</td>\n",
       "      <td>39.12</td>\n",
       "      <td>39.12</td>\n",
       "      <td>39.15</td>\n",
       "      <td>39.15</td>\n",
       "      <td>39.14</td>\n",
       "      <td>39.14</td>\n",
       "    </tr>\n",
       "  </tbody>\n",
       "</table>\n",
       "</div>"
      ],
      "text/plain": [
       "                           Date   Time  BidOpen  BidHigh  BidLow  BidClose  \\\n",
       "datetime                                                                     \n",
       "2009-09-28 09:30:00  09/28/2009  09:30    39.06    39.06   39.06     39.06   \n",
       "2009-09-28 09:31:00  09/28/2009  09:31    39.10    39.10   39.08     39.09   \n",
       "2009-09-28 09:32:00  09/28/2009  09:32    39.11    39.15   39.11     39.15   \n",
       "2009-09-28 09:33:00  09/28/2009  09:33    39.14    39.14   39.14     39.14   \n",
       "2009-09-28 09:34:00  09/28/2009  09:34    39.14    39.14   39.12     39.12   \n",
       "\n",
       "                     AskOpen  AskHigh  AskLow  AskClose  \n",
       "datetime                                                 \n",
       "2009-09-28 09:30:00    39.13    39.13   39.13     39.13  \n",
       "2009-09-28 09:31:00    39.11    39.11   39.10     39.11  \n",
       "2009-09-28 09:32:00    39.12    39.16   39.12     39.16  \n",
       "2009-09-28 09:33:00    39.15    39.16   39.15     39.15  \n",
       "2009-09-28 09:34:00    39.15    39.15   39.14     39.14  "
      ]
     },
     "metadata": {},
     "output_type": "display_data"
    }
   ],
   "source": [
    "## DOWNLOAD THE DATA IF REQUESTED\n",
    "if DOWNLOAD_DATA:\n",
    "    print('[i] Downoading data sets...')\n",
    "    stock_df = download_stock_data()\n",
    "    \n",
    "else: \n",
    "    print('[i] Loading most recent data sets...')\n",
    "    ## Get list of current csvs\n",
    "    files_glob = glob.glob('data/*.csv')\n",
    "    stock_files = list(filter(lambda x: 'ive_minute' in x, files_glob))\n",
    "\n",
    "\n",
    "    ## make dictionaries of file date modifieds\n",
    "    STOCK_FILES = {}\n",
    "    for file in stock_files:\n",
    "        STOCK_FILES[file] = pd.to_datetime(time.ctime(os.path.getmtime(file)))\n",
    "\n",
    "        \n",
    "    ## Get most recent files\n",
    "    recent_stocks = pd.Series(STOCK_FILES).idxmax()\n",
    "    \n",
    "    ## Load in the csvs \n",
    "    stock_df = pd.read_csv(recent_stocks,parse_dates=['datetime'],index_col='datetime')\n",
    "    \n",
    "    ## Sort timeseries\n",
    "    stock_df.sort_index(inplace=True)\n",
    "    \n",
    "## Display Preview of DFs\n",
    "display(stock_df.head())#,tweets.head())"
   ]
  },
  {
   "cell_type": "code",
   "execution_count": 5,
   "metadata": {
    "ExecuteTime": {
     "end_time": "2020-11-13T17:55:30.168928Z",
     "start_time": "2020-11-13T17:55:30.152277Z"
    }
   },
   "outputs": [
    {
     "data": {
      "text/html": [
       "<div>\n",
       "<style scoped>\n",
       "    .dataframe tbody tr th:only-of-type {\n",
       "        vertical-align: middle;\n",
       "    }\n",
       "\n",
       "    .dataframe tbody tr th {\n",
       "        vertical-align: top;\n",
       "    }\n",
       "\n",
       "    .dataframe thead th {\n",
       "        text-align: right;\n",
       "    }\n",
       "</style>\n",
       "<table border=\"1\" class=\"dataframe\">\n",
       "  <thead>\n",
       "    <tr style=\"text-align: right;\">\n",
       "      <th></th>\n",
       "      <th>Date</th>\n",
       "      <th>Time</th>\n",
       "      <th>BidOpen</th>\n",
       "      <th>BidHigh</th>\n",
       "      <th>BidLow</th>\n",
       "      <th>BidClose</th>\n",
       "      <th>AskOpen</th>\n",
       "      <th>AskHigh</th>\n",
       "      <th>AskLow</th>\n",
       "      <th>AskClose</th>\n",
       "    </tr>\n",
       "    <tr>\n",
       "      <th>datetime</th>\n",
       "      <th></th>\n",
       "      <th></th>\n",
       "      <th></th>\n",
       "      <th></th>\n",
       "      <th></th>\n",
       "      <th></th>\n",
       "      <th></th>\n",
       "      <th></th>\n",
       "      <th></th>\n",
       "      <th></th>\n",
       "    </tr>\n",
       "  </thead>\n",
       "  <tbody>\n",
       "    <tr>\n",
       "      <th>2009-09-28 09:30:00</th>\n",
       "      <td>09/28/2009</td>\n",
       "      <td>09:30</td>\n",
       "      <td>39.06</td>\n",
       "      <td>39.06</td>\n",
       "      <td>39.06</td>\n",
       "      <td>39.06</td>\n",
       "      <td>39.13</td>\n",
       "      <td>39.13</td>\n",
       "      <td>39.13</td>\n",
       "      <td>39.13</td>\n",
       "    </tr>\n",
       "    <tr>\n",
       "      <th>2009-09-28 09:31:00</th>\n",
       "      <td>09/28/2009</td>\n",
       "      <td>09:31</td>\n",
       "      <td>39.10</td>\n",
       "      <td>39.10</td>\n",
       "      <td>39.08</td>\n",
       "      <td>39.09</td>\n",
       "      <td>39.11</td>\n",
       "      <td>39.11</td>\n",
       "      <td>39.10</td>\n",
       "      <td>39.11</td>\n",
       "    </tr>\n",
       "    <tr>\n",
       "      <th>2009-09-28 09:32:00</th>\n",
       "      <td>09/28/2009</td>\n",
       "      <td>09:32</td>\n",
       "      <td>39.11</td>\n",
       "      <td>39.15</td>\n",
       "      <td>39.11</td>\n",
       "      <td>39.15</td>\n",
       "      <td>39.12</td>\n",
       "      <td>39.16</td>\n",
       "      <td>39.12</td>\n",
       "      <td>39.16</td>\n",
       "    </tr>\n",
       "    <tr>\n",
       "      <th>2009-09-28 09:33:00</th>\n",
       "      <td>09/28/2009</td>\n",
       "      <td>09:33</td>\n",
       "      <td>39.14</td>\n",
       "      <td>39.14</td>\n",
       "      <td>39.14</td>\n",
       "      <td>39.14</td>\n",
       "      <td>39.15</td>\n",
       "      <td>39.16</td>\n",
       "      <td>39.15</td>\n",
       "      <td>39.15</td>\n",
       "    </tr>\n",
       "    <tr>\n",
       "      <th>2009-09-28 09:34:00</th>\n",
       "      <td>09/28/2009</td>\n",
       "      <td>09:34</td>\n",
       "      <td>39.14</td>\n",
       "      <td>39.14</td>\n",
       "      <td>39.12</td>\n",
       "      <td>39.12</td>\n",
       "      <td>39.15</td>\n",
       "      <td>39.15</td>\n",
       "      <td>39.14</td>\n",
       "      <td>39.14</td>\n",
       "    </tr>\n",
       "    <tr>\n",
       "      <th>...</th>\n",
       "      <td>...</td>\n",
       "      <td>...</td>\n",
       "      <td>...</td>\n",
       "      <td>...</td>\n",
       "      <td>...</td>\n",
       "      <td>...</td>\n",
       "      <td>...</td>\n",
       "      <td>...</td>\n",
       "      <td>...</td>\n",
       "      <td>...</td>\n",
       "    </tr>\n",
       "    <tr>\n",
       "      <th>2020-11-11 15:58:00</th>\n",
       "      <td>11/11/2020</td>\n",
       "      <td>15:58</td>\n",
       "      <td>122.06</td>\n",
       "      <td>122.12</td>\n",
       "      <td>122.06</td>\n",
       "      <td>122.12</td>\n",
       "      <td>122.07</td>\n",
       "      <td>122.14</td>\n",
       "      <td>122.07</td>\n",
       "      <td>122.13</td>\n",
       "    </tr>\n",
       "    <tr>\n",
       "      <th>2020-11-11 15:59:00</th>\n",
       "      <td>11/11/2020</td>\n",
       "      <td>15:59</td>\n",
       "      <td>122.10</td>\n",
       "      <td>122.11</td>\n",
       "      <td>122.06</td>\n",
       "      <td>122.09</td>\n",
       "      <td>122.12</td>\n",
       "      <td>122.15</td>\n",
       "      <td>122.07</td>\n",
       "      <td>122.13</td>\n",
       "    </tr>\n",
       "    <tr>\n",
       "      <th>2020-11-11 16:00:00</th>\n",
       "      <td>11/11/2020</td>\n",
       "      <td>16:00</td>\n",
       "      <td>122.11</td>\n",
       "      <td>122.17</td>\n",
       "      <td>122.11</td>\n",
       "      <td>122.17</td>\n",
       "      <td>122.17</td>\n",
       "      <td>122.42</td>\n",
       "      <td>122.17</td>\n",
       "      <td>122.42</td>\n",
       "    </tr>\n",
       "    <tr>\n",
       "      <th>2020-11-11 16:36:00</th>\n",
       "      <td>11/11/2020</td>\n",
       "      <td>16:36</td>\n",
       "      <td>121.14</td>\n",
       "      <td>121.14</td>\n",
       "      <td>121.14</td>\n",
       "      <td>121.14</td>\n",
       "      <td>122.50</td>\n",
       "      <td>122.50</td>\n",
       "      <td>122.50</td>\n",
       "      <td>122.50</td>\n",
       "    </tr>\n",
       "    <tr>\n",
       "      <th>2020-11-11 18:12:00</th>\n",
       "      <td>11/11/2020</td>\n",
       "      <td>18:12</td>\n",
       "      <td>121.52</td>\n",
       "      <td>121.52</td>\n",
       "      <td>121.52</td>\n",
       "      <td>121.52</td>\n",
       "      <td>122.00</td>\n",
       "      <td>122.00</td>\n",
       "      <td>122.00</td>\n",
       "      <td>122.00</td>\n",
       "    </tr>\n",
       "  </tbody>\n",
       "</table>\n",
       "<p>917804 rows × 10 columns</p>\n",
       "</div>"
      ],
      "text/plain": [
       "                           Date   Time  BidOpen  BidHigh  BidLow  BidClose  \\\n",
       "datetime                                                                     \n",
       "2009-09-28 09:30:00  09/28/2009  09:30    39.06    39.06   39.06     39.06   \n",
       "2009-09-28 09:31:00  09/28/2009  09:31    39.10    39.10   39.08     39.09   \n",
       "2009-09-28 09:32:00  09/28/2009  09:32    39.11    39.15   39.11     39.15   \n",
       "2009-09-28 09:33:00  09/28/2009  09:33    39.14    39.14   39.14     39.14   \n",
       "2009-09-28 09:34:00  09/28/2009  09:34    39.14    39.14   39.12     39.12   \n",
       "...                         ...    ...      ...      ...     ...       ...   \n",
       "2020-11-11 15:58:00  11/11/2020  15:58   122.06   122.12  122.06    122.12   \n",
       "2020-11-11 15:59:00  11/11/2020  15:59   122.10   122.11  122.06    122.09   \n",
       "2020-11-11 16:00:00  11/11/2020  16:00   122.11   122.17  122.11    122.17   \n",
       "2020-11-11 16:36:00  11/11/2020  16:36   121.14   121.14  121.14    121.14   \n",
       "2020-11-11 18:12:00  11/11/2020  18:12   121.52   121.52  121.52    121.52   \n",
       "\n",
       "                     AskOpen  AskHigh  AskLow  AskClose  \n",
       "datetime                                                 \n",
       "2009-09-28 09:30:00    39.13    39.13   39.13     39.13  \n",
       "2009-09-28 09:31:00    39.11    39.11   39.10     39.11  \n",
       "2009-09-28 09:32:00    39.12    39.16   39.12     39.16  \n",
       "2009-09-28 09:33:00    39.15    39.16   39.15     39.15  \n",
       "2009-09-28 09:34:00    39.15    39.15   39.14     39.14  \n",
       "...                      ...      ...     ...       ...  \n",
       "2020-11-11 15:58:00   122.07   122.14  122.07    122.13  \n",
       "2020-11-11 15:59:00   122.12   122.15  122.07    122.13  \n",
       "2020-11-11 16:00:00   122.17   122.42  122.17    122.42  \n",
       "2020-11-11 16:36:00   122.50   122.50  122.50    122.50  \n",
       "2020-11-11 18:12:00   122.00   122.00  122.00    122.00  \n",
       "\n",
       "[917804 rows x 10 columns]"
      ]
     },
     "execution_count": 5,
     "metadata": {},
     "output_type": "execute_result"
    }
   ],
   "source": [
    "stock_df"
   ]
  },
  {
   "cell_type": "code",
   "execution_count": 6,
   "metadata": {
    "ExecuteTime": {
     "end_time": "2020-11-13T17:55:30.172598Z",
     "start_time": "2020-11-13T17:55:30.170470Z"
    }
   },
   "outputs": [],
   "source": [
    "import plotly.express as px"
   ]
  },
  {
   "cell_type": "code",
   "execution_count": 7,
   "metadata": {
    "ExecuteTime": {
     "end_time": "2020-11-13T17:55:30.194000Z",
     "start_time": "2020-11-13T17:55:30.175195Z"
    }
   },
   "outputs": [
    {
     "data": {
      "text/html": [
       "<div>\n",
       "<style scoped>\n",
       "    .dataframe tbody tr th:only-of-type {\n",
       "        vertical-align: middle;\n",
       "    }\n",
       "\n",
       "    .dataframe tbody tr th {\n",
       "        vertical-align: top;\n",
       "    }\n",
       "\n",
       "    .dataframe thead th {\n",
       "        text-align: right;\n",
       "    }\n",
       "</style>\n",
       "<table border=\"1\" class=\"dataframe\">\n",
       "  <thead>\n",
       "    <tr style=\"text-align: right;\">\n",
       "      <th></th>\n",
       "      <th>BidOpen</th>\n",
       "      <th>BidClose</th>\n",
       "    </tr>\n",
       "    <tr>\n",
       "      <th>datetime</th>\n",
       "      <th></th>\n",
       "      <th></th>\n",
       "    </tr>\n",
       "  </thead>\n",
       "  <tbody>\n",
       "    <tr>\n",
       "      <th>2009-09-28 09:30:00</th>\n",
       "      <td>39.06</td>\n",
       "      <td>39.06</td>\n",
       "    </tr>\n",
       "    <tr>\n",
       "      <th>2009-09-28 09:31:00</th>\n",
       "      <td>39.10</td>\n",
       "      <td>39.09</td>\n",
       "    </tr>\n",
       "    <tr>\n",
       "      <th>2009-09-28 09:32:00</th>\n",
       "      <td>39.11</td>\n",
       "      <td>39.15</td>\n",
       "    </tr>\n",
       "    <tr>\n",
       "      <th>2009-09-28 09:33:00</th>\n",
       "      <td>39.14</td>\n",
       "      <td>39.14</td>\n",
       "    </tr>\n",
       "    <tr>\n",
       "      <th>2009-09-28 09:34:00</th>\n",
       "      <td>39.14</td>\n",
       "      <td>39.12</td>\n",
       "    </tr>\n",
       "    <tr>\n",
       "      <th>...</th>\n",
       "      <td>...</td>\n",
       "      <td>...</td>\n",
       "    </tr>\n",
       "    <tr>\n",
       "      <th>2020-11-11 15:58:00</th>\n",
       "      <td>122.06</td>\n",
       "      <td>122.12</td>\n",
       "    </tr>\n",
       "    <tr>\n",
       "      <th>2020-11-11 15:59:00</th>\n",
       "      <td>122.10</td>\n",
       "      <td>122.09</td>\n",
       "    </tr>\n",
       "    <tr>\n",
       "      <th>2020-11-11 16:00:00</th>\n",
       "      <td>122.11</td>\n",
       "      <td>122.17</td>\n",
       "    </tr>\n",
       "    <tr>\n",
       "      <th>2020-11-11 16:36:00</th>\n",
       "      <td>121.14</td>\n",
       "      <td>121.14</td>\n",
       "    </tr>\n",
       "    <tr>\n",
       "      <th>2020-11-11 18:12:00</th>\n",
       "      <td>121.52</td>\n",
       "      <td>121.52</td>\n",
       "    </tr>\n",
       "  </tbody>\n",
       "</table>\n",
       "<p>917804 rows × 2 columns</p>\n",
       "</div>"
      ],
      "text/plain": [
       "                     BidOpen  BidClose\n",
       "datetime                              \n",
       "2009-09-28 09:30:00    39.06     39.06\n",
       "2009-09-28 09:31:00    39.10     39.09\n",
       "2009-09-28 09:32:00    39.11     39.15\n",
       "2009-09-28 09:33:00    39.14     39.14\n",
       "2009-09-28 09:34:00    39.14     39.12\n",
       "...                      ...       ...\n",
       "2020-11-11 15:58:00   122.06    122.12\n",
       "2020-11-11 15:59:00   122.10    122.09\n",
       "2020-11-11 16:00:00   122.11    122.17\n",
       "2020-11-11 16:36:00   121.14    121.14\n",
       "2020-11-11 18:12:00   121.52    121.52\n",
       "\n",
       "[917804 rows x 2 columns]"
      ]
     },
     "execution_count": 7,
     "metadata": {},
     "output_type": "execute_result"
    }
   ],
   "source": [
    "## Make stock_ts from bidclose\n",
    "stock_ts = stock_df[['BidOpen','BidClose']]#.rename('price')\n",
    "stock_ts"
   ]
  },
  {
   "cell_type": "code",
   "execution_count": 55,
   "metadata": {
    "ExecuteTime": {
     "end_time": "2020-11-13T18:39:24.394167Z",
     "start_time": "2020-11-13T18:39:23.754086Z"
    }
   },
   "outputs": [
    {
     "data": {
      "text/plain": [
       "<AxesSubplot:xlabel='datetime'>"
      ]
     },
     "execution_count": 55,
     "metadata": {},
     "output_type": "execute_result"
    },
    {
     "data": {
      "image/png": "[encoded data removed]",
      "text/plain": [
       "<Figure size 432x288 with 1 Axes>"
      ]
     },
     "metadata": {
      "needs_background": "light"
     },
     "output_type": "display_data"
    }
   ],
   "source": [
    "# stock_ts.columns = ['price']\n",
    "## Replace 0 Values\n",
    "stock_ts[stock_ts==0] = np.nan\n",
    "stock_ts = stock_ts.ffill()\n",
    "\n",
    "## Short time period\n",
    "stock_ts = stock_ts.loc['2018':'2019']\n",
    "stock_ts.plot()"
   ]
  },
  {
   "cell_type": "code",
   "execution_count": 56,
   "metadata": {
    "ExecuteTime": {
     "end_time": "2020-11-13T18:39:24.398831Z",
     "start_time": "2020-11-13T18:39:24.395794Z"
    }
   },
   "outputs": [
    {
     "data": {
      "text/plain": [
       "'2.3.1'"
      ]
     },
     "execution_count": 56,
     "metadata": {},
     "output_type": "execute_result"
    }
   ],
   "source": [
    "import tensorflow  as tf\n",
    "from tensorflow.keras.preprocessing.sequence import TimeseriesGenerator\n",
    "tf.__version__"
   ]
  },
  {
   "cell_type": "code",
   "execution_count": 57,
   "metadata": {
    "ExecuteTime": {
     "end_time": "2020-11-13T18:39:24.716800Z",
     "start_time": "2020-11-13T18:39:24.706707Z"
    }
   },
   "outputs": [
    {
     "data": {
      "text/html": [
       "<div>\n",
       "<style scoped>\n",
       "    .dataframe tbody tr th:only-of-type {\n",
       "        vertical-align: middle;\n",
       "    }\n",
       "\n",
       "    .dataframe tbody tr th {\n",
       "        vertical-align: top;\n",
       "    }\n",
       "\n",
       "    .dataframe thead th {\n",
       "        text-align: right;\n",
       "    }\n",
       "</style>\n",
       "<table border=\"1\" class=\"dataframe\">\n",
       "  <thead>\n",
       "    <tr style=\"text-align: right;\">\n",
       "      <th></th>\n",
       "      <th>BidOpen</th>\n",
       "      <th>BidClose</th>\n",
       "    </tr>\n",
       "    <tr>\n",
       "      <th>datetime</th>\n",
       "      <th></th>\n",
       "      <th></th>\n",
       "    </tr>\n",
       "  </thead>\n",
       "  <tbody>\n",
       "    <tr>\n",
       "      <th>2018-01-02 09:29:00</th>\n",
       "      <td>106.59</td>\n",
       "      <td>106.59</td>\n",
       "    </tr>\n",
       "    <tr>\n",
       "      <th>2018-01-02 09:30:00</th>\n",
       "      <td>106.83</td>\n",
       "      <td>106.79</td>\n",
       "    </tr>\n",
       "    <tr>\n",
       "      <th>2018-01-02 09:31:00</th>\n",
       "      <td>106.78</td>\n",
       "      <td>106.80</td>\n",
       "    </tr>\n",
       "    <tr>\n",
       "      <th>2018-01-02 09:32:00</th>\n",
       "      <td>106.85</td>\n",
       "      <td>106.85</td>\n",
       "    </tr>\n",
       "    <tr>\n",
       "      <th>2018-01-02 09:33:00</th>\n",
       "      <td>106.85</td>\n",
       "      <td>106.78</td>\n",
       "    </tr>\n",
       "    <tr>\n",
       "      <th>...</th>\n",
       "      <td>...</td>\n",
       "      <td>...</td>\n",
       "    </tr>\n",
       "    <tr>\n",
       "      <th>2019-12-31 15:56:00</th>\n",
       "      <td>127.26</td>\n",
       "      <td>127.22</td>\n",
       "    </tr>\n",
       "    <tr>\n",
       "      <th>2019-12-31 15:57:00</th>\n",
       "      <td>127.18</td>\n",
       "      <td>127.17</td>\n",
       "    </tr>\n",
       "    <tr>\n",
       "      <th>2019-12-31 15:58:00</th>\n",
       "      <td>127.18</td>\n",
       "      <td>127.16</td>\n",
       "    </tr>\n",
       "    <tr>\n",
       "      <th>2019-12-31 15:59:00</th>\n",
       "      <td>127.16</td>\n",
       "      <td>127.24</td>\n",
       "    </tr>\n",
       "    <tr>\n",
       "      <th>2019-12-31 16:00:00</th>\n",
       "      <td>127.22</td>\n",
       "      <td>127.13</td>\n",
       "    </tr>\n",
       "  </tbody>\n",
       "</table>\n",
       "<p>172076 rows × 2 columns</p>\n",
       "</div>"
      ],
      "text/plain": [
       "                     BidOpen  BidClose\n",
       "datetime                              \n",
       "2018-01-02 09:29:00   106.59    106.59\n",
       "2018-01-02 09:30:00   106.83    106.79\n",
       "2018-01-02 09:31:00   106.78    106.80\n",
       "2018-01-02 09:32:00   106.85    106.85\n",
       "2018-01-02 09:33:00   106.85    106.78\n",
       "...                      ...       ...\n",
       "2019-12-31 15:56:00   127.26    127.22\n",
       "2019-12-31 15:57:00   127.18    127.17\n",
       "2019-12-31 15:58:00   127.18    127.16\n",
       "2019-12-31 15:59:00   127.16    127.24\n",
       "2019-12-31 16:00:00   127.22    127.13\n",
       "\n",
       "[172076 rows x 2 columns]"
      ]
     },
     "execution_count": 57,
     "metadata": {},
     "output_type": "execute_result"
    }
   ],
   "source": [
    "stock_ts"
   ]
  },
  {
   "cell_type": "code",
   "execution_count": 58,
   "metadata": {
    "ExecuteTime": {
     "end_time": "2020-11-13T18:39:25.773453Z",
     "start_time": "2020-11-13T18:39:25.112239Z"
    },
    "scrolled": true
   },
   "outputs": [
    {
     "data": {
      "text/plain": [
       "<AxesSubplot:xlabel='datetime'>"
      ]
     },
     "execution_count": 58,
     "metadata": {},
     "output_type": "execute_result"
    },
    {
     "data": {
      "image/png": "[encoded data removed]",
      "text/plain": [
       "<Figure size 432x288 with 1 Axes>"
      ]
     },
     "metadata": {
      "needs_background": "light"
     },
     "output_type": "display_data"
    }
   ],
   "source": [
    "int_split = round(len(stock_ts)*.8)\n",
    "train = stock_ts.iloc[:int_split]\n",
    "test = stock_ts.iloc[int_split:]\n",
    "\n",
    "fig,ax= plt.subplots()\n",
    "\n",
    "train.plot(ax=ax)\n",
    "test.plot(ax=ax)"
   ]
  },
  {
   "cell_type": "code",
   "execution_count": 59,
   "metadata": {
    "ExecuteTime": {
     "end_time": "2020-11-13T18:39:25.777293Z",
     "start_time": "2020-11-13T18:39:25.775246Z"
    }
   },
   "outputs": [],
   "source": [
    "# train['target'] = train['price'].shift(-1)\n",
    "# test['target'] = test['price'].shift(-1)\n",
    "\n",
    "# train"
   ]
  },
  {
   "cell_type": "code",
   "execution_count": 60,
   "metadata": {
    "ExecuteTime": {
     "end_time": "2020-11-13T18:39:25.790994Z",
     "start_time": "2020-11-13T18:39:25.779489Z"
    }
   },
   "outputs": [
    {
     "data": {
      "text/plain": [
       "array([[0.65631848, 0.65583942],\n",
       "       [0.665084  , 0.66313869],\n",
       "       [0.66325785, 0.66350365],\n",
       "       ...,\n",
       "       [0.73520818, 0.73467153],\n",
       "       [0.73739956, 0.73430657],\n",
       "       [0.7366691 , 0.73649635]])"
      ]
     },
     "execution_count": 60,
     "metadata": {},
     "output_type": "execute_result"
    }
   ],
   "source": [
    "from sklearn.preprocessing import MinMaxScaler\n",
    "scaler = MinMaxScaler()\n",
    "X_train = scaler.fit_transform(train)#['price'].values.reshape(-1,1))\n",
    "X_test = scaler.transform(test)#['price'].values.reshape(-1,1))\n",
    "\n",
    "X_train"
   ]
  },
  {
   "cell_type": "code",
   "execution_count": null,
   "metadata": {
    "ExecuteTime": {
     "end_time": "2020-11-13T16:44:28.367734Z",
     "start_time": "2020-11-13T16:44:28.364413Z"
    }
   },
   "outputs": [],
   "source": []
  },
  {
   "cell_type": "code",
   "execution_count": 61,
   "metadata": {
    "ExecuteTime": {
     "end_time": "2020-11-13T18:39:26.844454Z",
     "start_time": "2020-11-13T18:39:26.213658Z"
    }
   },
   "outputs": [
    {
     "data": {
      "text/plain": [
       "<AxesSubplot:xlabel='datetime'>"
      ]
     },
     "execution_count": 61,
     "metadata": {},
     "output_type": "execute_result"
    },
    {
     "data": {
      "image/png": "[encoded data removed]",
      "text/plain": [
       "<Figure size 432x288 with 1 Axes>"
      ]
     },
     "metadata": {
      "needs_background": "light"
     },
     "output_type": "display_data"
    }
   ],
   "source": [
    "X_train = pd.DataFrame(X_train,index=train.index,columns=['BidOpen','BidClose'])\n",
    "X_test = pd.DataFrame(X_test,index=test.index,columns=['BidOpen','BidClose'])\n",
    "\n",
    "fig,ax= plt.subplots()\n",
    "X_train.plot(ax=ax)\n",
    "X_test.plot(ax=ax)"
   ]
  },
  {
   "cell_type": "code",
   "execution_count": 63,
   "metadata": {
    "ExecuteTime": {
     "end_time": "2020-11-13T18:39:26.975540Z",
     "start_time": "2020-11-13T18:39:26.972378Z"
    }
   },
   "outputs": [
    {
     "data": {
      "text/plain": [
       "2"
      ]
     },
     "execution_count": 63,
     "metadata": {},
     "output_type": "execute_result"
    }
   ],
   "source": [
    "X_train.shape[1]"
   ]
  },
  {
   "cell_type": "code",
   "execution_count": 64,
   "metadata": {
    "ExecuteTime": {
     "end_time": "2020-11-13T18:39:27.478238Z",
     "start_time": "2020-11-13T18:39:27.473730Z"
    }
   },
   "outputs": [
    {
     "data": {
      "text/plain": [
       "array([[0.65631848, 0.65583942],\n",
       "       [0.665084  , 0.66313869],\n",
       "       [0.66325785, 0.66350365],\n",
       "       ...,\n",
       "       [0.73520818, 0.73467153],\n",
       "       [0.73739956, 0.73430657],\n",
       "       [0.7366691 , 0.73649635]])"
      ]
     },
     "execution_count": 64,
     "metadata": {},
     "output_type": "execute_result"
    }
   ],
   "source": [
    "## Set the number of features in input sequences\n",
    "n_features = X_train.shape[1]\n",
    "\n",
    "series = X_train.values\n",
    "series = series.reshape((len(series), n_features))\n",
    "series"
   ]
  },
  {
   "cell_type": "code",
   "execution_count": 65,
   "metadata": {
    "ExecuteTime": {
     "end_time": "2020-11-13T18:39:27.712936Z",
     "start_time": "2020-11-13T18:39:27.708654Z"
    }
   },
   "outputs": [
    {
     "data": {
      "text/plain": [
       "<tensorflow.python.keras.preprocessing.sequence.TimeseriesGenerator at 0x7fa359381208>"
      ]
     },
     "execution_count": 65,
     "metadata": {},
     "output_type": "execute_result"
    }
   ],
   "source": [
    "## Specifying the number of timesteps for the sequences\n",
    "length=60\n",
    "\n",
    "## Making the time series generator\n",
    "timeseries_gen = TimeseriesGenerator(series,series[:,1],length,batch_size=64)\n",
    "timeseries_gen"
   ]
  },
  {
   "cell_type": "code",
   "execution_count": 66,
   "metadata": {
    "ExecuteTime": {
     "end_time": "2020-11-13T18:39:28.310637Z",
     "start_time": "2020-11-13T18:39:28.306666Z"
    }
   },
   "outputs": [
    {
     "data": {
      "text/plain": [
       "(64, 60, 2)"
      ]
     },
     "execution_count": 66,
     "metadata": {},
     "output_type": "execute_result"
    }
   ],
   "source": [
    "## Testing out an individual outpuyt from timeseries_gen\n",
    "ex_X,ex_y =timeseries_gen[1]\n",
    "ex_X.shape"
   ]
  },
  {
   "cell_type": "code",
   "execution_count": 67,
   "metadata": {
    "ExecuteTime": {
     "end_time": "2020-11-13T18:39:28.601406Z",
     "start_time": "2020-11-13T18:39:28.598337Z"
    }
   },
   "outputs": [],
   "source": [
    "## Making test data\n",
    "test_series = X_test.values\n",
    "test_series = test_series.reshape((len(test_series),n_features))\n",
    "test_gen = TimeseriesGenerator(test_series,test_series[:,1],length,batch_size=64)\n"
   ]
  },
  {
   "cell_type": "code",
   "execution_count": 68,
   "metadata": {
    "ExecuteTime": {
     "end_time": "2020-11-13T18:41:25.237520Z",
     "start_time": "2020-11-13T18:39:28.990095Z"
    }
   },
   "outputs": [
    {
     "name": "stdout",
     "output_type": "stream",
     "text": [
      "Model: \"sequential_5\"\n",
      "_________________________________________________________________\n",
      "Layer (type)                 Output Shape              Param #   \n",
      "=================================================================\n",
      "lstm_5 (LSTM)                (None, 50)                10600     \n",
      "_________________________________________________________________\n",
      "dense_5 (Dense)              (None, 1)                 51        \n",
      "=================================================================\n",
      "Total params: 10,651\n",
      "Trainable params: 10,651\n",
      "Non-trainable params: 0\n",
      "_________________________________________________________________\n"
     ]
    },
    {
     "data": {
      "text/plain": [
       "None"
      ]
     },
     "metadata": {},
     "output_type": "display_data"
    },
    {
     "name": "stdout",
     "output_type": "stream",
     "text": [
      "Epoch 1/3\n",
      "2151/2151 [==============================] - 42s 20ms/step - loss: 7.4202e-04 - mse: 7.4202e-04\n",
      "Epoch 2/3\n",
      "2151/2151 [==============================] - 38s 18ms/step - loss: 2.7225e-05 - mse: 2.7225e-05\n",
      "Epoch 3/3\n",
      "2151/2151 [==============================] - 35s 16ms/step - loss: 3.2453e-05 - mse: 3.2453e-05\n"
     ]
    }
   ],
   "source": [
    "from tensorflow.keras.models import Sequential\n",
    "from tensorflow.keras import optimizers\n",
    "from tensorflow.keras.layers import Bidirectional, Dense, LSTM, Dropout\n",
    "from tensorflow.keras.regularizers import l2\n",
    "\n",
    "input_shape=(length,n_features)\n",
    "\n",
    "# Create model architecture\n",
    "model1 = Sequential()\n",
    "model1.add(LSTM(units=50,  activation='relu',\n",
    "                input_shape =input_shape,return_sequences=False))#,kernel_regularizer=l2(0.01),recurrent_regularizer=l2(0.01),\n",
    "# model1.add(LSTM(units=50, activation='relu'))\n",
    "model1.add(Dense(1))\n",
    "\n",
    "model1.compile(loss='mse', metrics=['mse'],\n",
    "              optimizer=optimizers.Adam())\n",
    "\n",
    "display(model1.summary())\n",
    "history = model1.fit(timeseries_gen,epochs=3)"
   ]
  },
  {
   "cell_type": "code",
   "execution_count": 69,
   "metadata": {
    "ExecuteTime": {
     "end_time": "2020-11-13T18:41:25.246055Z",
     "start_time": "2020-11-13T18:41:25.239110Z"
    }
   },
   "outputs": [
    {
     "data": {
      "text/html": [
       "<div>\n",
       "<style scoped>\n",
       "    .dataframe tbody tr th:only-of-type {\n",
       "        vertical-align: middle;\n",
       "    }\n",
       "\n",
       "    .dataframe tbody tr th {\n",
       "        vertical-align: top;\n",
       "    }\n",
       "\n",
       "    .dataframe thead th {\n",
       "        text-align: right;\n",
       "    }\n",
       "</style>\n",
       "<table border=\"1\" class=\"dataframe\">\n",
       "  <thead>\n",
       "    <tr style=\"text-align: right;\">\n",
       "      <th></th>\n",
       "      <th>loss</th>\n",
       "      <th>mse</th>\n",
       "    </tr>\n",
       "  </thead>\n",
       "  <tbody>\n",
       "    <tr>\n",
       "      <th>0</th>\n",
       "      <td>0.000742</td>\n",
       "      <td>0.000742</td>\n",
       "    </tr>\n",
       "    <tr>\n",
       "      <th>1</th>\n",
       "      <td>0.000027</td>\n",
       "      <td>0.000027</td>\n",
       "    </tr>\n",
       "    <tr>\n",
       "      <th>2</th>\n",
       "      <td>0.000032</td>\n",
       "      <td>0.000032</td>\n",
       "    </tr>\n",
       "  </tbody>\n",
       "</table>\n",
       "</div>"
      ],
      "text/plain": [
       "       loss       mse\n",
       "0  0.000742  0.000742\n",
       "1  0.000027  0.000027\n",
       "2  0.000032  0.000032"
      ]
     },
     "execution_count": 69,
     "metadata": {},
     "output_type": "execute_result"
    }
   ],
   "source": [
    "results= pd.DataFrame(history.history)\n",
    "results"
   ]
  },
  {
   "cell_type": "code",
   "execution_count": 70,
   "metadata": {
    "ExecuteTime": {
     "end_time": "2020-11-13T18:41:28.229599Z",
     "start_time": "2020-11-13T18:41:25.248281Z"
    }
   },
   "outputs": [],
   "source": [
    "y_hat_test = model1.predict(test_gen)"
   ]
  },
  {
   "cell_type": "code",
   "execution_count": 81,
   "metadata": {
    "ExecuteTime": {
     "end_time": "2020-11-13T18:45:02.682523Z",
     "start_time": "2020-11-13T18:45:02.673233Z"
    }
   },
   "outputs": [
    {
     "data": {
      "text/html": [
       "<div>\n",
       "<style scoped>\n",
       "    .dataframe tbody tr th:only-of-type {\n",
       "        vertical-align: middle;\n",
       "    }\n",
       "\n",
       "    .dataframe tbody tr th {\n",
       "        vertical-align: top;\n",
       "    }\n",
       "\n",
       "    .dataframe thead th {\n",
       "        text-align: right;\n",
       "    }\n",
       "</style>\n",
       "<table border=\"1\" class=\"dataframe\">\n",
       "  <thead>\n",
       "    <tr style=\"text-align: right;\">\n",
       "      <th></th>\n",
       "      <th>BidOpen</th>\n",
       "      <th>BidClose</th>\n",
       "    </tr>\n",
       "    <tr>\n",
       "      <th>datetime</th>\n",
       "      <th></th>\n",
       "      <th></th>\n",
       "    </tr>\n",
       "  </thead>\n",
       "  <tbody>\n",
       "    <tr>\n",
       "      <th>2019-08-07 12:25:00</th>\n",
       "      <td>0.737400</td>\n",
       "      <td>0.736496</td>\n",
       "    </tr>\n",
       "    <tr>\n",
       "      <th>2019-08-07 12:26:00</th>\n",
       "      <td>0.737400</td>\n",
       "      <td>0.734672</td>\n",
       "    </tr>\n",
       "    <tr>\n",
       "      <th>2019-08-07 12:27:00</th>\n",
       "      <td>0.738495</td>\n",
       "      <td>0.737956</td>\n",
       "    </tr>\n",
       "    <tr>\n",
       "      <th>2019-08-07 12:28:00</th>\n",
       "      <td>0.740321</td>\n",
       "      <td>0.739781</td>\n",
       "    </tr>\n",
       "    <tr>\n",
       "      <th>2019-08-07 12:29:00</th>\n",
       "      <td>0.740687</td>\n",
       "      <td>0.740146</td>\n",
       "    </tr>\n",
       "    <tr>\n",
       "      <th>...</th>\n",
       "      <td>...</td>\n",
       "      <td>...</td>\n",
       "    </tr>\n",
       "    <tr>\n",
       "      <th>2019-12-31 15:56:00</th>\n",
       "      <td>1.411249</td>\n",
       "      <td>1.408759</td>\n",
       "    </tr>\n",
       "    <tr>\n",
       "      <th>2019-12-31 15:57:00</th>\n",
       "      <td>1.408327</td>\n",
       "      <td>1.406934</td>\n",
       "    </tr>\n",
       "    <tr>\n",
       "      <th>2019-12-31 15:58:00</th>\n",
       "      <td>1.408327</td>\n",
       "      <td>1.406569</td>\n",
       "    </tr>\n",
       "    <tr>\n",
       "      <th>2019-12-31 15:59:00</th>\n",
       "      <td>1.407597</td>\n",
       "      <td>1.409489</td>\n",
       "    </tr>\n",
       "    <tr>\n",
       "      <th>2019-12-31 16:00:00</th>\n",
       "      <td>1.409788</td>\n",
       "      <td>1.405474</td>\n",
       "    </tr>\n",
       "  </tbody>\n",
       "</table>\n",
       "<p>34415 rows × 2 columns</p>\n",
       "</div>"
      ],
      "text/plain": [
       "                      BidOpen  BidClose\n",
       "datetime                               \n",
       "2019-08-07 12:25:00  0.737400  0.736496\n",
       "2019-08-07 12:26:00  0.737400  0.734672\n",
       "2019-08-07 12:27:00  0.738495  0.737956\n",
       "2019-08-07 12:28:00  0.740321  0.739781\n",
       "2019-08-07 12:29:00  0.740687  0.740146\n",
       "...                       ...       ...\n",
       "2019-12-31 15:56:00  1.411249  1.408759\n",
       "2019-12-31 15:57:00  1.408327  1.406934\n",
       "2019-12-31 15:58:00  1.408327  1.406569\n",
       "2019-12-31 15:59:00  1.407597  1.409489\n",
       "2019-12-31 16:00:00  1.409788  1.405474\n",
       "\n",
       "[34415 rows x 2 columns]"
      ]
     },
     "execution_count": 81,
     "metadata": {},
     "output_type": "execute_result"
    }
   ],
   "source": [
    "X_test"
   ]
  },
  {
   "cell_type": "code",
   "execution_count": 83,
   "metadata": {
    "ExecuteTime": {
     "end_time": "2020-11-13T18:45:32.352332Z",
     "start_time": "2020-11-13T18:45:31.744087Z"
    }
   },
   "outputs": [
    {
     "data": {
      "text/plain": [
       "<matplotlib.legend.Legend at 0x7fa364338c88>"
      ]
     },
     "execution_count": 83,
     "metadata": {},
     "output_type": "execute_result"
    },
    {
     "data": {
      "image/png": "[encoded data removed]",
      "text/plain": [
       "<Figure size 432x288 with 1 Axes>"
      ]
     },
     "metadata": {
      "needs_background": "light"
     },
     "output_type": "display_data"
    }
   ],
   "source": [
    "fig,ax = plt.subplots()\n",
    "X_train.plot(ax=ax)\n",
    "X_test['BidClose'].plot(ax=ax,label='Test')\n",
    "ax.plot(X_test[length:].index,y_hat_test.flatten(),label='Predicted')\n",
    "ax.legend()"
   ]
  },
  {
   "cell_type": "code",
   "execution_count": null,
   "metadata": {},
   "outputs": [],
   "source": []
  }
 ],
 "metadata": {
  "kernelspec": {
   "display_name": "learn-env",
   "language": "python",
   "name": "learn-env"
  },
  "language_info": {
   "codemirror_mode": {
    "name": "ipython",
    "version": 3
   },
   "file_extension": ".py",
   "mimetype": "text/x-python",
   "name": "python",
   "nbconvert_exporter": "python",
   "pygments_lexer": "ipython3",
   "version": "3.6.11"
  },
  "toc": {
   "base_numbering": 1,
   "nav_menu": {},
   "number_sections": true,
   "sideBar": true,
   "skip_h1_title": false,
   "title_cell": "Table of Contents",
   "title_sidebar": "Contents",
   "toc_cell": false,
   "toc_position": {},
   "toc_section_display": true,
   "toc_window_display": true
  }
 },
 "nbformat": 4,
 "nbformat_minor": 4
}
