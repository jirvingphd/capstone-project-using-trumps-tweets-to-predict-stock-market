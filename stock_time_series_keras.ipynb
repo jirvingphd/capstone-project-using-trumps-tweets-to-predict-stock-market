{
 "cells": [
  {
   "cell_type": "markdown",
   "metadata": {},
   "source": [
    "# Time Series Modeling with Keras"
   ]
  },
  {
   "cell_type": "code",
   "execution_count": 14,
   "metadata": {
    "ExecuteTime": {
     "end_time": "2020-11-12T18:59:26.154377Z",
     "start_time": "2020-11-12T18:59:26.152108Z"
    }
   },
   "outputs": [],
   "source": [
    "DOWNLOAD_DATA=True"
   ]
  },
  {
   "cell_type": "code",
   "execution_count": 15,
   "metadata": {
    "ExecuteTime": {
     "end_time": "2020-11-12T18:59:28.681172Z",
     "start_time": "2020-11-12T18:59:26.350845Z"
    }
   },
   "outputs": [
    {
     "name": "stdout",
     "output_type": "stream",
     "text": [
      "Requirement already up-to-date: fsds in /opt/anaconda3/envs/learn-env/lib/python3.6/site-packages (0.2.27)\n",
      "Requirement already satisfied, skipping upgrade: ipywidgets in /opt/anaconda3/envs/learn-env/lib/python3.6/site-packages (from fsds) (7.5.1)\n",
      "Requirement already satisfied, skipping upgrade: numpy>=1.18 in /opt/anaconda3/envs/learn-env/lib/python3.6/site-packages (from fsds) (1.18.5)\n",
      "Requirement already satisfied, skipping upgrade: missingno in /opt/anaconda3/envs/learn-env/lib/python3.6/site-packages (from fsds) (0.4.2)\n",
      "Requirement already satisfied, skipping upgrade: scipy in /Users/jamesirving/.local/lib/python3.6/site-packages (from fsds) (1.5.1)\n",
      "Requirement already satisfied, skipping upgrade: pyperclip in /opt/anaconda3/envs/learn-env/lib/python3.6/site-packages (from fsds) (1.8.0)\n",
      "Requirement already satisfied, skipping upgrade: seaborn>=0.10.0 in /opt/anaconda3/envs/learn-env/lib/python3.6/site-packages (from fsds) (0.11.0)\n",
      "Requirement already satisfied, skipping upgrade: IPython in /opt/anaconda3/envs/learn-env/lib/python3.6/site-packages (from fsds) (7.16.1)\n",
      "Requirement already satisfied, skipping upgrade: scikit-learn>=0.23.1 in /opt/anaconda3/envs/learn-env/lib/python3.6/site-packages (from fsds) (0.23.2)\n",
      "Requirement already satisfied, skipping upgrade: pandas>=1.0.0 in /opt/anaconda3/envs/learn-env/lib/python3.6/site-packages (from fsds) (1.1.1)\n",
      "Requirement already satisfied, skipping upgrade: tzlocal in /opt/anaconda3/envs/learn-env/lib/python3.6/site-packages (from fsds) (2.1)\n",
      "Requirement already satisfied, skipping upgrade: cufflinks>=0.17.0 in /opt/anaconda3/envs/learn-env/lib/python3.6/site-packages (from fsds) (0.17.3)\n",
      "Requirement already satisfied, skipping upgrade: matplotlib>=3.3.2 in /opt/anaconda3/envs/learn-env/lib/python3.6/site-packages (from fsds) (3.3.2)\n",
      "Requirement already satisfied, skipping upgrade: widgetsnbextension~=3.5.0 in /opt/anaconda3/envs/learn-env/lib/python3.6/site-packages (from ipywidgets->fsds) (3.5.1)\n",
      "Requirement already satisfied, skipping upgrade: nbformat>=4.2.0 in /opt/anaconda3/envs/learn-env/lib/python3.6/site-packages (from ipywidgets->fsds) (5.0.7)\n",
      "Requirement already satisfied, skipping upgrade: traitlets>=4.3.1 in /opt/anaconda3/envs/learn-env/lib/python3.6/site-packages (from ipywidgets->fsds) (4.3.3)\n",
      "Requirement already satisfied, skipping upgrade: ipykernel>=4.5.1 in /opt/anaconda3/envs/learn-env/lib/python3.6/site-packages (from ipywidgets->fsds) (5.3.4)\n",
      "Requirement already satisfied, skipping upgrade: prompt-toolkit!=3.0.0,!=3.0.1,<3.1.0,>=2.0.0 in /opt/anaconda3/envs/learn-env/lib/python3.6/site-packages (from IPython->fsds) (3.0.5)\n",
      "Requirement already satisfied, skipping upgrade: backcall in /opt/anaconda3/envs/learn-env/lib/python3.6/site-packages (from IPython->fsds) (0.2.0)\n",
      "Requirement already satisfied, skipping upgrade: jedi>=0.10 in /opt/anaconda3/envs/learn-env/lib/python3.6/site-packages (from IPython->fsds) (0.17.2)\n",
      "Requirement already satisfied, skipping upgrade: appnope; sys_platform == \"darwin\" in /opt/anaconda3/envs/learn-env/lib/python3.6/site-packages (from IPython->fsds) (0.1.0)\n",
      "Requirement already satisfied, skipping upgrade: decorator in /opt/anaconda3/envs/learn-env/lib/python3.6/site-packages (from IPython->fsds) (4.4.2)\n",
      "Requirement already satisfied, skipping upgrade: setuptools>=18.5 in /Users/jamesirving/.local/lib/python3.6/site-packages (from IPython->fsds) (46.1.2)\n",
      "Requirement already satisfied, skipping upgrade: pickleshare in /opt/anaconda3/envs/learn-env/lib/python3.6/site-packages (from IPython->fsds) (0.7.5)\n",
      "Requirement already satisfied, skipping upgrade: pexpect; sys_platform != \"win32\" in /opt/anaconda3/envs/learn-env/lib/python3.6/site-packages (from IPython->fsds) (4.8.0)\n",
      "Requirement already satisfied, skipping upgrade: pygments in /opt/anaconda3/envs/learn-env/lib/python3.6/site-packages (from IPython->fsds) (2.6.1)\n",
      "Requirement already satisfied, skipping upgrade: threadpoolctl>=2.0.0 in /opt/anaconda3/envs/learn-env/lib/python3.6/site-packages (from scikit-learn>=0.23.1->fsds) (2.1.0)\n",
      "Requirement already satisfied, skipping upgrade: joblib>=0.11 in /opt/anaconda3/envs/learn-env/lib/python3.6/site-packages (from scikit-learn>=0.23.1->fsds) (0.16.0)\n",
      "Requirement already satisfied, skipping upgrade: pytz>=2017.2 in /opt/anaconda3/envs/learn-env/lib/python3.6/site-packages (from pandas>=1.0.0->fsds) (2020.1)\n",
      "Requirement already satisfied, skipping upgrade: python-dateutil>=2.7.3 in /opt/anaconda3/envs/learn-env/lib/python3.6/site-packages (from pandas>=1.0.0->fsds) (2.8.1)\n",
      "Requirement already satisfied, skipping upgrade: colorlover>=0.2.1 in /opt/anaconda3/envs/learn-env/lib/python3.6/site-packages (from cufflinks>=0.17.0->fsds) (0.3.0)\n",
      "Requirement already satisfied, skipping upgrade: plotly>=4.1.1 in /opt/anaconda3/envs/learn-env/lib/python3.6/site-packages (from cufflinks>=0.17.0->fsds) (4.11.0)\n",
      "Requirement already satisfied, skipping upgrade: six>=1.9.0 in /opt/anaconda3/envs/learn-env/lib/python3.6/site-packages (from cufflinks>=0.17.0->fsds) (1.15.0)\n",
      "Requirement already satisfied, skipping upgrade: pillow>=6.2.0 in /opt/anaconda3/envs/learn-env/lib/python3.6/site-packages (from matplotlib>=3.3.2->fsds) (7.2.0)\n",
      "Requirement already satisfied, skipping upgrade: certifi>=2020.06.20 in /opt/anaconda3/envs/learn-env/lib/python3.6/site-packages (from matplotlib>=3.3.2->fsds) (2020.6.20)\n",
      "Requirement already satisfied, skipping upgrade: kiwisolver>=1.0.1 in /opt/anaconda3/envs/learn-env/lib/python3.6/site-packages (from matplotlib>=3.3.2->fsds) (1.2.0)\n",
      "Requirement already satisfied, skipping upgrade: pyparsing!=2.0.4,!=2.1.2,!=2.1.6,>=2.0.3 in /opt/anaconda3/envs/learn-env/lib/python3.6/site-packages (from matplotlib>=3.3.2->fsds) (2.4.7)\n",
      "Requirement already satisfied, skipping upgrade: cycler>=0.10 in /opt/anaconda3/envs/learn-env/lib/python3.6/site-packages (from matplotlib>=3.3.2->fsds) (0.10.0)\n",
      "Requirement already satisfied, skipping upgrade: notebook>=4.4.1 in /opt/anaconda3/envs/learn-env/lib/python3.6/site-packages (from widgetsnbextension~=3.5.0->ipywidgets->fsds) (6.0.3)\n",
      "Requirement already satisfied, skipping upgrade: ipython-genutils in /opt/anaconda3/envs/learn-env/lib/python3.6/site-packages (from nbformat>=4.2.0->ipywidgets->fsds) (0.2.0)\n",
      "Requirement already satisfied, skipping upgrade: jsonschema!=2.5.0,>=2.4 in /opt/anaconda3/envs/learn-env/lib/python3.6/site-packages (from nbformat>=4.2.0->ipywidgets->fsds) (3.2.0)\n",
      "Requirement already satisfied, skipping upgrade: jupyter-core in /opt/anaconda3/envs/learn-env/lib/python3.6/site-packages (from nbformat>=4.2.0->ipywidgets->fsds) (4.6.3)\n",
      "Requirement already satisfied, skipping upgrade: jupyter-client in /opt/anaconda3/envs/learn-env/lib/python3.6/site-packages (from ipykernel>=4.5.1->ipywidgets->fsds) (6.1.6)\n",
      "Requirement already satisfied, skipping upgrade: tornado>=4.2 in /opt/anaconda3/envs/learn-env/lib/python3.6/site-packages (from ipykernel>=4.5.1->ipywidgets->fsds) (6.0.4)\n",
      "Requirement already satisfied, skipping upgrade: wcwidth in /opt/anaconda3/envs/learn-env/lib/python3.6/site-packages (from prompt-toolkit!=3.0.0,!=3.0.1,<3.1.0,>=2.0.0->IPython->fsds) (0.2.5)\n",
      "Requirement already satisfied, skipping upgrade: parso<0.8.0,>=0.7.0 in /opt/anaconda3/envs/learn-env/lib/python3.6/site-packages (from jedi>=0.10->IPython->fsds) (0.7.1)\n",
      "Requirement already satisfied, skipping upgrade: ptyprocess>=0.5 in /opt/anaconda3/envs/learn-env/lib/python3.6/site-packages (from pexpect; sys_platform != \"win32\"->IPython->fsds) (0.6.0)\n",
      "Requirement already satisfied, skipping upgrade: retrying>=1.3.3 in /opt/anaconda3/envs/learn-env/lib/python3.6/site-packages (from plotly>=4.1.1->cufflinks>=0.17.0->fsds) (1.3.3)\n",
      "Requirement already satisfied, skipping upgrade: jinja2 in /opt/anaconda3/envs/learn-env/lib/python3.6/site-packages (from notebook>=4.4.1->widgetsnbextension~=3.5.0->ipywidgets->fsds) (2.11.2)\n",
      "Requirement already satisfied, skipping upgrade: Send2Trash in /opt/anaconda3/envs/learn-env/lib/python3.6/site-packages (from notebook>=4.4.1->widgetsnbextension~=3.5.0->ipywidgets->fsds) (1.5.0)\n",
      "Requirement already satisfied, skipping upgrade: terminado>=0.8.1 in /opt/anaconda3/envs/learn-env/lib/python3.6/site-packages (from notebook>=4.4.1->widgetsnbextension~=3.5.0->ipywidgets->fsds) (0.8.3)\n",
      "Requirement already satisfied, skipping upgrade: prometheus-client in /opt/anaconda3/envs/learn-env/lib/python3.6/site-packages (from notebook>=4.4.1->widgetsnbextension~=3.5.0->ipywidgets->fsds) (0.8.0)\n"
     ]
    },
    {
     "name": "stdout",
     "output_type": "stream",
     "text": [
      "Requirement already satisfied, skipping upgrade: nbconvert in /opt/anaconda3/envs/learn-env/lib/python3.6/site-packages (from notebook>=4.4.1->widgetsnbextension~=3.5.0->ipywidgets->fsds) (5.6.1)\n",
      "Requirement already satisfied, skipping upgrade: pyzmq>=17 in /opt/anaconda3/envs/learn-env/lib/python3.6/site-packages (from notebook>=4.4.1->widgetsnbextension~=3.5.0->ipywidgets->fsds) (19.0.1)\n",
      "Requirement already satisfied, skipping upgrade: attrs>=17.4.0 in /opt/anaconda3/envs/learn-env/lib/python3.6/site-packages (from jsonschema!=2.5.0,>=2.4->nbformat>=4.2.0->ipywidgets->fsds) (19.3.0)\n",
      "Requirement already satisfied, skipping upgrade: pyrsistent>=0.14.0 in /opt/anaconda3/envs/learn-env/lib/python3.6/site-packages (from jsonschema!=2.5.0,>=2.4->nbformat>=4.2.0->ipywidgets->fsds) (0.16.0)\n",
      "Requirement already satisfied, skipping upgrade: importlib-metadata; python_version < \"3.8\" in /opt/anaconda3/envs/learn-env/lib/python3.6/site-packages (from jsonschema!=2.5.0,>=2.4->nbformat>=4.2.0->ipywidgets->fsds) (0.23)\n",
      "Requirement already satisfied, skipping upgrade: MarkupSafe>=0.23 in /opt/anaconda3/envs/learn-env/lib/python3.6/site-packages (from jinja2->notebook>=4.4.1->widgetsnbextension~=3.5.0->ipywidgets->fsds) (1.1.1)\n",
      "Requirement already satisfied, skipping upgrade: defusedxml in /opt/anaconda3/envs/learn-env/lib/python3.6/site-packages (from nbconvert->notebook>=4.4.1->widgetsnbextension~=3.5.0->ipywidgets->fsds) (0.6.0)\n",
      "Requirement already satisfied, skipping upgrade: bleach in /opt/anaconda3/envs/learn-env/lib/python3.6/site-packages (from nbconvert->notebook>=4.4.1->widgetsnbextension~=3.5.0->ipywidgets->fsds) (3.1.5)\n",
      "Requirement already satisfied, skipping upgrade: entrypoints>=0.2.2 in /opt/anaconda3/envs/learn-env/lib/python3.6/site-packages (from nbconvert->notebook>=4.4.1->widgetsnbextension~=3.5.0->ipywidgets->fsds) (0.3)\n",
      "Requirement already satisfied, skipping upgrade: pandocfilters>=1.4.1 in /opt/anaconda3/envs/learn-env/lib/python3.6/site-packages (from nbconvert->notebook>=4.4.1->widgetsnbextension~=3.5.0->ipywidgets->fsds) (1.4.2)\n",
      "Requirement already satisfied, skipping upgrade: testpath in /opt/anaconda3/envs/learn-env/lib/python3.6/site-packages (from nbconvert->notebook>=4.4.1->widgetsnbextension~=3.5.0->ipywidgets->fsds) (0.4.4)\n",
      "Requirement already satisfied, skipping upgrade: mistune<2,>=0.8.1 in /opt/anaconda3/envs/learn-env/lib/python3.6/site-packages (from nbconvert->notebook>=4.4.1->widgetsnbextension~=3.5.0->ipywidgets->fsds) (0.8.4)\n",
      "Requirement already satisfied, skipping upgrade: zipp>=0.5 in /opt/anaconda3/envs/learn-env/lib/python3.6/site-packages (from importlib-metadata; python_version < \"3.8\"->jsonschema!=2.5.0,>=2.4->nbformat>=4.2.0->ipywidgets->fsds) (3.3.0)\n",
      "Requirement already satisfied, skipping upgrade: packaging in /opt/anaconda3/envs/learn-env/lib/python3.6/site-packages (from bleach->nbconvert->notebook>=4.4.1->widgetsnbextension~=3.5.0->ipywidgets->fsds) (20.4)\n",
      "Requirement already satisfied, skipping upgrade: webencodings in /opt/anaconda3/envs/learn-env/lib/python3.6/site-packages (from bleach->nbconvert->notebook>=4.4.1->widgetsnbextension~=3.5.0->ipywidgets->fsds) (0.5.1)\n"
     ]
    }
   ],
   "source": [
    "!pip install -U fsds\n",
    "from fsds.imports import *"
   ]
  },
  {
   "cell_type": "code",
   "execution_count": 16,
   "metadata": {
    "ExecuteTime": {
     "end_time": "2020-11-12T18:59:28.692711Z",
     "start_time": "2020-11-12T18:59:28.684355Z"
    }
   },
   "outputs": [],
   "source": [
    "import requests\n",
    "import datetime as dt \n",
    "import glob,time,os\n",
    "def download_stock_data(fpath='data/ive_minute_tick_bidask_API.csv',\n",
    "                       verbose=True,append_date=True):\n",
    "    \"\"\"Downloads up-to-date IVE S&P 500 1-min aggregate data from \n",
    "    http://www.kibot.com/free_historical_data.aspx\n",
    "    \n",
    "    Args:\n",
    "        fpath (str): csv filepath to save (Default='data/ive_minute_tick_bidask_API.csv')\n",
    "        verbose (bool): Display file info (Default=True)\n",
    "        \n",
    "    Returns:\n",
    "        stock_df: DataFrame with correct headers and datetime index\"\"\"\n",
    "    agg_url = 'http://api.kibot.com/?action=history&symbol=IVE&interval=tickbidask1&bp=1&user=guest'\n",
    "    response = requests.get(agg_url,\n",
    "                            allow_redirects=True)\n",
    "\n",
    "    ## Save output to csv file\n",
    "    with open(fpath,'wb') as file:\n",
    "        file.write(response.content)\n",
    "        \n",
    "        \n",
    "    ## Load in Stock Data Frame with headers (then save)\n",
    "    headers = ['Date','Time','BidOpen','BidHigh','BidLow','BidClose','AskOpen','AskHigh','AskLow','AskClose']\n",
    "    stock_df = pd.read_csv(fpath,names=headers)\n",
    "\n",
    "# \n",
    "    ## Make Combined Date Time column and Drop Origs\n",
    "    stock_df['datetime'] = pd.to_datetime(stock_df['Date'].astype(str)+' '+stock_df['Time'].astype(str))\n",
    "    \n",
    "    if append_date:\n",
    "        suffix = dt.date.today().strftime('%m-%d-%y')\n",
    "        fpath = f\"{fpath.split('.csv')[0]}_{suffix}.csv\"\n",
    "        \n",
    "    print(f'Saving as {fpath}')\n",
    "    stock_df.to_csv(fpath,index=False)\n",
    "        \n",
    "    if verbose:\n",
    "        print('[i] Stock data successfully downloaded and saved as:')\n",
    "        print(' - ',fpath)\n",
    "        \n",
    "    return pd.read_csv(fpath,parse_dates=['datetime'],index_col='datetime')"
   ]
  },
  {
   "cell_type": "code",
   "execution_count": 17,
   "metadata": {
    "ExecuteTime": {
     "end_time": "2020-11-12T19:03:59.920124Z",
     "start_time": "2020-11-12T18:59:28.695108Z"
    }
   },
   "outputs": [
    {
     "name": "stdout",
     "output_type": "stream",
     "text": [
      "[i] Downoading data sets...\n",
      "Saving as data/ive_minute_tick_bidask_API_11-12-20.csv\n",
      "[i] Stock data successfully downloaded and saved as:\n",
      " -  data/ive_minute_tick_bidask_API_11-12-20.csv\n"
     ]
    },
    {
     "data": {
      "text/html": [
       "<div>\n",
       "<style scoped>\n",
       "    .dataframe tbody tr th:only-of-type {\n",
       "        vertical-align: middle;\n",
       "    }\n",
       "\n",
       "    .dataframe tbody tr th {\n",
       "        vertical-align: top;\n",
       "    }\n",
       "\n",
       "    .dataframe thead th {\n",
       "        text-align: right;\n",
       "    }\n",
       "</style>\n",
       "<table border=\"1\" class=\"dataframe\">\n",
       "  <thead>\n",
       "    <tr style=\"text-align: right;\">\n",
       "      <th></th>\n",
       "      <th>Date</th>\n",
       "      <th>Time</th>\n",
       "      <th>BidOpen</th>\n",
       "      <th>BidHigh</th>\n",
       "      <th>BidLow</th>\n",
       "      <th>BidClose</th>\n",
       "      <th>AskOpen</th>\n",
       "      <th>AskHigh</th>\n",
       "      <th>AskLow</th>\n",
       "      <th>AskClose</th>\n",
       "    </tr>\n",
       "    <tr>\n",
       "      <th>datetime</th>\n",
       "      <th></th>\n",
       "      <th></th>\n",
       "      <th></th>\n",
       "      <th></th>\n",
       "      <th></th>\n",
       "      <th></th>\n",
       "      <th></th>\n",
       "      <th></th>\n",
       "      <th></th>\n",
       "      <th></th>\n",
       "    </tr>\n",
       "  </thead>\n",
       "  <tbody>\n",
       "    <tr>\n",
       "      <th>2009-09-28 09:30:00</th>\n",
       "      <td>09/28/2009</td>\n",
       "      <td>09:30</td>\n",
       "      <td>39.06</td>\n",
       "      <td>39.06</td>\n",
       "      <td>39.06</td>\n",
       "      <td>39.06</td>\n",
       "      <td>39.13</td>\n",
       "      <td>39.13</td>\n",
       "      <td>39.13</td>\n",
       "      <td>39.13</td>\n",
       "    </tr>\n",
       "    <tr>\n",
       "      <th>2009-09-28 09:31:00</th>\n",
       "      <td>09/28/2009</td>\n",
       "      <td>09:31</td>\n",
       "      <td>39.10</td>\n",
       "      <td>39.10</td>\n",
       "      <td>39.08</td>\n",
       "      <td>39.09</td>\n",
       "      <td>39.11</td>\n",
       "      <td>39.11</td>\n",
       "      <td>39.10</td>\n",
       "      <td>39.11</td>\n",
       "    </tr>\n",
       "    <tr>\n",
       "      <th>2009-09-28 09:32:00</th>\n",
       "      <td>09/28/2009</td>\n",
       "      <td>09:32</td>\n",
       "      <td>39.11</td>\n",
       "      <td>39.15</td>\n",
       "      <td>39.11</td>\n",
       "      <td>39.15</td>\n",
       "      <td>39.12</td>\n",
       "      <td>39.16</td>\n",
       "      <td>39.12</td>\n",
       "      <td>39.16</td>\n",
       "    </tr>\n",
       "    <tr>\n",
       "      <th>2009-09-28 09:33:00</th>\n",
       "      <td>09/28/2009</td>\n",
       "      <td>09:33</td>\n",
       "      <td>39.14</td>\n",
       "      <td>39.14</td>\n",
       "      <td>39.14</td>\n",
       "      <td>39.14</td>\n",
       "      <td>39.15</td>\n",
       "      <td>39.16</td>\n",
       "      <td>39.15</td>\n",
       "      <td>39.15</td>\n",
       "    </tr>\n",
       "    <tr>\n",
       "      <th>2009-09-28 09:34:00</th>\n",
       "      <td>09/28/2009</td>\n",
       "      <td>09:34</td>\n",
       "      <td>39.14</td>\n",
       "      <td>39.14</td>\n",
       "      <td>39.12</td>\n",
       "      <td>39.12</td>\n",
       "      <td>39.15</td>\n",
       "      <td>39.15</td>\n",
       "      <td>39.14</td>\n",
       "      <td>39.14</td>\n",
       "    </tr>\n",
       "  </tbody>\n",
       "</table>\n",
       "</div>"
      ],
      "text/plain": [
       "                           Date   Time  BidOpen  BidHigh  BidLow  BidClose  \\\n",
       "datetime                                                                     \n",
       "2009-09-28 09:30:00  09/28/2009  09:30    39.06    39.06   39.06     39.06   \n",
       "2009-09-28 09:31:00  09/28/2009  09:31    39.10    39.10   39.08     39.09   \n",
       "2009-09-28 09:32:00  09/28/2009  09:32    39.11    39.15   39.11     39.15   \n",
       "2009-09-28 09:33:00  09/28/2009  09:33    39.14    39.14   39.14     39.14   \n",
       "2009-09-28 09:34:00  09/28/2009  09:34    39.14    39.14   39.12     39.12   \n",
       "\n",
       "                     AskOpen  AskHigh  AskLow  AskClose  \n",
       "datetime                                                 \n",
       "2009-09-28 09:30:00    39.13    39.13   39.13     39.13  \n",
       "2009-09-28 09:31:00    39.11    39.11   39.10     39.11  \n",
       "2009-09-28 09:32:00    39.12    39.16   39.12     39.16  \n",
       "2009-09-28 09:33:00    39.15    39.16   39.15     39.15  \n",
       "2009-09-28 09:34:00    39.15    39.15   39.14     39.14  "
      ]
     },
     "metadata": {},
     "output_type": "display_data"
    }
   ],
   "source": [
    "## DOWNLOAD THE DATA IF REQUESTED\n",
    "if DOWNLOAD_DATA:\n",
    "    print('[i] Downoading data sets...')\n",
    "    stock_df = download_stock_data()\n",
    "    \n",
    "else: \n",
    "    print('[i] Loading most recent data sets...')\n",
    "    ## Get list of current csvs\n",
    "    files_glob = glob.glob('data/*.csv')\n",
    "    stock_files = list(filter(lambda x: 'ive_minute' in x, files_glob))\n",
    "\n",
    "\n",
    "    ## make dictionaries of file date modifieds\n",
    "    STOCK_FILES = {}\n",
    "    for file in stock_files:\n",
    "        STOCK_FILES[file] = pd.to_datetime(time.ctime(os.path.getmtime(file)))\n",
    "\n",
    "        \n",
    "    ## Get most recent files\n",
    "    recent_stocks = pd.Series(STOCK_FILES).idxmax()\n",
    "    \n",
    "    ## Load in the csvs \n",
    "    stock_df = pd.read_csv(recent_stocks,parse_dates=['datetime'],index_col='datetime')\n",
    "    \n",
    "    ## Sort timeseries\n",
    "    stock_df.sort_index(inplace=True)\n",
    "## Display Preview of DFs\n",
    "display(stock_df.head())#,tweets.head())"
   ]
  },
  {
   "cell_type": "code",
   "execution_count": 18,
   "metadata": {
    "ExecuteTime": {
     "end_time": "2020-11-12T19:09:23.723306Z",
     "start_time": "2020-11-12T19:03:59.922324Z"
    }
   },
   "outputs": [
    {
     "name": "stdout",
     "output_type": "stream",
     "text": [
      "Saving as data/ive_minute_tick_bidask_API_11-12-20.csv\n",
      "[i] Stock data successfully downloaded and saved as:\n",
      " -  data/ive_minute_tick_bidask_API_11-12-20.csv\n"
     ]
    }
   ],
   "source": [
    "df = download_stock_data()"
   ]
  },
  {
   "cell_type": "code",
   "execution_count": 19,
   "metadata": {
    "ExecuteTime": {
     "end_time": "2020-11-12T19:09:23.740696Z",
     "start_time": "2020-11-12T19:09:23.726145Z"
    }
   },
   "outputs": [
    {
     "data": {
      "text/html": [
       "<div>\n",
       "<style scoped>\n",
       "    .dataframe tbody tr th:only-of-type {\n",
       "        vertical-align: middle;\n",
       "    }\n",
       "\n",
       "    .dataframe tbody tr th {\n",
       "        vertical-align: top;\n",
       "    }\n",
       "\n",
       "    .dataframe thead th {\n",
       "        text-align: right;\n",
       "    }\n",
       "</style>\n",
       "<table border=\"1\" class=\"dataframe\">\n",
       "  <thead>\n",
       "    <tr style=\"text-align: right;\">\n",
       "      <th></th>\n",
       "      <th>Date</th>\n",
       "      <th>Time</th>\n",
       "      <th>BidOpen</th>\n",
       "      <th>BidHigh</th>\n",
       "      <th>BidLow</th>\n",
       "      <th>BidClose</th>\n",
       "      <th>AskOpen</th>\n",
       "      <th>AskHigh</th>\n",
       "      <th>AskLow</th>\n",
       "      <th>AskClose</th>\n",
       "    </tr>\n",
       "    <tr>\n",
       "      <th>datetime</th>\n",
       "      <th></th>\n",
       "      <th></th>\n",
       "      <th></th>\n",
       "      <th></th>\n",
       "      <th></th>\n",
       "      <th></th>\n",
       "      <th></th>\n",
       "      <th></th>\n",
       "      <th></th>\n",
       "      <th></th>\n",
       "    </tr>\n",
       "  </thead>\n",
       "  <tbody>\n",
       "    <tr>\n",
       "      <th>2009-09-28 09:30:00</th>\n",
       "      <td>09/28/2009</td>\n",
       "      <td>09:30</td>\n",
       "      <td>39.06</td>\n",
       "      <td>39.06</td>\n",
       "      <td>39.06</td>\n",
       "      <td>39.06</td>\n",
       "      <td>39.13</td>\n",
       "      <td>39.13</td>\n",
       "      <td>39.13</td>\n",
       "      <td>39.13</td>\n",
       "    </tr>\n",
       "    <tr>\n",
       "      <th>2009-09-28 09:31:00</th>\n",
       "      <td>09/28/2009</td>\n",
       "      <td>09:31</td>\n",
       "      <td>39.10</td>\n",
       "      <td>39.10</td>\n",
       "      <td>39.08</td>\n",
       "      <td>39.09</td>\n",
       "      <td>39.11</td>\n",
       "      <td>39.11</td>\n",
       "      <td>39.10</td>\n",
       "      <td>39.11</td>\n",
       "    </tr>\n",
       "    <tr>\n",
       "      <th>2009-09-28 09:32:00</th>\n",
       "      <td>09/28/2009</td>\n",
       "      <td>09:32</td>\n",
       "      <td>39.11</td>\n",
       "      <td>39.15</td>\n",
       "      <td>39.11</td>\n",
       "      <td>39.15</td>\n",
       "      <td>39.12</td>\n",
       "      <td>39.16</td>\n",
       "      <td>39.12</td>\n",
       "      <td>39.16</td>\n",
       "    </tr>\n",
       "    <tr>\n",
       "      <th>2009-09-28 09:33:00</th>\n",
       "      <td>09/28/2009</td>\n",
       "      <td>09:33</td>\n",
       "      <td>39.14</td>\n",
       "      <td>39.14</td>\n",
       "      <td>39.14</td>\n",
       "      <td>39.14</td>\n",
       "      <td>39.15</td>\n",
       "      <td>39.16</td>\n",
       "      <td>39.15</td>\n",
       "      <td>39.15</td>\n",
       "    </tr>\n",
       "    <tr>\n",
       "      <th>2009-09-28 09:34:00</th>\n",
       "      <td>09/28/2009</td>\n",
       "      <td>09:34</td>\n",
       "      <td>39.14</td>\n",
       "      <td>39.14</td>\n",
       "      <td>39.12</td>\n",
       "      <td>39.12</td>\n",
       "      <td>39.15</td>\n",
       "      <td>39.15</td>\n",
       "      <td>39.14</td>\n",
       "      <td>39.14</td>\n",
       "    </tr>\n",
       "  </tbody>\n",
       "</table>\n",
       "</div>"
      ],
      "text/plain": [
       "                           Date   Time  BidOpen  BidHigh  BidLow  BidClose  \\\n",
       "datetime                                                                     \n",
       "2009-09-28 09:30:00  09/28/2009  09:30    39.06    39.06   39.06     39.06   \n",
       "2009-09-28 09:31:00  09/28/2009  09:31    39.10    39.10   39.08     39.09   \n",
       "2009-09-28 09:32:00  09/28/2009  09:32    39.11    39.15   39.11     39.15   \n",
       "2009-09-28 09:33:00  09/28/2009  09:33    39.14    39.14   39.14     39.14   \n",
       "2009-09-28 09:34:00  09/28/2009  09:34    39.14    39.14   39.12     39.12   \n",
       "\n",
       "                     AskOpen  AskHigh  AskLow  AskClose  \n",
       "datetime                                                 \n",
       "2009-09-28 09:30:00    39.13    39.13   39.13     39.13  \n",
       "2009-09-28 09:31:00    39.11    39.11   39.10     39.11  \n",
       "2009-09-28 09:32:00    39.12    39.16   39.12     39.16  \n",
       "2009-09-28 09:33:00    39.15    39.16   39.15     39.15  \n",
       "2009-09-28 09:34:00    39.15    39.15   39.14     39.14  "
      ]
     },
     "execution_count": 19,
     "metadata": {},
     "output_type": "execute_result"
    }
   ],
   "source": [
    "df.head()"
   ]
  },
  {
   "cell_type": "markdown",
   "metadata": {},
   "source": [
    "# BOOKMARK"
   ]
  },
  {
   "cell_type": "markdown",
   "metadata": {
    "ExecuteTime": {
     "end_time": "2020-11-12T20:57:46.086253Z",
     "start_time": "2020-11-12T20:57:46.072565Z"
    }
   },
   "source": [
    "```python\n",
    "## LOOK UP THESE FUNCTIONS\n",
    "functions_used=[ji.load_processed_stock_data, # This script combines the oriignal 4 used:\n",
    "                ji.load_raw_stock_data_from_txt,\n",
    "                ji.set_timeindex_freq,ji.custom_BH_freq,\n",
    "               ji.get_technical_indicators]\n",
    "```"
   ]
  },
  {
   "cell_type": "code",
   "execution_count": null,
   "metadata": {},
   "outputs": [],
   "source": []
  }
 ],
 "metadata": {
  "kernelspec": {
   "display_name": "learn-env",
   "language": "python",
   "name": "learn-env"
  },
  "language_info": {
   "codemirror_mode": {
    "name": "ipython",
    "version": 3
   },
   "file_extension": ".py",
   "mimetype": "text/x-python",
   "name": "python",
   "nbconvert_exporter": "python",
   "pygments_lexer": "ipython3",
   "version": "3.6.11"
  },
  "toc": {
   "base_numbering": 1,
   "nav_menu": {},
   "number_sections": true,
   "sideBar": true,
   "skip_h1_title": false,
   "title_cell": "Table of Contents",
   "title_sidebar": "Contents",
   "toc_cell": false,
   "toc_position": {},
   "toc_section_display": true,
   "toc_window_display": false
  }
 },
 "nbformat": 4,
 "nbformat_minor": 4
}
