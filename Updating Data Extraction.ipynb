{
 "cells": [
  {
   "cell_type": "markdown",
   "metadata": {},
   "source": [
    "# Updating Data Extraction"
   ]
  },
  {
   "cell_type": "code",
   "execution_count": null,
   "metadata": {},
   "outputs": [],
   "source": []
  },
  {
   "cell_type": "markdown",
   "metadata": {},
   "source": [
    "- 07/11/20\n",
    "This notebook is for exploring alternative (programmatic) methods to get all of the pertinent tweets from Donald Trump"
   ]
  },
  {
   "cell_type": "code",
   "execution_count": null,
   "metadata": {
    "ExecuteTime": {
     "end_time": "2020-07-11T22:28:52.633749Z",
     "start_time": "2020-07-11T22:28:48.533039Z"
    }
   },
   "outputs": [],
   "source": [
    "!pip install -U fsds\n",
    "from fsds.imports import *"
   ]
  },
  {
   "cell_type": "markdown",
   "metadata": {},
   "source": [
    "# Getting Stock Data"
   ]
  },
  {
   "cell_type": "code",
   "execution_count": 1,
   "metadata": {
    "ExecuteTime": {
     "end_time": "2020-07-12T00:38:49.850178Z",
     "start_time": "2020-07-12T00:33:39.559730Z"
    }
   },
   "outputs": [
    {
     "name": "stdout",
     "output_type": "stream",
     "text": [
      "[i] Data successfully downloaded and saved as:\n",
      " -  data/ive_minute_tick_bidask_API.csv\n"
     ]
    }
   ],
   "source": [
    "# ## Attempt to Get Stock Data With Code\n",
    "\n",
    "import requests\n",
    "import pandas as pd\n",
    "\n",
    "def download_stock_data(fpath='data/ive_minute_tick_bidask_API.csv',\n",
    "                       verbose=True):\n",
    "    \"\"\"Downloads up-to-date IVE S&P 500 1-min aggregate data from \n",
    "    http://www.kibot.com/free_historical_data.aspx\n",
    "    \n",
    "    Args:\n",
    "        fpath (str): csv filepath to save (Default='data/ive_minute_tick_bidask_API.csv')\n",
    "        verbose (bool): Display file info (Default=True)\n",
    "        \n",
    "    Returns:\n",
    "        stock_df: DataFrame with correct headers and datetime index\"\"\"\n",
    "    agg_url = 'http://api.kibot.com/?action=history&symbol=IVE&interval=tickbidask1&bp=1&user=guest'\n",
    "    response = requests.get(agg_url,\n",
    "                            allow_redirects=True)\n",
    "\n",
    "    ## Save output to csv file\n",
    "    with open(fpath,'wb') as file:\n",
    "        file.write(response.content)\n",
    "        \n",
    "        \n",
    "    ## Load in Stock Data Frame with headers (then save)\n",
    "    headers = ['Date','Time','BidOpen','BidHigh','BidLow','BidClose','AskOpen','AskHigh','AskLow','AskClose']\n",
    "    stock_df = pd.read_csv('data/ive_minute_tick_bidask_API.csv',names=headers)\n",
    "\n",
    "# \n",
    "    ## Make Combined Date Time column and Drop Origs\n",
    "    stock_df['datetime'] = pd.to_datetime(stock_df['Date'].astype(str)+' '+stock_df['Time'].astype(str))\n",
    "    stock_df.to_csv(fpath,index=False)\n",
    "        \n",
    "    if verbose:\n",
    "        print('[i] Data successfully downloaded and saved as:')\n",
    "        print(' - ',fpath)\n",
    "        \n",
    "    return pd.read_csv(fpath,parse_dates=['datetime'],index_col='datetime')\n",
    "\n",
    "stock_df = download_stock_data()"
   ]
  },
  {
   "cell_type": "code",
   "execution_count": 2,
   "metadata": {
    "ExecuteTime": {
     "end_time": "2020-07-12T00:38:49.878926Z",
     "start_time": "2020-07-12T00:38:49.851752Z"
    }
   },
   "outputs": [
    {
     "data": {
      "text/html": [
       "<div>\n",
       "<style scoped>\n",
       "    .dataframe tbody tr th:only-of-type {\n",
       "        vertical-align: middle;\n",
       "    }\n",
       "\n",
       "    .dataframe tbody tr th {\n",
       "        vertical-align: top;\n",
       "    }\n",
       "\n",
       "    .dataframe thead th {\n",
       "        text-align: right;\n",
       "    }\n",
       "</style>\n",
       "<table border=\"1\" class=\"dataframe\">\n",
       "  <thead>\n",
       "    <tr style=\"text-align: right;\">\n",
       "      <th></th>\n",
       "      <th>Unnamed: 0</th>\n",
       "      <th>Date</th>\n",
       "      <th>Time</th>\n",
       "      <th>BidOpen</th>\n",
       "      <th>BidHigh</th>\n",
       "      <th>BidLow</th>\n",
       "      <th>BidClose</th>\n",
       "      <th>AskOpen</th>\n",
       "      <th>AskHigh</th>\n",
       "      <th>AskLow</th>\n",
       "      <th>AskClose</th>\n",
       "    </tr>\n",
       "    <tr>\n",
       "      <th>datetime</th>\n",
       "      <th></th>\n",
       "      <th></th>\n",
       "      <th></th>\n",
       "      <th></th>\n",
       "      <th></th>\n",
       "      <th></th>\n",
       "      <th></th>\n",
       "      <th></th>\n",
       "      <th></th>\n",
       "      <th></th>\n",
       "      <th></th>\n",
       "    </tr>\n",
       "  </thead>\n",
       "  <tbody>\n",
       "    <tr>\n",
       "      <th>2009-09-28 09:30:00</th>\n",
       "      <td>0</td>\n",
       "      <td>09/28/2009</td>\n",
       "      <td>09:30</td>\n",
       "      <td>39.35</td>\n",
       "      <td>39.35</td>\n",
       "      <td>39.35</td>\n",
       "      <td>39.35</td>\n",
       "      <td>39.42</td>\n",
       "      <td>39.42</td>\n",
       "      <td>39.42</td>\n",
       "      <td>39.42</td>\n",
       "    </tr>\n",
       "    <tr>\n",
       "      <th>2009-09-28 09:31:00</th>\n",
       "      <td>1</td>\n",
       "      <td>09/28/2009</td>\n",
       "      <td>09:31</td>\n",
       "      <td>39.38</td>\n",
       "      <td>39.38</td>\n",
       "      <td>39.36</td>\n",
       "      <td>39.38</td>\n",
       "      <td>39.39</td>\n",
       "      <td>39.39</td>\n",
       "      <td>39.38</td>\n",
       "      <td>39.39</td>\n",
       "    </tr>\n",
       "    <tr>\n",
       "      <th>2009-09-28 09:32:00</th>\n",
       "      <td>2</td>\n",
       "      <td>09/28/2009</td>\n",
       "      <td>09:32</td>\n",
       "      <td>39.39</td>\n",
       "      <td>39.43</td>\n",
       "      <td>39.39</td>\n",
       "      <td>39.43</td>\n",
       "      <td>39.41</td>\n",
       "      <td>39.45</td>\n",
       "      <td>39.41</td>\n",
       "      <td>39.45</td>\n",
       "    </tr>\n",
       "    <tr>\n",
       "      <th>2009-09-28 09:33:00</th>\n",
       "      <td>3</td>\n",
       "      <td>09/28/2009</td>\n",
       "      <td>09:33</td>\n",
       "      <td>39.42</td>\n",
       "      <td>39.42</td>\n",
       "      <td>39.42</td>\n",
       "      <td>39.42</td>\n",
       "      <td>39.43</td>\n",
       "      <td>39.45</td>\n",
       "      <td>39.43</td>\n",
       "      <td>39.44</td>\n",
       "    </tr>\n",
       "    <tr>\n",
       "      <th>2009-09-28 09:34:00</th>\n",
       "      <td>4</td>\n",
       "      <td>09/28/2009</td>\n",
       "      <td>09:34</td>\n",
       "      <td>39.42</td>\n",
       "      <td>39.42</td>\n",
       "      <td>39.41</td>\n",
       "      <td>39.41</td>\n",
       "      <td>39.44</td>\n",
       "      <td>39.44</td>\n",
       "      <td>39.42</td>\n",
       "      <td>39.42</td>\n",
       "    </tr>\n",
       "  </tbody>\n",
       "</table>\n",
       "</div>"
      ],
      "text/plain": [
       "                     Unnamed: 0        Date   Time  BidOpen  BidHigh  BidLow  \\\n",
       "datetime                                                                       \n",
       "2009-09-28 09:30:00           0  09/28/2009  09:30    39.35    39.35   39.35   \n",
       "2009-09-28 09:31:00           1  09/28/2009  09:31    39.38    39.38   39.36   \n",
       "2009-09-28 09:32:00           2  09/28/2009  09:32    39.39    39.43   39.39   \n",
       "2009-09-28 09:33:00           3  09/28/2009  09:33    39.42    39.42   39.42   \n",
       "2009-09-28 09:34:00           4  09/28/2009  09:34    39.42    39.42   39.41   \n",
       "\n",
       "                     BidClose  AskOpen  AskHigh  AskLow  AskClose  \n",
       "datetime                                                           \n",
       "2009-09-28 09:30:00     39.35    39.42    39.42   39.42     39.42  \n",
       "2009-09-28 09:31:00     39.38    39.39    39.39   39.38     39.39  \n",
       "2009-09-28 09:32:00     39.43    39.41    39.45   39.41     39.45  \n",
       "2009-09-28 09:33:00     39.42    39.43    39.45   39.43     39.44  \n",
       "2009-09-28 09:34:00     39.41    39.44    39.44   39.42     39.42  "
      ]
     },
     "execution_count": 2,
     "metadata": {},
     "output_type": "execute_result"
    }
   ],
   "source": [
    "stock_df.head()"
   ]
  },
  {
   "cell_type": "markdown",
   "metadata": {},
   "source": [
    "## TWINT\n",
    "- ABANDONED (for now. Search errors/always run)"
   ]
  },
  {
   "cell_type": "code",
   "execution_count": 11,
   "metadata": {
    "ExecuteTime": {
     "end_time": "2020-07-11T22:45:05.762398Z",
     "start_time": "2020-07-11T22:45:05.760586Z"
    }
   },
   "outputs": [],
   "source": [
    "# # !pip install -U twint\n",
    "# !pip install -U -e git+https://github.com/twintproject/twint.git@origin/master#egg=twint"
   ]
  },
  {
   "cell_type": "markdown",
   "metadata": {},
   "source": [
    "1. https://github.com/twintproject/twint\n",
    "2. https://github.com/twintproject/twint/wiki/Scraping-functions"
   ]
  },
  {
   "cell_type": "code",
   "execution_count": null,
   "metadata": {},
   "outputs": [],
   "source": []
  },
  {
   "cell_type": "code",
   "execution_count": 12,
   "metadata": {
    "ExecuteTime": {
     "end_time": "2020-07-11T22:45:07.570058Z",
     "start_time": "2020-07-11T22:45:07.567922Z"
    }
   },
   "outputs": [],
   "source": [
    "# import twint\n",
    "\n",
    "# c = twint.Config()\n",
    "# c.Limit = 20\n",
    "# c.Since=\"2017-01-01\"\n",
    "# c.Username = 'realDonaldTrump'\n",
    "# c.Pandas = True\n",
    "# c.Store_csv = True\n",
    "# c.Output='_twint_extracted_tweets.csv'"
   ]
  },
  {
   "cell_type": "code",
   "execution_count": 13,
   "metadata": {
    "ExecuteTime": {
     "end_time": "2020-07-11T22:45:09.458829Z",
     "start_time": "2020-07-11T22:45:09.456711Z"
    }
   },
   "outputs": [],
   "source": [
    "# twint.run.Profile(c)"
   ]
  },
  {
   "cell_type": "code",
   "execution_count": 14,
   "metadata": {
    "ExecuteTime": {
     "end_time": "2020-07-11T22:45:11.008899Z",
     "start_time": "2020-07-11T22:45:11.006851Z"
    }
   },
   "outputs": [],
   "source": [
    "# twint.run.Search(c)\n",
    "\n",
    "# Tweets_df = twint.storage.panda.Tweets_df"
   ]
  },
  {
   "cell_type": "code",
   "execution_count": null,
   "metadata": {},
   "outputs": [],
   "source": []
  },
  {
   "cell_type": "markdown",
   "metadata": {},
   "source": [
    "## Trump Twitter Archive Download"
   ]
  },
  {
   "cell_type": "markdown",
   "metadata": {},
   "source": [
    "- https://github.com/bpb27/trump_tweet_data_archive/archive/master.zip\n",
    "\n",
    "- ABANDONED (No tweets from 2019-2020)"
   ]
  },
  {
   "cell_type": "code",
   "execution_count": 53,
   "metadata": {
    "ExecuteTime": {
     "end_time": "2020-07-11T22:59:00.073888Z",
     "start_time": "2020-07-11T22:59:00.071047Z"
    }
   },
   "outputs": [],
   "source": [
    "import os,glob,shutil\n",
    "tweet_folder = 'Trump Tweets/'\n",
    "os.makedirs(tweet_folder,exist_ok=True)"
   ]
  },
  {
   "cell_type": "code",
   "execution_count": 54,
   "metadata": {
    "ExecuteTime": {
     "end_time": "2020-07-11T22:59:00.926914Z",
     "start_time": "2020-07-11T22:59:00.316323Z"
    }
   },
   "outputs": [
    {
     "data": {
      "text/plain": [
       "['.DS_Store', 'archive.zip']"
      ]
     },
     "execution_count": 54,
     "metadata": {},
     "output_type": "execute_result"
    }
   ],
   "source": [
    "import requests\n",
    "\n",
    "url = 'https://github.com/bpb27/trump_tweet_data_archive/archive/master.zip'\n",
    "r = requests.get(url, allow_redirects=True)\n",
    "\n",
    "tweet_zipfile = tweet_folder+'archive.zip'\n",
    "with open(tweet_zipfile, 'wb') as file:\n",
    "    file.write(r.content)\n",
    "\n",
    "os.listdir(tweet_folder)"
   ]
  },
  {
   "cell_type": "code",
   "execution_count": 93,
   "metadata": {
    "ExecuteTime": {
     "end_time": "2020-07-11T23:08:23.010436Z",
     "start_time": "2020-07-11T23:08:23.005504Z"
    }
   },
   "outputs": [
    {
     "data": {
      "text/plain": [
       "[<ZipInfo filename='trump_tweet_data_archive-master/' external_attr=0x10>,\n",
       " <ZipInfo filename='trump_tweet_data_archive-master/.gitignore' file_size=9>,\n",
       " <ZipInfo filename='trump_tweet_data_archive-master/README.md' compress_type=deflate file_size=685 compress_size=411>,\n",
       " <ZipInfo filename='trump_tweet_data_archive-master/condensed_2009.json.zip' compress_type=deflate file_size=4544 compress_size=4539>,\n",
       " <ZipInfo filename='trump_tweet_data_archive-master/condensed_2010.json.zip' compress_type=deflate file_size=11162 compress_size=11155>,\n",
       " <ZipInfo filename='trump_tweet_data_archive-master/condensed_2011.json.zip' file_size=58511>,\n",
       " <ZipInfo filename='trump_tweet_data_archive-master/condensed_2012.json.zip' file_size=273295>,\n",
       " <ZipInfo filename='trump_tweet_data_archive-master/condensed_2013.json.zip' file_size=600669>,\n",
       " <ZipInfo filename='trump_tweet_data_archive-master/condensed_2014.json.zip' file_size=464484>,\n",
       " <ZipInfo filename='trump_tweet_data_archive-master/condensed_2015.json.zip' file_size=594039>,\n",
       " <ZipInfo filename='trump_tweet_data_archive-master/condensed_2016.json.zip' file_size=347652>,\n",
       " <ZipInfo filename='trump_tweet_data_archive-master/condensed_2017.json.zip' file_size=238238>,\n",
       " <ZipInfo filename='trump_tweet_data_archive-master/condensed_2018.json.zip' file_size=384688>,\n",
       " <ZipInfo filename='trump_tweet_data_archive-master/master_2009.json.zip' compress_type=deflate file_size=7337 compress_size=7301>,\n",
       " <ZipInfo filename='trump_tweet_data_archive-master/master_2010.json.zip' compress_type=deflate file_size=17855 compress_size=17429>,\n",
       " <ZipInfo filename='trump_tweet_data_archive-master/master_2011.json.zip' compress_type=deflate file_size=112441 compress_size=110515>,\n",
       " <ZipInfo filename='trump_tweet_data_archive-master/master_2012.json.zip' compress_type=deflate file_size=541284 compress_size=533263>,\n",
       " <ZipInfo filename='trump_tweet_data_archive-master/master_2013.json.zip' compress_type=deflate file_size=1279824 compress_size=1265220>,\n",
       " <ZipInfo filename='trump_tweet_data_archive-master/master_2014.json.zip' compress_type=deflate file_size=1028565 compress_size=1017596>,\n",
       " <ZipInfo filename='trump_tweet_data_archive-master/master_2015.json.zip' compress_type=deflate file_size=1498837 compress_size=1489238>,\n",
       " <ZipInfo filename='trump_tweet_data_archive-master/master_2016.json.zip' compress_type=deflate file_size=974186 compress_size=971802>,\n",
       " <ZipInfo filename='trump_tweet_data_archive-master/master_2017.json.zip' compress_type=deflate file_size=738049 compress_size=736903>,\n",
       " <ZipInfo filename='trump_tweet_data_archive-master/master_2018.json.zip' compress_type=deflate file_size=738050 compress_size=736865>]"
      ]
     },
     "execution_count": 93,
     "metadata": {},
     "output_type": "execute_result"
    }
   ],
   "source": [
    "from  zipfile import ZipFile\n",
    "zipfile= ZipFile(tweet_zipfile,'r')\n",
    "# zipfile.printdir()\n",
    "file_list = zipfile.filelist\n",
    "file_list\n",
    "#     zipfile.extractall('Trump Tweets/')"
   ]
  },
  {
   "cell_type": "code",
   "execution_count": 94,
   "metadata": {
    "ExecuteTime": {
     "end_time": "2020-07-11T23:08:23.528747Z",
     "start_time": "2020-07-11T23:08:23.463804Z"
    }
   },
   "outputs": [],
   "source": [
    "## Extract All Non-Git Files\n",
    "non_git_files = [file for file in file_list if '.git' not in file.filename]\n",
    "for file in non_git_files:\n",
    "    zipfile.extract(file,path=tweet_folder)\n"
   ]
  },
  {
   "cell_type": "code",
   "execution_count": 95,
   "metadata": {
    "ExecuteTime": {
     "end_time": "2020-07-11T23:08:23.978473Z",
     "start_time": "2020-07-11T23:08:23.974254Z"
    }
   },
   "outputs": [
    {
     "data": {
      "text/plain": [
       "['Trump Tweets/trump_tweet_data_archive-master/master_2018.json.zip',\n",
       " 'Trump Tweets/trump_tweet_data_archive-master/condensed_2018.json.zip',\n",
       " 'Trump Tweets/trump_tweet_data_archive-master/master_2012.json.zip',\n",
       " 'Trump Tweets/trump_tweet_data_archive-master/master_2013.json.zip',\n",
       " 'Trump Tweets/trump_tweet_data_archive-master/condensed_2012.json.zip',\n",
       " 'Trump Tweets/trump_tweet_data_archive-master/condensed_2013.json.zip',\n",
       " 'Trump Tweets/trump_tweet_data_archive-master/master_2009.json.zip',\n",
       " 'Trump Tweets/trump_tweet_data_archive-master/condensed_2009.json.zip',\n",
       " 'Trump Tweets/trump_tweet_data_archive-master/master_2015.json.zip',\n",
       " 'Trump Tweets/trump_tweet_data_archive-master/master_2014.json.zip',\n",
       " 'Trump Tweets/trump_tweet_data_archive-master/condensed_2015.json.zip',\n",
       " 'Trump Tweets/trump_tweet_data_archive-master/condensed_2014.json.zip',\n",
       " 'Trump Tweets/trump_tweet_data_archive-master/master_2011.json.zip',\n",
       " 'Trump Tweets/trump_tweet_data_archive-master/master_2010.json.zip',\n",
       " 'Trump Tweets/trump_tweet_data_archive-master/condensed_2011.json.zip',\n",
       " 'Trump Tweets/trump_tweet_data_archive-master/condensed_2010.json.zip',\n",
       " 'Trump Tweets/trump_tweet_data_archive-master/master_2016.json.zip',\n",
       " 'Trump Tweets/trump_tweet_data_archive-master/master_2017.json.zip',\n",
       " 'Trump Tweets/trump_tweet_data_archive-master/condensed_2016.json.zip',\n",
       " 'Trump Tweets/trump_tweet_data_archive-master/condensed_2017.json.zip']"
      ]
     },
     "execution_count": 95,
     "metadata": {},
     "output_type": "execute_result"
    }
   ],
   "source": [
    "import glob\n",
    "extracted_zipfiles = glob.glob(tweet_folder+'trump_tweet_data_archive-master/*.json.zip')\n",
    "extracted_zipfiles"
   ]
  },
  {
   "cell_type": "code",
   "execution_count": 96,
   "metadata": {
    "ExecuteTime": {
     "end_time": "2020-07-11T23:08:24.497958Z",
     "start_time": "2020-07-11T23:08:24.493855Z"
    }
   },
   "outputs": [
    {
     "data": {
      "text/plain": [
       "['Trump Tweets/trump_tweet_data_archive-master/condensed_2018.json.zip',\n",
       " 'Trump Tweets/trump_tweet_data_archive-master/condensed_2012.json.zip',\n",
       " 'Trump Tweets/trump_tweet_data_archive-master/condensed_2013.json.zip',\n",
       " 'Trump Tweets/trump_tweet_data_archive-master/condensed_2009.json.zip',\n",
       " 'Trump Tweets/trump_tweet_data_archive-master/condensed_2015.json.zip',\n",
       " 'Trump Tweets/trump_tweet_data_archive-master/condensed_2014.json.zip',\n",
       " 'Trump Tweets/trump_tweet_data_archive-master/condensed_2011.json.zip',\n",
       " 'Trump Tweets/trump_tweet_data_archive-master/condensed_2010.json.zip',\n",
       " 'Trump Tweets/trump_tweet_data_archive-master/condensed_2016.json.zip',\n",
       " 'Trump Tweets/trump_tweet_data_archive-master/condensed_2017.json.zip']"
      ]
     },
     "execution_count": 96,
     "metadata": {},
     "output_type": "execute_result"
    }
   ],
   "source": [
    "master_files = list(filter(lambda x: 'master_' in x, extracted_zipfiles))\n",
    "condensed_files = list(filter(lambda x: 'condensed' in x, extracted_zipfiles))\n",
    "condensed_files"
   ]
  },
  {
   "cell_type": "code",
   "execution_count": 99,
   "metadata": {
    "ExecuteTime": {
     "end_time": "2020-07-11T23:08:33.913817Z",
     "start_time": "2020-07-11T23:08:32.922402Z"
    }
   },
   "outputs": [
    {
     "name": "stdout",
     "output_type": "stream",
     "text": [
      "<class 'pandas.core.frame.DataFrame'>\n",
      "Int64Index: 7041 entries, 0 to 3530\n",
      "Data columns (total 8 columns):\n",
      " #   Column                   Non-Null Count  Dtype              \n",
      "---  ------                   --------------  -----              \n",
      " 0   source                   7041 non-null   object             \n",
      " 1   id_str                   7041 non-null   int64              \n",
      " 2   text                     7041 non-null   object             \n",
      " 3   created_at               7041 non-null   datetime64[ns, UTC]\n",
      " 4   retweet_count            7041 non-null   int64              \n",
      " 5   in_reply_to_user_id_str  444 non-null    float64            \n",
      " 6   favorite_count           7041 non-null   int64              \n",
      " 7   is_retweet               7041 non-null   bool               \n",
      "dtypes: bool(1), datetime64[ns, UTC](1), float64(1), int64(3), object(2)\n",
      "memory usage: 446.9+ KB\n"
     ]
    }
   ],
   "source": [
    "import pandas as pd\n",
    "\n",
    "\n",
    "df = pd.concat([pd.read_json(zfile) for zfile in condensed_files[:2]])\n",
    "df.info()"
   ]
  },
  {
   "cell_type": "code",
   "execution_count": 100,
   "metadata": {
    "ExecuteTime": {
     "end_time": "2020-07-11T23:08:33.938784Z",
     "start_time": "2020-07-11T23:08:33.915088Z"
    }
   },
   "outputs": [
    {
     "data": {
      "text/html": [
       "<div>\n",
       "<style scoped>\n",
       "    .dataframe tbody tr th:only-of-type {\n",
       "        vertical-align: middle;\n",
       "    }\n",
       "\n",
       "    .dataframe tbody tr th {\n",
       "        vertical-align: top;\n",
       "    }\n",
       "\n",
       "    .dataframe thead th {\n",
       "        text-align: right;\n",
       "    }\n",
       "</style>\n",
       "<table border=\"1\" class=\"dataframe\">\n",
       "  <thead>\n",
       "    <tr style=\"text-align: right;\">\n",
       "      <th></th>\n",
       "      <th>source</th>\n",
       "      <th>id_str</th>\n",
       "      <th>text</th>\n",
       "      <th>created_at</th>\n",
       "      <th>retweet_count</th>\n",
       "      <th>in_reply_to_user_id_str</th>\n",
       "      <th>favorite_count</th>\n",
       "      <th>is_retweet</th>\n",
       "      <th>index</th>\n",
       "    </tr>\n",
       "  </thead>\n",
       "  <tbody>\n",
       "    <tr>\n",
       "      <th>0</th>\n",
       "      <td>Twitter for iPhone</td>\n",
       "      <td>1079888205351145472</td>\n",
       "      <td>HAPPY NEW YEAR! https://t.co/bHoPDPQ7G6</td>\n",
       "      <td>2018-12-31 23:53:06+00:00</td>\n",
       "      <td>33548</td>\n",
       "      <td>NaN</td>\n",
       "      <td>136012</td>\n",
       "      <td>False</td>\n",
       "      <td>2018-12-31 23:53:06+00:00</td>\n",
       "    </tr>\n",
       "    <tr>\n",
       "      <th>1</th>\n",
       "      <td>Twitter for iPhone</td>\n",
       "      <td>1079830268708556800</td>\n",
       "      <td>....Senator Schumer, more than a year longer t...</td>\n",
       "      <td>2018-12-31 20:02:52+00:00</td>\n",
       "      <td>17456</td>\n",
       "      <td>25073877.0</td>\n",
       "      <td>65069</td>\n",
       "      <td>False</td>\n",
       "      <td>2018-12-31 20:02:52+00:00</td>\n",
       "    </tr>\n",
       "    <tr>\n",
       "      <th>2</th>\n",
       "      <td>Twitter for iPhone</td>\n",
       "      <td>1079830267274108928</td>\n",
       "      <td>Heads of countries are calling wanting to know...</td>\n",
       "      <td>2018-12-31 20:02:52+00:00</td>\n",
       "      <td>21030</td>\n",
       "      <td>NaN</td>\n",
       "      <td>76721</td>\n",
       "      <td>False</td>\n",
       "      <td>2018-12-31 20:02:52+00:00</td>\n",
       "    </tr>\n",
       "    <tr>\n",
       "      <th>3</th>\n",
       "      <td>Twitter for iPhone</td>\n",
       "      <td>1079763923845419008</td>\n",
       "      <td>It’s incredible how Democrats can all use thei...</td>\n",
       "      <td>2018-12-31 15:39:15+00:00</td>\n",
       "      <td>29610</td>\n",
       "      <td>NaN</td>\n",
       "      <td>127485</td>\n",
       "      <td>False</td>\n",
       "      <td>2018-12-31 15:39:15+00:00</td>\n",
       "    </tr>\n",
       "    <tr>\n",
       "      <th>4</th>\n",
       "      <td>Twitter for iPhone</td>\n",
       "      <td>1079763419908243456</td>\n",
       "      <td>I’m in the Oval Office. Democrats, come back f...</td>\n",
       "      <td>2018-12-31 15:37:14+00:00</td>\n",
       "      <td>30957</td>\n",
       "      <td>NaN</td>\n",
       "      <td>132439</td>\n",
       "      <td>False</td>\n",
       "      <td>2018-12-31 15:37:14+00:00</td>\n",
       "    </tr>\n",
       "    <tr>\n",
       "      <th>...</th>\n",
       "      <td>...</td>\n",
       "      <td>...</td>\n",
       "      <td>...</td>\n",
       "      <td>...</td>\n",
       "      <td>...</td>\n",
       "      <td>...</td>\n",
       "      <td>...</td>\n",
       "      <td>...</td>\n",
       "      <td>...</td>\n",
       "    </tr>\n",
       "    <tr>\n",
       "      <th>3526</th>\n",
       "      <td>Twitter Web Client</td>\n",
       "      <td>154288899324260352</td>\n",
       "      <td>\"The Wall Street Journal has reported that Oba...</td>\n",
       "      <td>2012-01-03 19:51:54+00:00</td>\n",
       "      <td>75</td>\n",
       "      <td>NaN</td>\n",
       "      <td>8</td>\n",
       "      <td>False</td>\n",
       "      <td>2012-01-03 19:51:54+00:00</td>\n",
       "    </tr>\n",
       "    <tr>\n",
       "      <th>3527</th>\n",
       "      <td>Twitter Web Client</td>\n",
       "      <td>154284061995696128</td>\n",
       "      <td>\"The Democrats' solution is the same solution ...</td>\n",
       "      <td>2012-01-03 19:32:41+00:00</td>\n",
       "      <td>142</td>\n",
       "      <td>NaN</td>\n",
       "      <td>10</td>\n",
       "      <td>False</td>\n",
       "      <td>2012-01-03 19:32:41+00:00</td>\n",
       "    </tr>\n",
       "    <tr>\n",
       "      <th>3528</th>\n",
       "      <td>Twitter Web Client</td>\n",
       "      <td>154282197371731968</td>\n",
       "      <td>I will be on the @todayshow tomorrow morning t...</td>\n",
       "      <td>2012-01-03 19:25:16+00:00</td>\n",
       "      <td>58</td>\n",
       "      <td>NaN</td>\n",
       "      <td>7</td>\n",
       "      <td>False</td>\n",
       "      <td>2012-01-03 19:25:16+00:00</td>\n",
       "    </tr>\n",
       "    <tr>\n",
       "      <th>3529</th>\n",
       "      <td>Twitter Web Client</td>\n",
       "      <td>154279702578728960</td>\n",
       "      <td>My @FoxNews interview with @gretawire discussi...</td>\n",
       "      <td>2012-01-03 19:15:22+00:00</td>\n",
       "      <td>24</td>\n",
       "      <td>NaN</td>\n",
       "      <td>3</td>\n",
       "      <td>False</td>\n",
       "      <td>2012-01-03 19:15:22+00:00</td>\n",
       "    </tr>\n",
       "    <tr>\n",
       "      <th>3530</th>\n",
       "      <td>Twitter Web Client</td>\n",
       "      <td>154270999859298304</td>\n",
       "      <td>My @foxandfriends interview discussing the \"Ma...</td>\n",
       "      <td>2012-01-03 18:40:47+00:00</td>\n",
       "      <td>19</td>\n",
       "      <td>NaN</td>\n",
       "      <td>12</td>\n",
       "      <td>False</td>\n",
       "      <td>2012-01-03 18:40:47+00:00</td>\n",
       "    </tr>\n",
       "  </tbody>\n",
       "</table>\n",
       "<p>7041 rows × 9 columns</p>\n",
       "</div>"
      ],
      "text/plain": [
       "                  source               id_str  \\\n",
       "0     Twitter for iPhone  1079888205351145472   \n",
       "1     Twitter for iPhone  1079830268708556800   \n",
       "2     Twitter for iPhone  1079830267274108928   \n",
       "3     Twitter for iPhone  1079763923845419008   \n",
       "4     Twitter for iPhone  1079763419908243456   \n",
       "...                  ...                  ...   \n",
       "3526  Twitter Web Client   154288899324260352   \n",
       "3527  Twitter Web Client   154284061995696128   \n",
       "3528  Twitter Web Client   154282197371731968   \n",
       "3529  Twitter Web Client   154279702578728960   \n",
       "3530  Twitter Web Client   154270999859298304   \n",
       "\n",
       "                                                   text  \\\n",
       "0               HAPPY NEW YEAR! https://t.co/bHoPDPQ7G6   \n",
       "1     ....Senator Schumer, more than a year longer t...   \n",
       "2     Heads of countries are calling wanting to know...   \n",
       "3     It’s incredible how Democrats can all use thei...   \n",
       "4     I’m in the Oval Office. Democrats, come back f...   \n",
       "...                                                 ...   \n",
       "3526  \"The Wall Street Journal has reported that Oba...   \n",
       "3527  \"The Democrats' solution is the same solution ...   \n",
       "3528  I will be on the @todayshow tomorrow morning t...   \n",
       "3529  My @FoxNews interview with @gretawire discussi...   \n",
       "3530  My @foxandfriends interview discussing the \"Ma...   \n",
       "\n",
       "                    created_at  retweet_count  in_reply_to_user_id_str  \\\n",
       "0    2018-12-31 23:53:06+00:00          33548                      NaN   \n",
       "1    2018-12-31 20:02:52+00:00          17456               25073877.0   \n",
       "2    2018-12-31 20:02:52+00:00          21030                      NaN   \n",
       "3    2018-12-31 15:39:15+00:00          29610                      NaN   \n",
       "4    2018-12-31 15:37:14+00:00          30957                      NaN   \n",
       "...                        ...            ...                      ...   \n",
       "3526 2012-01-03 19:51:54+00:00             75                      NaN   \n",
       "3527 2012-01-03 19:32:41+00:00            142                      NaN   \n",
       "3528 2012-01-03 19:25:16+00:00             58                      NaN   \n",
       "3529 2012-01-03 19:15:22+00:00             24                      NaN   \n",
       "3530 2012-01-03 18:40:47+00:00             19                      NaN   \n",
       "\n",
       "      favorite_count  is_retweet                     index  \n",
       "0             136012       False 2018-12-31 23:53:06+00:00  \n",
       "1              65069       False 2018-12-31 20:02:52+00:00  \n",
       "2              76721       False 2018-12-31 20:02:52+00:00  \n",
       "3             127485       False 2018-12-31 15:39:15+00:00  \n",
       "4             132439       False 2018-12-31 15:37:14+00:00  \n",
       "...              ...         ...                       ...  \n",
       "3526               8       False 2012-01-03 19:51:54+00:00  \n",
       "3527              10       False 2012-01-03 19:32:41+00:00  \n",
       "3528               7       False 2012-01-03 19:25:16+00:00  \n",
       "3529               3       False 2012-01-03 19:15:22+00:00  \n",
       "3530              12       False 2012-01-03 18:40:47+00:00  \n",
       "\n",
       "[7041 rows x 9 columns]"
      ]
     },
     "execution_count": 100,
     "metadata": {},
     "output_type": "execute_result"
    }
   ],
   "source": [
    "df['index'] = pd.to_datetime(df['created_at'])\n",
    "df"
   ]
  },
  {
   "cell_type": "code",
   "execution_count": 102,
   "metadata": {
    "ExecuteTime": {
     "end_time": "2020-07-11T23:08:42.025913Z",
     "start_time": "2020-07-11T23:08:42.023713Z"
    }
   },
   "outputs": [],
   "source": [
    "# df.to_csv(tweet_folder+\"trump_twitter_archive_extract.csv\",index=False)"
   ]
  },
  {
   "cell_type": "code",
   "execution_count": 104,
   "metadata": {
    "ExecuteTime": {
     "end_time": "2020-07-11T23:08:51.830392Z",
     "start_time": "2020-07-11T23:08:51.806172Z"
    }
   },
   "outputs": [
    {
     "data": {
      "text/html": [
       "<div>\n",
       "<style scoped>\n",
       "    .dataframe tbody tr th:only-of-type {\n",
       "        vertical-align: middle;\n",
       "    }\n",
       "\n",
       "    .dataframe tbody tr th {\n",
       "        vertical-align: top;\n",
       "    }\n",
       "\n",
       "    .dataframe thead th {\n",
       "        text-align: right;\n",
       "    }\n",
       "</style>\n",
       "<table border=\"1\" class=\"dataframe\">\n",
       "  <thead>\n",
       "    <tr style=\"text-align: right;\">\n",
       "      <th></th>\n",
       "      <th>source</th>\n",
       "      <th>id_str</th>\n",
       "      <th>text</th>\n",
       "      <th>created_at</th>\n",
       "      <th>retweet_count</th>\n",
       "      <th>in_reply_to_user_id_str</th>\n",
       "      <th>favorite_count</th>\n",
       "      <th>is_retweet</th>\n",
       "      <th>index</th>\n",
       "    </tr>\n",
       "  </thead>\n",
       "  <tbody>\n",
       "    <tr>\n",
       "      <th>3530</th>\n",
       "      <td>Twitter Web Client</td>\n",
       "      <td>154270999859298304</td>\n",
       "      <td>My @foxandfriends interview discussing the \"Ma...</td>\n",
       "      <td>2012-01-03 18:40:47+00:00</td>\n",
       "      <td>19</td>\n",
       "      <td>NaN</td>\n",
       "      <td>12</td>\n",
       "      <td>False</td>\n",
       "      <td>2012-01-03 18:40:47+00:00</td>\n",
       "    </tr>\n",
       "    <tr>\n",
       "      <th>3529</th>\n",
       "      <td>Twitter Web Client</td>\n",
       "      <td>154279702578728960</td>\n",
       "      <td>My @FoxNews interview with @gretawire discussi...</td>\n",
       "      <td>2012-01-03 19:15:22+00:00</td>\n",
       "      <td>24</td>\n",
       "      <td>NaN</td>\n",
       "      <td>3</td>\n",
       "      <td>False</td>\n",
       "      <td>2012-01-03 19:15:22+00:00</td>\n",
       "    </tr>\n",
       "    <tr>\n",
       "      <th>3528</th>\n",
       "      <td>Twitter Web Client</td>\n",
       "      <td>154282197371731968</td>\n",
       "      <td>I will be on the @todayshow tomorrow morning t...</td>\n",
       "      <td>2012-01-03 19:25:16+00:00</td>\n",
       "      <td>58</td>\n",
       "      <td>NaN</td>\n",
       "      <td>7</td>\n",
       "      <td>False</td>\n",
       "      <td>2012-01-03 19:25:16+00:00</td>\n",
       "    </tr>\n",
       "    <tr>\n",
       "      <th>3527</th>\n",
       "      <td>Twitter Web Client</td>\n",
       "      <td>154284061995696128</td>\n",
       "      <td>\"The Democrats' solution is the same solution ...</td>\n",
       "      <td>2012-01-03 19:32:41+00:00</td>\n",
       "      <td>142</td>\n",
       "      <td>NaN</td>\n",
       "      <td>10</td>\n",
       "      <td>False</td>\n",
       "      <td>2012-01-03 19:32:41+00:00</td>\n",
       "    </tr>\n",
       "    <tr>\n",
       "      <th>3526</th>\n",
       "      <td>Twitter Web Client</td>\n",
       "      <td>154288899324260352</td>\n",
       "      <td>\"The Wall Street Journal has reported that Oba...</td>\n",
       "      <td>2012-01-03 19:51:54+00:00</td>\n",
       "      <td>75</td>\n",
       "      <td>NaN</td>\n",
       "      <td>8</td>\n",
       "      <td>False</td>\n",
       "      <td>2012-01-03 19:51:54+00:00</td>\n",
       "    </tr>\n",
       "    <tr>\n",
       "      <th>...</th>\n",
       "      <td>...</td>\n",
       "      <td>...</td>\n",
       "      <td>...</td>\n",
       "      <td>...</td>\n",
       "      <td>...</td>\n",
       "      <td>...</td>\n",
       "      <td>...</td>\n",
       "      <td>...</td>\n",
       "      <td>...</td>\n",
       "    </tr>\n",
       "    <tr>\n",
       "      <th>4</th>\n",
       "      <td>Twitter for iPhone</td>\n",
       "      <td>1079763419908243456</td>\n",
       "      <td>I’m in the Oval Office. Democrats, come back f...</td>\n",
       "      <td>2018-12-31 15:37:14+00:00</td>\n",
       "      <td>30957</td>\n",
       "      <td>NaN</td>\n",
       "      <td>132439</td>\n",
       "      <td>False</td>\n",
       "      <td>2018-12-31 15:37:14+00:00</td>\n",
       "    </tr>\n",
       "    <tr>\n",
       "      <th>3</th>\n",
       "      <td>Twitter for iPhone</td>\n",
       "      <td>1079763923845419008</td>\n",
       "      <td>It’s incredible how Democrats can all use thei...</td>\n",
       "      <td>2018-12-31 15:39:15+00:00</td>\n",
       "      <td>29610</td>\n",
       "      <td>NaN</td>\n",
       "      <td>127485</td>\n",
       "      <td>False</td>\n",
       "      <td>2018-12-31 15:39:15+00:00</td>\n",
       "    </tr>\n",
       "    <tr>\n",
       "      <th>2</th>\n",
       "      <td>Twitter for iPhone</td>\n",
       "      <td>1079830267274108928</td>\n",
       "      <td>Heads of countries are calling wanting to know...</td>\n",
       "      <td>2018-12-31 20:02:52+00:00</td>\n",
       "      <td>21030</td>\n",
       "      <td>NaN</td>\n",
       "      <td>76721</td>\n",
       "      <td>False</td>\n",
       "      <td>2018-12-31 20:02:52+00:00</td>\n",
       "    </tr>\n",
       "    <tr>\n",
       "      <th>1</th>\n",
       "      <td>Twitter for iPhone</td>\n",
       "      <td>1079830268708556800</td>\n",
       "      <td>....Senator Schumer, more than a year longer t...</td>\n",
       "      <td>2018-12-31 20:02:52+00:00</td>\n",
       "      <td>17456</td>\n",
       "      <td>25073877.0</td>\n",
       "      <td>65069</td>\n",
       "      <td>False</td>\n",
       "      <td>2018-12-31 20:02:52+00:00</td>\n",
       "    </tr>\n",
       "    <tr>\n",
       "      <th>0</th>\n",
       "      <td>Twitter for iPhone</td>\n",
       "      <td>1079888205351145472</td>\n",
       "      <td>HAPPY NEW YEAR! https://t.co/bHoPDPQ7G6</td>\n",
       "      <td>2018-12-31 23:53:06+00:00</td>\n",
       "      <td>33548</td>\n",
       "      <td>NaN</td>\n",
       "      <td>136012</td>\n",
       "      <td>False</td>\n",
       "      <td>2018-12-31 23:53:06+00:00</td>\n",
       "    </tr>\n",
       "  </tbody>\n",
       "</table>\n",
       "<p>7041 rows × 9 columns</p>\n",
       "</div>"
      ],
      "text/plain": [
       "                  source               id_str  \\\n",
       "3530  Twitter Web Client   154270999859298304   \n",
       "3529  Twitter Web Client   154279702578728960   \n",
       "3528  Twitter Web Client   154282197371731968   \n",
       "3527  Twitter Web Client   154284061995696128   \n",
       "3526  Twitter Web Client   154288899324260352   \n",
       "...                  ...                  ...   \n",
       "4     Twitter for iPhone  1079763419908243456   \n",
       "3     Twitter for iPhone  1079763923845419008   \n",
       "2     Twitter for iPhone  1079830267274108928   \n",
       "1     Twitter for iPhone  1079830268708556800   \n",
       "0     Twitter for iPhone  1079888205351145472   \n",
       "\n",
       "                                                   text  \\\n",
       "3530  My @foxandfriends interview discussing the \"Ma...   \n",
       "3529  My @FoxNews interview with @gretawire discussi...   \n",
       "3528  I will be on the @todayshow tomorrow morning t...   \n",
       "3527  \"The Democrats' solution is the same solution ...   \n",
       "3526  \"The Wall Street Journal has reported that Oba...   \n",
       "...                                                 ...   \n",
       "4     I’m in the Oval Office. Democrats, come back f...   \n",
       "3     It’s incredible how Democrats can all use thei...   \n",
       "2     Heads of countries are calling wanting to know...   \n",
       "1     ....Senator Schumer, more than a year longer t...   \n",
       "0               HAPPY NEW YEAR! https://t.co/bHoPDPQ7G6   \n",
       "\n",
       "                    created_at  retweet_count  in_reply_to_user_id_str  \\\n",
       "3530 2012-01-03 18:40:47+00:00             19                      NaN   \n",
       "3529 2012-01-03 19:15:22+00:00             24                      NaN   \n",
       "3528 2012-01-03 19:25:16+00:00             58                      NaN   \n",
       "3527 2012-01-03 19:32:41+00:00            142                      NaN   \n",
       "3526 2012-01-03 19:51:54+00:00             75                      NaN   \n",
       "...                        ...            ...                      ...   \n",
       "4    2018-12-31 15:37:14+00:00          30957                      NaN   \n",
       "3    2018-12-31 15:39:15+00:00          29610                      NaN   \n",
       "2    2018-12-31 20:02:52+00:00          21030                      NaN   \n",
       "1    2018-12-31 20:02:52+00:00          17456               25073877.0   \n",
       "0    2018-12-31 23:53:06+00:00          33548                      NaN   \n",
       "\n",
       "      favorite_count  is_retweet                     index  \n",
       "3530              12       False 2012-01-03 18:40:47+00:00  \n",
       "3529               3       False 2012-01-03 19:15:22+00:00  \n",
       "3528               7       False 2012-01-03 19:25:16+00:00  \n",
       "3527              10       False 2012-01-03 19:32:41+00:00  \n",
       "3526               8       False 2012-01-03 19:51:54+00:00  \n",
       "...              ...         ...                       ...  \n",
       "4             132439       False 2018-12-31 15:37:14+00:00  \n",
       "3             127485       False 2018-12-31 15:39:15+00:00  \n",
       "2              76721       False 2018-12-31 20:02:52+00:00  \n",
       "1              65069       False 2018-12-31 20:02:52+00:00  \n",
       "0             136012       False 2018-12-31 23:53:06+00:00  \n",
       "\n",
       "[7041 rows x 9 columns]"
      ]
     },
     "execution_count": 104,
     "metadata": {},
     "output_type": "execute_result"
    }
   ],
   "source": [
    "df.sort_values('created_at')"
   ]
  },
  {
   "cell_type": "code",
   "execution_count": 88,
   "metadata": {
    "ExecuteTime": {
     "end_time": "2020-07-11T23:07:03.262144Z",
     "start_time": "2020-07-11T23:07:02.794272Z"
    }
   },
   "outputs": [
    {
     "name": "stderr",
     "output_type": "stream",
     "text": [
      "/opt/anaconda3/envs/learn-env/lib/python3.6/site-packages/IPython/core/interactiveshell.py:3058: DtypeWarning: Columns (0,1,2,5,7) have mixed types.Specify dtype option on import or set low_memory=False.\n",
      "  interactivity=interactivity, compiler=compiler, result=result)\n"
     ]
    }
   ],
   "source": [
    "df = pd.read_csv(tweet_folder+'trump_twitter_archive_extract.csv',\n",
    "                 parse_dates=['created_at'],index_col='created_at')"
   ]
  },
  {
   "cell_type": "code",
   "execution_count": 89,
   "metadata": {
    "ExecuteTime": {
     "end_time": "2020-07-11T23:07:03.284083Z",
     "start_time": "2020-07-11T23:07:03.263543Z"
    }
   },
   "outputs": [
    {
     "data": {
      "text/html": [
       "<div>\n",
       "<style scoped>\n",
       "    .dataframe tbody tr th:only-of-type {\n",
       "        vertical-align: middle;\n",
       "    }\n",
       "\n",
       "    .dataframe tbody tr th {\n",
       "        vertical-align: top;\n",
       "    }\n",
       "\n",
       "    .dataframe thead th {\n",
       "        text-align: right;\n",
       "    }\n",
       "</style>\n",
       "<table border=\"1\" class=\"dataframe\">\n",
       "  <thead>\n",
       "    <tr style=\"text-align: right;\">\n",
       "      <th></th>\n",
       "      <th>source</th>\n",
       "      <th>id_str</th>\n",
       "      <th>text</th>\n",
       "      <th>retweet_count</th>\n",
       "      <th>in_reply_to_user_id_str</th>\n",
       "      <th>favorite_count</th>\n",
       "      <th>is_retweet</th>\n",
       "    </tr>\n",
       "    <tr>\n",
       "      <th>created_at</th>\n",
       "      <th></th>\n",
       "      <th></th>\n",
       "      <th></th>\n",
       "      <th></th>\n",
       "      <th></th>\n",
       "      <th></th>\n",
       "      <th></th>\n",
       "    </tr>\n",
       "  </thead>\n",
       "  <tbody>\n",
       "    <tr>\n",
       "      <th>2018-12-31 23:53:06+00:00</th>\n",
       "      <td>Twitter for iPhone</td>\n",
       "      <td>1079888205351145472</td>\n",
       "      <td>HAPPY NEW YEAR! https://t.co/bHoPDPQ7G6</td>\n",
       "      <td>33548.0</td>\n",
       "      <td>NaN</td>\n",
       "      <td>136012.0</td>\n",
       "      <td>False</td>\n",
       "    </tr>\n",
       "    <tr>\n",
       "      <th>2018-12-31 20:02:52+00:00</th>\n",
       "      <td>Twitter for iPhone</td>\n",
       "      <td>1079830268708556800</td>\n",
       "      <td>....Senator Schumer, more than a year longer t...</td>\n",
       "      <td>17456.0</td>\n",
       "      <td>25073877.0</td>\n",
       "      <td>65069.0</td>\n",
       "      <td>False</td>\n",
       "    </tr>\n",
       "    <tr>\n",
       "      <th>2018-12-31 20:02:52+00:00</th>\n",
       "      <td>Twitter for iPhone</td>\n",
       "      <td>1079830267274108928</td>\n",
       "      <td>Heads of countries are calling wanting to know...</td>\n",
       "      <td>21030.0</td>\n",
       "      <td>NaN</td>\n",
       "      <td>76721.0</td>\n",
       "      <td>False</td>\n",
       "    </tr>\n",
       "    <tr>\n",
       "      <th>2018-12-31 15:39:15+00:00</th>\n",
       "      <td>Twitter for iPhone</td>\n",
       "      <td>1079763923845419008</td>\n",
       "      <td>It’s incredible how Democrats can all use thei...</td>\n",
       "      <td>29610.0</td>\n",
       "      <td>NaN</td>\n",
       "      <td>127485.0</td>\n",
       "      <td>False</td>\n",
       "    </tr>\n",
       "    <tr>\n",
       "      <th>2018-12-31 15:37:14+00:00</th>\n",
       "      <td>Twitter for iPhone</td>\n",
       "      <td>1079763419908243456</td>\n",
       "      <td>I’m in the Oval Office. Democrats, come back f...</td>\n",
       "      <td>30957.0</td>\n",
       "      <td>NaN</td>\n",
       "      <td>132439.0</td>\n",
       "      <td>False</td>\n",
       "    </tr>\n",
       "    <tr>\n",
       "      <th>...</th>\n",
       "      <td>...</td>\n",
       "      <td>...</td>\n",
       "      <td>...</td>\n",
       "      <td>...</td>\n",
       "      <td>...</td>\n",
       "      <td>...</td>\n",
       "      <td>...</td>\n",
       "    </tr>\n",
       "    <tr>\n",
       "      <th>2017-01-01 06:49:33+00:00</th>\n",
       "      <td>Twitter for iPhone</td>\n",
       "      <td>815449868739211264</td>\n",
       "      <td>RT @DonaldJTrumpJr: Happy new year everyone. #...</td>\n",
       "      <td>6847.0</td>\n",
       "      <td>NaN</td>\n",
       "      <td>0.0</td>\n",
       "      <td>True</td>\n",
       "    </tr>\n",
       "    <tr>\n",
       "      <th>2017-01-01 05:44:17+00:00</th>\n",
       "      <td>Twitter for iPhone</td>\n",
       "      <td>815433444591304704</td>\n",
       "      <td>RT @EricTrump: 2016 was such an incredible yea...</td>\n",
       "      <td>6941.0</td>\n",
       "      <td>NaN</td>\n",
       "      <td>0.0</td>\n",
       "      <td>True</td>\n",
       "    </tr>\n",
       "    <tr>\n",
       "      <th>2017-01-01 05:43:23+00:00</th>\n",
       "      <td>Twitter for iPhone</td>\n",
       "      <td>815433217595547648</td>\n",
       "      <td>RT @Reince: Happy New Year + God's blessings t...</td>\n",
       "      <td>7144.0</td>\n",
       "      <td>NaN</td>\n",
       "      <td>0.0</td>\n",
       "      <td>True</td>\n",
       "    </tr>\n",
       "    <tr>\n",
       "      <th>2017-01-01 05:39:13+00:00</th>\n",
       "      <td>Twitter for iPhone</td>\n",
       "      <td>815432169464197120</td>\n",
       "      <td>RT @DanScavino: On behalf of our next #POTUS &amp;...</td>\n",
       "      <td>5548.0</td>\n",
       "      <td>NaN</td>\n",
       "      <td>0.0</td>\n",
       "      <td>True</td>\n",
       "    </tr>\n",
       "    <tr>\n",
       "      <th>2017-01-01 05:00:10+00:00</th>\n",
       "      <td>Twitter for iPhone</td>\n",
       "      <td>815422340540547072</td>\n",
       "      <td>TO ALL AMERICANS-\\n#HappyNewYear &amp;amp; many bl...</td>\n",
       "      <td>32665.0</td>\n",
       "      <td>NaN</td>\n",
       "      <td>126230.0</td>\n",
       "      <td>False</td>\n",
       "    </tr>\n",
       "  </tbody>\n",
       "</table>\n",
       "<p>203755 rows × 7 columns</p>\n",
       "</div>"
      ],
      "text/plain": [
       "                                       source               id_str  \\\n",
       "created_at                                                           \n",
       "2018-12-31 23:53:06+00:00  Twitter for iPhone  1079888205351145472   \n",
       "2018-12-31 20:02:52+00:00  Twitter for iPhone  1079830268708556800   \n",
       "2018-12-31 20:02:52+00:00  Twitter for iPhone  1079830267274108928   \n",
       "2018-12-31 15:39:15+00:00  Twitter for iPhone  1079763923845419008   \n",
       "2018-12-31 15:37:14+00:00  Twitter for iPhone  1079763419908243456   \n",
       "...                                       ...                  ...   \n",
       "2017-01-01 06:49:33+00:00  Twitter for iPhone   815449868739211264   \n",
       "2017-01-01 05:44:17+00:00  Twitter for iPhone   815433444591304704   \n",
       "2017-01-01 05:43:23+00:00  Twitter for iPhone   815433217595547648   \n",
       "2017-01-01 05:39:13+00:00  Twitter for iPhone   815432169464197120   \n",
       "2017-01-01 05:00:10+00:00  Twitter for iPhone   815422340540547072   \n",
       "\n",
       "                                                                        text  \\\n",
       "created_at                                                                     \n",
       "2018-12-31 23:53:06+00:00            HAPPY NEW YEAR! https://t.co/bHoPDPQ7G6   \n",
       "2018-12-31 20:02:52+00:00  ....Senator Schumer, more than a year longer t...   \n",
       "2018-12-31 20:02:52+00:00  Heads of countries are calling wanting to know...   \n",
       "2018-12-31 15:39:15+00:00  It’s incredible how Democrats can all use thei...   \n",
       "2018-12-31 15:37:14+00:00  I’m in the Oval Office. Democrats, come back f...   \n",
       "...                                                                      ...   \n",
       "2017-01-01 06:49:33+00:00  RT @DonaldJTrumpJr: Happy new year everyone. #...   \n",
       "2017-01-01 05:44:17+00:00  RT @EricTrump: 2016 was such an incredible yea...   \n",
       "2017-01-01 05:43:23+00:00  RT @Reince: Happy New Year + God's blessings t...   \n",
       "2017-01-01 05:39:13+00:00  RT @DanScavino: On behalf of our next #POTUS &...   \n",
       "2017-01-01 05:00:10+00:00  TO ALL AMERICANS-\\n#HappyNewYear &amp; many bl...   \n",
       "\n",
       "                           retweet_count in_reply_to_user_id_str  \\\n",
       "created_at                                                         \n",
       "2018-12-31 23:53:06+00:00        33548.0                     NaN   \n",
       "2018-12-31 20:02:52+00:00        17456.0              25073877.0   \n",
       "2018-12-31 20:02:52+00:00        21030.0                     NaN   \n",
       "2018-12-31 15:39:15+00:00        29610.0                     NaN   \n",
       "2018-12-31 15:37:14+00:00        30957.0                     NaN   \n",
       "...                                  ...                     ...   \n",
       "2017-01-01 06:49:33+00:00         6847.0                     NaN   \n",
       "2017-01-01 05:44:17+00:00         6941.0                     NaN   \n",
       "2017-01-01 05:43:23+00:00         7144.0                     NaN   \n",
       "2017-01-01 05:39:13+00:00         5548.0                     NaN   \n",
       "2017-01-01 05:00:10+00:00        32665.0                     NaN   \n",
       "\n",
       "                           favorite_count is_retweet  \n",
       "created_at                                            \n",
       "2018-12-31 23:53:06+00:00        136012.0      False  \n",
       "2018-12-31 20:02:52+00:00         65069.0      False  \n",
       "2018-12-31 20:02:52+00:00         76721.0      False  \n",
       "2018-12-31 15:39:15+00:00        127485.0      False  \n",
       "2018-12-31 15:37:14+00:00        132439.0      False  \n",
       "...                                   ...        ...  \n",
       "2017-01-01 06:49:33+00:00             0.0       True  \n",
       "2017-01-01 05:44:17+00:00             0.0       True  \n",
       "2017-01-01 05:43:23+00:00             0.0       True  \n",
       "2017-01-01 05:39:13+00:00             0.0       True  \n",
       "2017-01-01 05:00:10+00:00        126230.0      False  \n",
       "\n",
       "[203755 rows x 7 columns]"
      ]
     },
     "execution_count": 89,
     "metadata": {},
     "output_type": "execute_result"
    }
   ],
   "source": [
    "df"
   ]
  },
  {
   "cell_type": "code",
   "execution_count": null,
   "metadata": {},
   "outputs": [],
   "source": []
  }
 ],
 "metadata": {
  "kernelspec": {
   "display_name": "learn-env",
   "language": "python",
   "name": "learn-env"
  },
  "language_info": {
   "codemirror_mode": {
    "name": "ipython",
    "version": 3
   },
   "file_extension": ".py",
   "mimetype": "text/x-python",
   "name": "python",
   "nbconvert_exporter": "python",
   "pygments_lexer": "ipython3",
   "version": "3.6.9"
  },
  "toc": {
   "base_numbering": 1,
   "nav_menu": {},
   "number_sections": true,
   "sideBar": true,
   "skip_h1_title": false,
   "title_cell": "Table of Contents",
   "title_sidebar": "Contents",
   "toc_cell": false,
   "toc_position": {},
   "toc_section_display": true,
   "toc_window_display": false
  }
 },
 "nbformat": 4,
 "nbformat_minor": 2
}
