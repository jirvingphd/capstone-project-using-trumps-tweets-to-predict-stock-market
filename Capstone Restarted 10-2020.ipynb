{
 "cells": [
  {
   "cell_type": "code",
   "execution_count": 46,
   "metadata": {
    "ExecuteTime": {
     "end_time": "2020-10-25T22:00:52.355927Z",
     "start_time": "2020-10-25T22:00:52.353596Z"
    }
   },
   "outputs": [],
   "source": [
    "## Control Downloading fresh data\n",
    "DOWNLOAD_DATA = False"
   ]
  },
  {
   "cell_type": "markdown",
   "metadata": {},
   "source": [
    "# OBTAIN"
   ]
  },
  {
   "cell_type": "markdown",
   "metadata": {
    "colab_type": "text",
    "id": "wofiIIk6hQtc"
   },
   "source": [
    "### DATA SOURCES:\n",
    "\n",
    "* **All Donald Trump tweets from 12/01/2016 (pre-inaugaration day) ~~to end of 08/23/2018~~**\n",
    "    *          ~~Extracted from http://www.trumptwitterarchive.com/~~\n",
    "    - Trump Twitter Archive 2.0 (now with API endpoint)\n",
    "    - https://www.thetrumparchive.com/\n",
    "\n",
    "* **Minute-resolution data for the S&P500 covering the same time period.**\n",
    "    *         IVE S&P500 Index from - http://www.kibot.com/free_historical_data.aspx\n",
    "    - (***Aggregate 1 min bid-ask data link***)\n",
    "        - http://api.kibot.com/?action=history&symbol=IVE&interval=tickbidask1&bp=1&user=guest\n",
    "    \n",
    "    \n",
    "* NOTE: Both sources required manual extraction and both 1-min historical stock data and batch-historical-tweet data are difficult to obtain without paying \\\\$150-\\\\$2000 monthly developer memberships. "
   ]
  },
  {
   "cell_type": "code",
   "execution_count": 4,
   "metadata": {
    "ExecuteTime": {
     "end_time": "2020-10-25T21:45:06.341562Z",
     "start_time": "2020-10-25T21:45:06.339164Z"
    }
   },
   "outputs": [],
   "source": [
    "import os,sys,glob,time\n",
    "sys.path.append('py_files/')\n",
    "\n",
    "## IMPORT CUSTOM CAPSTONE FUNCTIONS\n",
    "import functions_combined_BEST as ji\n",
    "import functions_io as io\n",
    "\n",
    "## Import data downloading packages\n",
    "import datetime as dt\n",
    "import requests\n",
    "import pandas as pd\n",
    "import json"
   ]
  },
  {
   "cell_type": "code",
   "execution_count": 6,
   "metadata": {
    "ExecuteTime": {
     "end_time": "2020-10-25T21:45:09.984661Z",
     "start_time": "2020-10-25T21:45:09.485070Z"
    }
   },
   "outputs": [
    {
     "name": "stdout",
     "output_type": "stream",
     "text": [
      "fsds v0.2.27 loaded.  Read the docs: https://fs-ds.readthedocs.io/en/latest/ \n"
     ]
    },
    {
     "data": {
      "text/html": [
       "<style  type=\"text/css\" >\n",
       "</style><table id=\"T_5ac16d58_170b_11eb_a76d_acde48001122\" ><caption>Loaded Packages and Handles</caption><thead>    <tr>        <th class=\"col_heading level0 col0\" >Handle</th>        <th class=\"col_heading level0 col1\" >Package</th>        <th class=\"col_heading level0 col2\" >Description</th>    </tr></thead><tbody>\n",
       "                <tr>\n",
       "                                <td id=\"T_5ac16d58_170b_11eb_a76d_acde48001122row0_col0\" class=\"data row0 col0\" >dp</td>\n",
       "                        <td id=\"T_5ac16d58_170b_11eb_a76d_acde48001122row0_col1\" class=\"data row0 col1\" >IPython.display</td>\n",
       "                        <td id=\"T_5ac16d58_170b_11eb_a76d_acde48001122row0_col2\" class=\"data row0 col2\" >Display modules with helpful display and clearing commands.</td>\n",
       "            </tr>\n",
       "            <tr>\n",
       "                                <td id=\"T_5ac16d58_170b_11eb_a76d_acde48001122row1_col0\" class=\"data row1 col0\" >fs</td>\n",
       "                        <td id=\"T_5ac16d58_170b_11eb_a76d_acde48001122row1_col1\" class=\"data row1 col1\" >fsds</td>\n",
       "                        <td id=\"T_5ac16d58_170b_11eb_a76d_acde48001122row1_col2\" class=\"data row1 col2\" >Custom data science bootcamp student package</td>\n",
       "            </tr>\n",
       "            <tr>\n",
       "                                <td id=\"T_5ac16d58_170b_11eb_a76d_acde48001122row2_col0\" class=\"data row2 col0\" >mpl</td>\n",
       "                        <td id=\"T_5ac16d58_170b_11eb_a76d_acde48001122row2_col1\" class=\"data row2 col1\" >matplotlib</td>\n",
       "                        <td id=\"T_5ac16d58_170b_11eb_a76d_acde48001122row2_col2\" class=\"data row2 col2\" >Matplotlib's base OOP module with formatting artists</td>\n",
       "            </tr>\n",
       "            <tr>\n",
       "                                <td id=\"T_5ac16d58_170b_11eb_a76d_acde48001122row3_col0\" class=\"data row3 col0\" >plt</td>\n",
       "                        <td id=\"T_5ac16d58_170b_11eb_a76d_acde48001122row3_col1\" class=\"data row3 col1\" >matplotlib.pyplot</td>\n",
       "                        <td id=\"T_5ac16d58_170b_11eb_a76d_acde48001122row3_col2\" class=\"data row3 col2\" >Matplotlib's matlab-like plotting module</td>\n",
       "            </tr>\n",
       "            <tr>\n",
       "                                <td id=\"T_5ac16d58_170b_11eb_a76d_acde48001122row4_col0\" class=\"data row4 col0\" >np</td>\n",
       "                        <td id=\"T_5ac16d58_170b_11eb_a76d_acde48001122row4_col1\" class=\"data row4 col1\" >numpy</td>\n",
       "                        <td id=\"T_5ac16d58_170b_11eb_a76d_acde48001122row4_col2\" class=\"data row4 col2\" >scientific computing with Python</td>\n",
       "            </tr>\n",
       "            <tr>\n",
       "                                <td id=\"T_5ac16d58_170b_11eb_a76d_acde48001122row5_col0\" class=\"data row5 col0\" >pd</td>\n",
       "                        <td id=\"T_5ac16d58_170b_11eb_a76d_acde48001122row5_col1\" class=\"data row5 col1\" >pandas</td>\n",
       "                        <td id=\"T_5ac16d58_170b_11eb_a76d_acde48001122row5_col2\" class=\"data row5 col2\" >High performance data structures and tools</td>\n",
       "            </tr>\n",
       "            <tr>\n",
       "                                <td id=\"T_5ac16d58_170b_11eb_a76d_acde48001122row6_col0\" class=\"data row6 col0\" >sns</td>\n",
       "                        <td id=\"T_5ac16d58_170b_11eb_a76d_acde48001122row6_col1\" class=\"data row6 col1\" >seaborn</td>\n",
       "                        <td id=\"T_5ac16d58_170b_11eb_a76d_acde48001122row6_col2\" class=\"data row6 col2\" >High-level data visualization library based on matplotlib</td>\n",
       "            </tr>\n",
       "    </tbody></table>"
      ],
      "text/plain": [
       "<pandas.io.formats.style.Styler at 0x7fe15a26b0f0>"
      ]
     },
     "metadata": {},
     "output_type": "display_data"
    },
    {
     "data": {
      "text/html": [
       "        <script type=\"text/javascript\">\n",
       "        window.PlotlyConfig = {MathJaxConfig: 'local'};\n",
       "        if (window.MathJax) {MathJax.Hub.Config({SVG: {font: \"STIX-Web\"}});}\n",
       "        if (typeof require !== 'undefined') {\n",
       "        require.undef(\"plotly\");\n",
       "        requirejs.config({\n",
       "            paths: {\n",
       "                'plotly': ['https://cdn.plot.ly/plotly-latest.min']\n",
       "            }\n",
       "        });\n",
       "        require(['plotly'], function(Plotly) {\n",
       "            window._Plotly = Plotly;\n",
       "        });\n",
       "        }\n",
       "        </script>\n",
       "        "
      ]
     },
     "metadata": {},
     "output_type": "display_data"
    },
    {
     "name": "stdout",
     "output_type": "stream",
     "text": [
      "[i] Pandas .iplot() method activated.\n"
     ]
    }
   ],
   "source": [
    "# !pip install -U fsds\n",
    "from fsds.imports import *"
   ]
  },
  {
   "cell_type": "code",
   "execution_count": 7,
   "metadata": {
    "ExecuteTime": {
     "end_time": "2020-10-25T21:45:10.710667Z",
     "start_time": "2020-10-25T21:45:10.702968Z"
    },
    "code_folding": []
   },
   "outputs": [],
   "source": [
    "def download_stock_data(fpath='data/ive_minute_tick_bidask_API.csv',\n",
    "                       verbose=True,append_date=True):\n",
    "    \"\"\"Downloads up-to-date IVE S&P 500 1-min aggregate data from \n",
    "    http://www.kibot.com/free_historical_data.aspx\n",
    "    \n",
    "    Args:\n",
    "        fpath (str): csv filepath to save (Default='data/ive_minute_tick_bidask_API.csv')\n",
    "        verbose (bool): Display file info (Default=True)\n",
    "        \n",
    "    Returns:\n",
    "        stock_df: DataFrame with correct headers and datetime index\"\"\"\n",
    "    agg_url = 'http://api.kibot.com/?action=history&symbol=IVE&interval=tickbidask1&bp=1&user=guest'\n",
    "    response = requests.get(agg_url,\n",
    "                            allow_redirects=True)\n",
    "\n",
    "    ## Save output to csv file\n",
    "    with open(fpath,'wb') as file:\n",
    "        file.write(response.content)\n",
    "        \n",
    "        \n",
    "    ## Load in Stock Data Frame with headers (then save)\n",
    "    headers = ['Date','Time','BidOpen','BidHigh','BidLow','BidClose','AskOpen','AskHigh','AskLow','AskClose']\n",
    "    stock_df = pd.read_csv(fpath,names=headers)\n",
    "\n",
    "# \n",
    "    ## Make Combined Date Time column and Drop Origs\n",
    "    stock_df['datetime'] = pd.to_datetime(stock_df['Date'].astype(str)+' '+stock_df['Time'].astype(str))\n",
    "    \n",
    "    if append_date:\n",
    "        suffix = dt.date.today().strftime('%m-%d-%y')\n",
    "        fpath = f\"{fpath.split('.csv')[0]}_{suffix}.csv\"\n",
    "        \n",
    "    print(f'Saving as {fpath}')\n",
    "    stock_df.to_csv(fpath,index=False)\n",
    "        \n",
    "    if verbose:\n",
    "        print('[i] Stock data successfully downloaded and saved as:')\n",
    "        print(' - ',fpath)\n",
    "        \n",
    "    return pd.read_csv(fpath,parse_dates=['datetime'],index_col='datetime')"
   ]
  },
  {
   "cell_type": "code",
   "execution_count": 17,
   "metadata": {
    "ExecuteTime": {
     "end_time": "2020-10-25T21:56:12.544494Z",
     "start_time": "2020-10-25T21:56:12.538958Z"
    },
    "code_folding": []
   },
   "outputs": [],
   "source": [
    "def download_trump_tweets(fpath='data/trump_tweets.csv',append_date=True,\n",
    "                          verbose=True,return_data=True):\n",
    "    \"\"\"Downloads the most recent data from the trumptwittearchive v2.\n",
    "    https://drive.google.com/uc?export=download&id=1JZnhB0Nq_2RKtDb-IOnd0XxnD5c7x-nQ\n",
    "    \n",
    "    Args:\n",
    "        fpath (str): filepath for data that ends with .csv\n",
    "        append_date (bool): Whether to save today's date as part of filename(Default=True)\n",
    "        verbose (bool): Whether to print the file name (Default=True)\n",
    "        return_data (bool): Whether to return the data as a df (Default=True)\"\"\"\n",
    "#     url = \"https://www.thetrumparchive.com/latest-tweets\"\n",
    "    url=\"https://drive.google.com/uc?export=download&id=1JZnhB0Nq_2RKtDb-IOnd0XxnD5c7x-nQ\"\n",
    "    response = requests.get(url)\n",
    "    \n",
    "    if append_date:\n",
    "        suffix = \"_\"+dt.date.today().strftime('%m-%d-%y')\n",
    "        filepath = f\"{fpath.split('.')[0]}{suffix}.{fpath.split('.')[-1]}\"\n",
    "    else:\n",
    "        filepath=fpath\n",
    "        \n",
    "        \n",
    "    ## Save output to csv file\n",
    "    with open(filepath,'wb') as file:\n",
    "        file.write(response.content)  \n",
    "        \n",
    "#     with open(filepath,'w') as f:\n",
    "# #         f.write(response.content)\n",
    "#         f.write(json.dumps(response.json()))\n",
    "    \n",
    "#     if fpath.endswith('.csv'):\n",
    "#         tweets = pd.read_json(filepath)\n",
    "#         tweets.to_csv(filepath)\n",
    "#     else: \n",
    "#         tweets = pd.read_json(filepath)\n",
    "        \n",
    "    if verbose:\n",
    "        print('[i] Tweet data successfully downloaded and saved as:')\n",
    "        print('- ',filepath)\n",
    "        \n",
    "    if return_data:\n",
    "\n",
    "        return pd.read_csv(filepath,index_col=0,parse_dates=['date'])\n",
    "#tweets#,parse_dates=['created_at'])"
   ]
  },
  {
   "cell_type": "code",
   "execution_count": 59,
   "metadata": {
    "ExecuteTime": {
     "end_time": "2020-10-25T22:03:19.964773Z",
     "start_time": "2020-10-25T22:03:18.537790Z"
    }
   },
   "outputs": [
    {
     "name": "stdout",
     "output_type": "stream",
     "text": [
      "[i] Loading most recent data sets...\n"
     ]
    },
    {
     "data": {
      "text/html": [
       "<div>\n",
       "<style scoped>\n",
       "    .dataframe tbody tr th:only-of-type {\n",
       "        vertical-align: middle;\n",
       "    }\n",
       "\n",
       "    .dataframe tbody tr th {\n",
       "        vertical-align: top;\n",
       "    }\n",
       "\n",
       "    .dataframe thead th {\n",
       "        text-align: right;\n",
       "    }\n",
       "</style>\n",
       "<table border=\"1\" class=\"dataframe\">\n",
       "  <thead>\n",
       "    <tr style=\"text-align: right;\">\n",
       "      <th></th>\n",
       "      <th>Date</th>\n",
       "      <th>Time</th>\n",
       "      <th>BidOpen</th>\n",
       "      <th>BidHigh</th>\n",
       "      <th>BidLow</th>\n",
       "      <th>BidClose</th>\n",
       "      <th>AskOpen</th>\n",
       "      <th>AskHigh</th>\n",
       "      <th>AskLow</th>\n",
       "      <th>AskClose</th>\n",
       "    </tr>\n",
       "    <tr>\n",
       "      <th>datetime</th>\n",
       "      <th></th>\n",
       "      <th></th>\n",
       "      <th></th>\n",
       "      <th></th>\n",
       "      <th></th>\n",
       "      <th></th>\n",
       "      <th></th>\n",
       "      <th></th>\n",
       "      <th></th>\n",
       "      <th></th>\n",
       "    </tr>\n",
       "  </thead>\n",
       "  <tbody>\n",
       "    <tr>\n",
       "      <th>2009-09-28 09:30:00</th>\n",
       "      <td>09/28/2009</td>\n",
       "      <td>09:30</td>\n",
       "      <td>39.06</td>\n",
       "      <td>39.06</td>\n",
       "      <td>39.06</td>\n",
       "      <td>39.06</td>\n",
       "      <td>39.13</td>\n",
       "      <td>39.13</td>\n",
       "      <td>39.13</td>\n",
       "      <td>39.13</td>\n",
       "    </tr>\n",
       "    <tr>\n",
       "      <th>2009-09-28 09:31:00</th>\n",
       "      <td>09/28/2009</td>\n",
       "      <td>09:31</td>\n",
       "      <td>39.10</td>\n",
       "      <td>39.10</td>\n",
       "      <td>39.08</td>\n",
       "      <td>39.09</td>\n",
       "      <td>39.11</td>\n",
       "      <td>39.11</td>\n",
       "      <td>39.10</td>\n",
       "      <td>39.11</td>\n",
       "    </tr>\n",
       "    <tr>\n",
       "      <th>2009-09-28 09:32:00</th>\n",
       "      <td>09/28/2009</td>\n",
       "      <td>09:32</td>\n",
       "      <td>39.11</td>\n",
       "      <td>39.15</td>\n",
       "      <td>39.11</td>\n",
       "      <td>39.15</td>\n",
       "      <td>39.12</td>\n",
       "      <td>39.16</td>\n",
       "      <td>39.12</td>\n",
       "      <td>39.16</td>\n",
       "    </tr>\n",
       "    <tr>\n",
       "      <th>2009-09-28 09:33:00</th>\n",
       "      <td>09/28/2009</td>\n",
       "      <td>09:33</td>\n",
       "      <td>39.14</td>\n",
       "      <td>39.14</td>\n",
       "      <td>39.14</td>\n",
       "      <td>39.14</td>\n",
       "      <td>39.15</td>\n",
       "      <td>39.16</td>\n",
       "      <td>39.15</td>\n",
       "      <td>39.15</td>\n",
       "    </tr>\n",
       "    <tr>\n",
       "      <th>2009-09-28 09:34:00</th>\n",
       "      <td>09/28/2009</td>\n",
       "      <td>09:34</td>\n",
       "      <td>39.14</td>\n",
       "      <td>39.14</td>\n",
       "      <td>39.12</td>\n",
       "      <td>39.12</td>\n",
       "      <td>39.15</td>\n",
       "      <td>39.15</td>\n",
       "      <td>39.14</td>\n",
       "      <td>39.14</td>\n",
       "    </tr>\n",
       "  </tbody>\n",
       "</table>\n",
       "</div>"
      ],
      "text/plain": [
       "                           Date   Time  BidOpen  BidHigh  BidLow  BidClose  \\\n",
       "datetime                                                                     \n",
       "2009-09-28 09:30:00  09/28/2009  09:30    39.06    39.06   39.06     39.06   \n",
       "2009-09-28 09:31:00  09/28/2009  09:31    39.10    39.10   39.08     39.09   \n",
       "2009-09-28 09:32:00  09/28/2009  09:32    39.11    39.15   39.11     39.15   \n",
       "2009-09-28 09:33:00  09/28/2009  09:33    39.14    39.14   39.14     39.14   \n",
       "2009-09-28 09:34:00  09/28/2009  09:34    39.14    39.14   39.12     39.12   \n",
       "\n",
       "                     AskOpen  AskHigh  AskLow  AskClose  \n",
       "datetime                                                 \n",
       "2009-09-28 09:30:00    39.13    39.13   39.13     39.13  \n",
       "2009-09-28 09:31:00    39.11    39.11   39.10     39.11  \n",
       "2009-09-28 09:32:00    39.12    39.16   39.12     39.16  \n",
       "2009-09-28 09:33:00    39.15    39.16   39.15     39.15  \n",
       "2009-09-28 09:34:00    39.15    39.15   39.14     39.14  "
      ]
     },
     "metadata": {},
     "output_type": "display_data"
    },
    {
     "data": {
      "text/html": [
       "<div>\n",
       "<style scoped>\n",
       "    .dataframe tbody tr th:only-of-type {\n",
       "        vertical-align: middle;\n",
       "    }\n",
       "\n",
       "    .dataframe tbody tr th {\n",
       "        vertical-align: top;\n",
       "    }\n",
       "\n",
       "    .dataframe thead th {\n",
       "        text-align: right;\n",
       "    }\n",
       "</style>\n",
       "<table border=\"1\" class=\"dataframe\">\n",
       "  <thead>\n",
       "    <tr style=\"text-align: right;\">\n",
       "      <th></th>\n",
       "      <th>id</th>\n",
       "      <th>text</th>\n",
       "      <th>isRetweet</th>\n",
       "      <th>isDeleted</th>\n",
       "      <th>device</th>\n",
       "      <th>favorites</th>\n",
       "      <th>retweets</th>\n",
       "      <th>date</th>\n",
       "    </tr>\n",
       "  </thead>\n",
       "  <tbody>\n",
       "    <tr>\n",
       "      <th>0</th>\n",
       "      <td>98454970654916608</td>\n",
       "      <td>Republicans and Democrats have both created ou...</td>\n",
       "      <td>f</td>\n",
       "      <td>f</td>\n",
       "      <td>TweetDeck</td>\n",
       "      <td>49</td>\n",
       "      <td>255</td>\n",
       "      <td>2011-08-02 18:07:48</td>\n",
       "    </tr>\n",
       "    <tr>\n",
       "      <th>1</th>\n",
       "      <td>1234653427789070336</td>\n",
       "      <td>I was thrilled to be back in the Great city of...</td>\n",
       "      <td>f</td>\n",
       "      <td>f</td>\n",
       "      <td>Twitter for iPhone</td>\n",
       "      <td>73748</td>\n",
       "      <td>17404</td>\n",
       "      <td>2020-03-03 01:34:50</td>\n",
       "    </tr>\n",
       "    <tr>\n",
       "      <th>2</th>\n",
       "      <td>1218010753434820614</td>\n",
       "      <td>RT @CBS_Herridge: READ: Letter to surveillance...</td>\n",
       "      <td>t</td>\n",
       "      <td>f</td>\n",
       "      <td>Twitter for iPhone</td>\n",
       "      <td>0</td>\n",
       "      <td>7396</td>\n",
       "      <td>2020-01-17 03:22:47</td>\n",
       "    </tr>\n",
       "    <tr>\n",
       "      <th>3</th>\n",
       "      <td>1304875170860015617</td>\n",
       "      <td>The Unsolicited Mail In Ballot Scam is a major...</td>\n",
       "      <td>f</td>\n",
       "      <td>f</td>\n",
       "      <td>Twitter for iPhone</td>\n",
       "      <td>80527</td>\n",
       "      <td>23502</td>\n",
       "      <td>2020-09-12 20:10:58</td>\n",
       "    </tr>\n",
       "    <tr>\n",
       "      <th>4</th>\n",
       "      <td>1218159531554897920</td>\n",
       "      <td>RT @MZHemingway: Very friendly telling of even...</td>\n",
       "      <td>t</td>\n",
       "      <td>f</td>\n",
       "      <td>Twitter for iPhone</td>\n",
       "      <td>0</td>\n",
       "      <td>9081</td>\n",
       "      <td>2020-01-17 13:13:59</td>\n",
       "    </tr>\n",
       "  </tbody>\n",
       "</table>\n",
       "</div>"
      ],
      "text/plain": [
       "                    id                                               text  \\\n",
       "0    98454970654916608  Republicans and Democrats have both created ou...   \n",
       "1  1234653427789070336  I was thrilled to be back in the Great city of...   \n",
       "2  1218010753434820614  RT @CBS_Herridge: READ: Letter to surveillance...   \n",
       "3  1304875170860015617  The Unsolicited Mail In Ballot Scam is a major...   \n",
       "4  1218159531554897920  RT @MZHemingway: Very friendly telling of even...   \n",
       "\n",
       "  isRetweet isDeleted              device  favorites  retweets  \\\n",
       "0         f         f           TweetDeck         49       255   \n",
       "1         f         f  Twitter for iPhone      73748     17404   \n",
       "2         t         f  Twitter for iPhone          0      7396   \n",
       "3         f         f  Twitter for iPhone      80527     23502   \n",
       "4         t         f  Twitter for iPhone          0      9081   \n",
       "\n",
       "                 date  \n",
       "0 2011-08-02 18:07:48  \n",
       "1 2020-03-03 01:34:50  \n",
       "2 2020-01-17 03:22:47  \n",
       "3 2020-09-12 20:10:58  \n",
       "4 2020-01-17 13:13:59  "
      ]
     },
     "metadata": {},
     "output_type": "display_data"
    }
   ],
   "source": [
    "## DOWNLOAD THE DATA IF REQUESTED\n",
    "if DOWNLOAD_DATA:\n",
    "    print('[i] Downoading data sets...')\n",
    "    stock_df = download_stock_data()\n",
    "    tweets = download_trump_tweets()\n",
    "    \n",
    "else: \n",
    "    print('[i] Loading most recent data sets...')\n",
    "    ## Get list of current csvs\n",
    "    files_glob = glob.glob('data/*.csv')\n",
    "    stock_files = list(filter(lambda x: 'ive_minute' in x, files_glob))\n",
    "    tweet_files = list(filter(lambda x: 'tweet' in x, files_glob))\n",
    "\n",
    "\n",
    "    ## make dictionaries of file date modifieds\n",
    "    TWEET_FILES = {}\n",
    "    for file in tweet_files:\n",
    "        TWEET_FILES[file] = pd.to_datetime(time.ctime(os.path.getmtime(file)))\n",
    "\n",
    "    STOCK_FILES = {}\n",
    "    for file in stock_files:\n",
    "        STOCK_FILES[file] = pd.to_datetime(time.ctime(os.path.getmtime(file)))\n",
    "\n",
    "        \n",
    "    ## Get most recent files\n",
    "    recent_stocks = pd.Series(STOCK_FILES).idxmax()\n",
    "    recent_tweets = pd.Series(TWEET_FILES).idxmax()\n",
    "    \n",
    "    ## Load in the csvs \n",
    "    tweets = pd.read_csv(recent_tweets,parse_dates=['date'])\n",
    "    stock_df = pd.read_csv(recent_stocks,parse_dates=['datetime'],index_col='datetime')\n",
    "\n",
    "## Display Preview of DFs\n",
    "display(stock_df.head(),tweets.head())"
   ]
  },
  {
   "cell_type": "code",
   "execution_count": 60,
   "metadata": {
    "ExecuteTime": {
     "end_time": "2020-10-25T22:03:19.969746Z",
     "start_time": "2020-10-25T22:03:19.966493Z"
    }
   },
   "outputs": [
    {
     "data": {
      "text/plain": [
       "((913056, 10), (54442, 8))"
      ]
     },
     "execution_count": 60,
     "metadata": {},
     "output_type": "execute_result"
    }
   ],
   "source": [
    "stock_df.shape, tweets.shape"
   ]
  },
  {
   "cell_type": "markdown",
   "metadata": {},
   "source": [
    "# Creating the Target"
   ]
  },
  {
   "cell_type": "markdown",
   "metadata": {},
   "source": [
    "## Stock Preprocessing"
   ]
  },
  {
   "cell_type": "code",
   "execution_count": 61,
   "metadata": {
    "ExecuteTime": {
     "end_time": "2020-10-25T22:03:20.091574Z",
     "start_time": "2020-10-25T22:03:20.060899Z"
    }
   },
   "outputs": [
    {
     "data": {
      "text/html": [
       "<div>\n",
       "<style scoped>\n",
       "    .dataframe tbody tr th:only-of-type {\n",
       "        vertical-align: middle;\n",
       "    }\n",
       "\n",
       "    .dataframe tbody tr th {\n",
       "        vertical-align: top;\n",
       "    }\n",
       "\n",
       "    .dataframe thead th {\n",
       "        text-align: right;\n",
       "    }\n",
       "</style>\n",
       "<table border=\"1\" class=\"dataframe\">\n",
       "  <thead>\n",
       "    <tr style=\"text-align: right;\">\n",
       "      <th></th>\n",
       "      <th>datetime</th>\n",
       "      <th>BidClose</th>\n",
       "    </tr>\n",
       "  </thead>\n",
       "  <tbody>\n",
       "    <tr>\n",
       "      <th>0</th>\n",
       "      <td>2009-09-28 09:30:00</td>\n",
       "      <td>39.06</td>\n",
       "    </tr>\n",
       "    <tr>\n",
       "      <th>1</th>\n",
       "      <td>2009-09-28 09:31:00</td>\n",
       "      <td>39.09</td>\n",
       "    </tr>\n",
       "    <tr>\n",
       "      <th>2</th>\n",
       "      <td>2009-09-28 09:32:00</td>\n",
       "      <td>39.15</td>\n",
       "    </tr>\n",
       "    <tr>\n",
       "      <th>3</th>\n",
       "      <td>2009-09-28 09:33:00</td>\n",
       "      <td>39.14</td>\n",
       "    </tr>\n",
       "    <tr>\n",
       "      <th>4</th>\n",
       "      <td>2009-09-28 09:34:00</td>\n",
       "      <td>39.12</td>\n",
       "    </tr>\n",
       "    <tr>\n",
       "      <th>...</th>\n",
       "      <td>...</td>\n",
       "      <td>...</td>\n",
       "    </tr>\n",
       "    <tr>\n",
       "      <th>913051</th>\n",
       "      <td>2020-10-23 15:56:00</td>\n",
       "      <td>116.83</td>\n",
       "    </tr>\n",
       "    <tr>\n",
       "      <th>913052</th>\n",
       "      <td>2020-10-23 15:57:00</td>\n",
       "      <td>116.86</td>\n",
       "    </tr>\n",
       "    <tr>\n",
       "      <th>913053</th>\n",
       "      <td>2020-10-23 15:58:00</td>\n",
       "      <td>116.82</td>\n",
       "    </tr>\n",
       "    <tr>\n",
       "      <th>913054</th>\n",
       "      <td>2020-10-23 15:59:00</td>\n",
       "      <td>116.87</td>\n",
       "    </tr>\n",
       "    <tr>\n",
       "      <th>913055</th>\n",
       "      <td>2020-10-23 16:00:00</td>\n",
       "      <td>116.87</td>\n",
       "    </tr>\n",
       "  </tbody>\n",
       "</table>\n",
       "<p>913056 rows × 2 columns</p>\n",
       "</div>"
      ],
      "text/plain": [
       "                  datetime  BidClose\n",
       "0      2009-09-28 09:30:00     39.06\n",
       "1      2009-09-28 09:31:00     39.09\n",
       "2      2009-09-28 09:32:00     39.15\n",
       "3      2009-09-28 09:33:00     39.14\n",
       "4      2009-09-28 09:34:00     39.12\n",
       "...                    ...       ...\n",
       "913051 2020-10-23 15:56:00    116.83\n",
       "913052 2020-10-23 15:57:00    116.86\n",
       "913053 2020-10-23 15:58:00    116.82\n",
       "913054 2020-10-23 15:59:00    116.87\n",
       "913055 2020-10-23 16:00:00    116.87\n",
       "\n",
       "[913056 rows x 2 columns]"
      ]
     },
     "execution_count": 61,
     "metadata": {},
     "output_type": "execute_result"
    }
   ],
   "source": [
    "stock_df = stock_df[['BidClose']].reset_index()#.asfreq('T')\n",
    "stock_df"
   ]
  },
  {
   "cell_type": "code",
   "execution_count": 62,
   "metadata": {
    "ExecuteTime": {
     "end_time": "2020-10-25T22:03:20.930166Z",
     "start_time": "2020-10-25T22:03:20.917396Z"
    }
   },
   "outputs": [
    {
     "data": {
      "text/plain": [
       "datetime    0\n",
       "BidClose    0\n",
       "dtype: int64"
      ]
     },
     "execution_count": 62,
     "metadata": {},
     "output_type": "execute_result"
    }
   ],
   "source": [
    "stock_df.isna().sum()"
   ]
  },
  {
   "cell_type": "code",
   "execution_count": 66,
   "metadata": {
    "ExecuteTime": {
     "end_time": "2020-10-25T22:03:48.261235Z",
     "start_time": "2020-10-25T22:03:48.221471Z"
    }
   },
   "outputs": [
    {
     "data": {
      "text/plain": [
       "(913039, 2)"
      ]
     },
     "execution_count": 66,
     "metadata": {},
     "output_type": "execute_result"
    }
   ],
   "source": [
    "# ## Remove rare 0-values\n",
    "stock_df = stock_df[~(stock_df==0).any(axis=1)]\n",
    "stock_df.shape"
   ]
  },
  {
   "cell_type": "code",
   "execution_count": 67,
   "metadata": {
    "ExecuteTime": {
     "end_time": "2020-10-25T22:03:49.543647Z",
     "start_time": "2020-10-25T22:03:49.535718Z"
    }
   },
   "outputs": [
    {
     "data": {
      "text/plain": [
       "datetime    0\n",
       "BidClose    0\n",
       "dtype: int64"
      ]
     },
     "execution_count": 67,
     "metadata": {},
     "output_type": "execute_result"
    }
   ],
   "source": [
    "(stock_df==0).sum()"
   ]
  },
  {
   "cell_type": "code",
   "execution_count": 68,
   "metadata": {
    "ExecuteTime": {
     "end_time": "2020-10-25T22:03:50.554434Z",
     "start_time": "2020-10-25T22:03:50.550396Z"
    }
   },
   "outputs": [
    {
     "data": {
      "text/plain": [
       "Int64Index([     0,      1,      2,      3,      4,      5,      6,      7,\n",
       "                 8,      9,\n",
       "            ...\n",
       "            913046, 913047, 913048, 913049, 913050, 913051, 913052, 913053,\n",
       "            913054, 913055],\n",
       "           dtype='int64', length=913039)"
      ]
     },
     "execution_count": 68,
     "metadata": {},
     "output_type": "execute_result"
    }
   ],
   "source": [
    "stock_df.index"
   ]
  },
  {
   "cell_type": "code",
   "execution_count": 70,
   "metadata": {
    "ExecuteTime": {
     "end_time": "2020-10-25T22:04:02.292184Z",
     "start_time": "2020-10-25T22:04:00.493459Z"
    }
   },
   "outputs": [
    {
     "data": {
      "text/plain": [
       "<AxesSubplot:xlabel='datetime'>"
      ]
     },
     "execution_count": 70,
     "metadata": {},
     "output_type": "execute_result"
    },
    {
     "data": {
      "image/png": "[encoded data removed]",
      "text/plain": [
       "<Figure size 432x288 with 1 Axes>"
      ]
     },
     "metadata": {
      "needs_background": "light"
     },
     "output_type": "display_data"
    }
   ],
   "source": [
    "stock_df.plot('datetime','BidClose')"
   ]
  },
  {
   "cell_type": "markdown",
   "metadata": {},
   "source": [
    "## Tweet Processing"
   ]
  },
  {
   "cell_type": "code",
   "execution_count": 72,
   "metadata": {
    "ExecuteTime": {
     "end_time": "2020-10-25T22:04:29.608768Z",
     "start_time": "2020-10-25T22:04:29.576507Z"
    }
   },
   "outputs": [
    {
     "name": "stdout",
     "output_type": "stream",
     "text": [
      "<class 'pandas.core.frame.DataFrame'>\n",
      "RangeIndex: 54442 entries, 0 to 54441\n",
      "Data columns (total 8 columns):\n",
      " #   Column     Non-Null Count  Dtype         \n",
      "---  ------     --------------  -----         \n",
      " 0   id         54442 non-null  int64         \n",
      " 1   text       54442 non-null  object        \n",
      " 2   isRetweet  54442 non-null  object        \n",
      " 3   isDeleted  54442 non-null  object        \n",
      " 4   device     54442 non-null  object        \n",
      " 5   favorites  54442 non-null  int64         \n",
      " 6   retweets   54442 non-null  int64         \n",
      " 7   date       54442 non-null  datetime64[ns]\n",
      "dtypes: datetime64[ns](1), int64(3), object(4)\n",
      "memory usage: 3.3+ MB\n"
     ]
    },
    {
     "data": {
      "text/html": [
       "<div>\n",
       "<style scoped>\n",
       "    .dataframe tbody tr th:only-of-type {\n",
       "        vertical-align: middle;\n",
       "    }\n",
       "\n",
       "    .dataframe tbody tr th {\n",
       "        vertical-align: top;\n",
       "    }\n",
       "\n",
       "    .dataframe thead th {\n",
       "        text-align: right;\n",
       "    }\n",
       "</style>\n",
       "<table border=\"1\" class=\"dataframe\">\n",
       "  <thead>\n",
       "    <tr style=\"text-align: right;\">\n",
       "      <th></th>\n",
       "      <th>id</th>\n",
       "      <th>text</th>\n",
       "      <th>isRetweet</th>\n",
       "      <th>isDeleted</th>\n",
       "      <th>device</th>\n",
       "      <th>favorites</th>\n",
       "      <th>retweets</th>\n",
       "      <th>date</th>\n",
       "    </tr>\n",
       "  </thead>\n",
       "  <tbody>\n",
       "    <tr>\n",
       "      <th>0</th>\n",
       "      <td>98454970654916608</td>\n",
       "      <td>Republicans and Democrats have both created ou...</td>\n",
       "      <td>f</td>\n",
       "      <td>f</td>\n",
       "      <td>TweetDeck</td>\n",
       "      <td>49</td>\n",
       "      <td>255</td>\n",
       "      <td>2011-08-02 18:07:48</td>\n",
       "    </tr>\n",
       "    <tr>\n",
       "      <th>1</th>\n",
       "      <td>1234653427789070336</td>\n",
       "      <td>I was thrilled to be back in the Great city of...</td>\n",
       "      <td>f</td>\n",
       "      <td>f</td>\n",
       "      <td>Twitter for iPhone</td>\n",
       "      <td>73748</td>\n",
       "      <td>17404</td>\n",
       "      <td>2020-03-03 01:34:50</td>\n",
       "    </tr>\n",
       "    <tr>\n",
       "      <th>2</th>\n",
       "      <td>1218010753434820614</td>\n",
       "      <td>RT @CBS_Herridge: READ: Letter to surveillance...</td>\n",
       "      <td>t</td>\n",
       "      <td>f</td>\n",
       "      <td>Twitter for iPhone</td>\n",
       "      <td>0</td>\n",
       "      <td>7396</td>\n",
       "      <td>2020-01-17 03:22:47</td>\n",
       "    </tr>\n",
       "    <tr>\n",
       "      <th>3</th>\n",
       "      <td>1304875170860015617</td>\n",
       "      <td>The Unsolicited Mail In Ballot Scam is a major...</td>\n",
       "      <td>f</td>\n",
       "      <td>f</td>\n",
       "      <td>Twitter for iPhone</td>\n",
       "      <td>80527</td>\n",
       "      <td>23502</td>\n",
       "      <td>2020-09-12 20:10:58</td>\n",
       "    </tr>\n",
       "    <tr>\n",
       "      <th>4</th>\n",
       "      <td>1218159531554897920</td>\n",
       "      <td>RT @MZHemingway: Very friendly telling of even...</td>\n",
       "      <td>t</td>\n",
       "      <td>f</td>\n",
       "      <td>Twitter for iPhone</td>\n",
       "      <td>0</td>\n",
       "      <td>9081</td>\n",
       "      <td>2020-01-17 13:13:59</td>\n",
       "    </tr>\n",
       "  </tbody>\n",
       "</table>\n",
       "</div>"
      ],
      "text/plain": [
       "                    id                                               text  \\\n",
       "0    98454970654916608  Republicans and Democrats have both created ou...   \n",
       "1  1234653427789070336  I was thrilled to be back in the Great city of...   \n",
       "2  1218010753434820614  RT @CBS_Herridge: READ: Letter to surveillance...   \n",
       "3  1304875170860015617  The Unsolicited Mail In Ballot Scam is a major...   \n",
       "4  1218159531554897920  RT @MZHemingway: Very friendly telling of even...   \n",
       "\n",
       "  isRetweet isDeleted              device  favorites  retweets  \\\n",
       "0         f         f           TweetDeck         49       255   \n",
       "1         f         f  Twitter for iPhone      73748     17404   \n",
       "2         t         f  Twitter for iPhone          0      7396   \n",
       "3         f         f  Twitter for iPhone      80527     23502   \n",
       "4         t         f  Twitter for iPhone          0      9081   \n",
       "\n",
       "                 date  \n",
       "0 2011-08-02 18:07:48  \n",
       "1 2020-03-03 01:34:50  \n",
       "2 2020-01-17 03:22:47  \n",
       "3 2020-09-12 20:10:58  \n",
       "4 2020-01-17 13:13:59  "
      ]
     },
     "metadata": {},
     "output_type": "display_data"
    },
    {
     "data": {
      "text/plain": [
       "None"
      ]
     },
     "metadata": {},
     "output_type": "display_data"
    }
   ],
   "source": [
    "display(tweets.head(),tweets.info())"
   ]
  },
  {
   "cell_type": "code",
   "execution_count": 73,
   "metadata": {
    "ExecuteTime": {
     "end_time": "2020-10-25T22:04:32.523551Z",
     "start_time": "2020-10-25T22:04:32.521465Z"
    }
   },
   "outputs": [],
   "source": [
    "# ## Train Test Split\n",
    "# from sklearn.model_selection import train_test_split\n",
    "# X_train, X_test, y_train,y_test = train_test_split(X,y,random_state=42)"
   ]
  },
  {
   "cell_type": "code",
   "execution_count": 14,
   "metadata": {
    "ExecuteTime": {
     "end_time": "2020-10-25T21:52:04.017800Z",
     "start_time": "2020-10-25T21:52:04.015965Z"
    }
   },
   "outputs": [],
   "source": [
    "# df.index"
   ]
  },
  {
   "cell_type": "code",
   "execution_count": null,
   "metadata": {},
   "outputs": [],
   "source": []
  }
 ],
 "metadata": {
  "kernelspec": {
   "display_name": "Python [conda env:learn-env] *",
   "language": "python",
   "name": "conda-env-learn-env-py"
  },
  "language_info": {
   "codemirror_mode": {
    "name": "ipython",
    "version": 3
   },
   "file_extension": ".py",
   "mimetype": "text/x-python",
   "name": "python",
   "nbconvert_exporter": "python",
   "pygments_lexer": "ipython3",
   "version": "3.6.11"
  },
  "toc": {
   "base_numbering": 1,
   "nav_menu": {},
   "number_sections": true,
   "sideBar": true,
   "skip_h1_title": false,
   "title_cell": "Table of Contents",
   "title_sidebar": "Contents",
   "toc_cell": false,
   "toc_position": {},
   "toc_section_display": true,
   "toc_window_display": false
  }
 },
 "nbformat": 4,
 "nbformat_minor": 4
}
