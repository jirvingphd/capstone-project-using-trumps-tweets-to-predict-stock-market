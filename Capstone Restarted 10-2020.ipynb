{
 "cells": [
  {
   "cell_type": "code",
   "execution_count": 8,
   "metadata": {
    "ExecuteTime": {
     "end_time": "2020-10-24T20:23:54.593740Z",
     "start_time": "2020-10-24T20:23:54.578852Z"
    }
   },
   "outputs": [
    {
     "data": {
      "text/html": [
       "        <script type=\"text/javascript\">\n",
       "        window.PlotlyConfig = {MathJaxConfig: 'local'};\n",
       "        if (window.MathJax) {MathJax.Hub.Config({SVG: {font: \"STIX-Web\"}});}\n",
       "        if (typeof require !== 'undefined') {\n",
       "        require.undef(\"plotly\");\n",
       "        requirejs.config({\n",
       "            paths: {\n",
       "                'plotly': ['https://cdn.plot.ly/plotly-latest.min']\n",
       "            }\n",
       "        });\n",
       "        require(['plotly'], function(Plotly) {\n",
       "            window._Plotly = Plotly;\n",
       "        });\n",
       "        }\n",
       "        </script>\n",
       "        "
      ]
     },
     "metadata": {},
     "output_type": "display_data"
    }
   ],
   "source": [
    "## IMPORT CUSTOM CAPSTONE FUNCTIONS\n",
    "import functions_combined_BEST as ji\n",
    "import functions_io as io"
   ]
  },
  {
   "cell_type": "code",
   "execution_count": 1,
   "metadata": {
    "ExecuteTime": {
     "end_time": "2020-10-24T20:21:32.459206Z",
     "start_time": "2020-10-24T20:21:27.592759Z"
    }
   },
   "outputs": [
    {
     "name": "stdout",
     "output_type": "stream",
     "text": [
      "fsds v0.2.27 loaded.  Read the docs: https://fs-ds.readthedocs.io/en/latest/ \n"
     ]
    },
    {
     "data": {
      "text/html": [
       "<style  type=\"text/css\" >\n",
       "</style><table id=\"T_813a90a2_1636_11eb_8bc5_acde48001122\" ><caption>Loaded Packages and Handles</caption><thead>    <tr>        <th class=\"col_heading level0 col0\" >Handle</th>        <th class=\"col_heading level0 col1\" >Package</th>        <th class=\"col_heading level0 col2\" >Description</th>    </tr></thead><tbody>\n",
       "                <tr>\n",
       "                                <td id=\"T_813a90a2_1636_11eb_8bc5_acde48001122row0_col0\" class=\"data row0 col0\" >dp</td>\n",
       "                        <td id=\"T_813a90a2_1636_11eb_8bc5_acde48001122row0_col1\" class=\"data row0 col1\" >IPython.display</td>\n",
       "                        <td id=\"T_813a90a2_1636_11eb_8bc5_acde48001122row0_col2\" class=\"data row0 col2\" >Display modules with helpful display and clearing commands.</td>\n",
       "            </tr>\n",
       "            <tr>\n",
       "                                <td id=\"T_813a90a2_1636_11eb_8bc5_acde48001122row1_col0\" class=\"data row1 col0\" >fs</td>\n",
       "                        <td id=\"T_813a90a2_1636_11eb_8bc5_acde48001122row1_col1\" class=\"data row1 col1\" >fsds</td>\n",
       "                        <td id=\"T_813a90a2_1636_11eb_8bc5_acde48001122row1_col2\" class=\"data row1 col2\" >Custom data science bootcamp student package</td>\n",
       "            </tr>\n",
       "            <tr>\n",
       "                                <td id=\"T_813a90a2_1636_11eb_8bc5_acde48001122row2_col0\" class=\"data row2 col0\" >mpl</td>\n",
       "                        <td id=\"T_813a90a2_1636_11eb_8bc5_acde48001122row2_col1\" class=\"data row2 col1\" >matplotlib</td>\n",
       "                        <td id=\"T_813a90a2_1636_11eb_8bc5_acde48001122row2_col2\" class=\"data row2 col2\" >Matplotlib's base OOP module with formatting artists</td>\n",
       "            </tr>\n",
       "            <tr>\n",
       "                                <td id=\"T_813a90a2_1636_11eb_8bc5_acde48001122row3_col0\" class=\"data row3 col0\" >plt</td>\n",
       "                        <td id=\"T_813a90a2_1636_11eb_8bc5_acde48001122row3_col1\" class=\"data row3 col1\" >matplotlib.pyplot</td>\n",
       "                        <td id=\"T_813a90a2_1636_11eb_8bc5_acde48001122row3_col2\" class=\"data row3 col2\" >Matplotlib's matlab-like plotting module</td>\n",
       "            </tr>\n",
       "            <tr>\n",
       "                                <td id=\"T_813a90a2_1636_11eb_8bc5_acde48001122row4_col0\" class=\"data row4 col0\" >np</td>\n",
       "                        <td id=\"T_813a90a2_1636_11eb_8bc5_acde48001122row4_col1\" class=\"data row4 col1\" >numpy</td>\n",
       "                        <td id=\"T_813a90a2_1636_11eb_8bc5_acde48001122row4_col2\" class=\"data row4 col2\" >scientific computing with Python</td>\n",
       "            </tr>\n",
       "            <tr>\n",
       "                                <td id=\"T_813a90a2_1636_11eb_8bc5_acde48001122row5_col0\" class=\"data row5 col0\" >pd</td>\n",
       "                        <td id=\"T_813a90a2_1636_11eb_8bc5_acde48001122row5_col1\" class=\"data row5 col1\" >pandas</td>\n",
       "                        <td id=\"T_813a90a2_1636_11eb_8bc5_acde48001122row5_col2\" class=\"data row5 col2\" >High performance data structures and tools</td>\n",
       "            </tr>\n",
       "            <tr>\n",
       "                                <td id=\"T_813a90a2_1636_11eb_8bc5_acde48001122row6_col0\" class=\"data row6 col0\" >sns</td>\n",
       "                        <td id=\"T_813a90a2_1636_11eb_8bc5_acde48001122row6_col1\" class=\"data row6 col1\" >seaborn</td>\n",
       "                        <td id=\"T_813a90a2_1636_11eb_8bc5_acde48001122row6_col2\" class=\"data row6 col2\" >High-level data visualization library based on matplotlib</td>\n",
       "            </tr>\n",
       "    </tbody></table>"
      ],
      "text/plain": [
       "<pandas.io.formats.style.Styler at 0x7fe87331bb00>"
      ]
     },
     "metadata": {},
     "output_type": "display_data"
    },
    {
     "data": {
      "text/html": [
       "        <script type=\"text/javascript\">\n",
       "        window.PlotlyConfig = {MathJaxConfig: 'local'};\n",
       "        if (window.MathJax) {MathJax.Hub.Config({SVG: {font: \"STIX-Web\"}});}\n",
       "        if (typeof require !== 'undefined') {\n",
       "        require.undef(\"plotly\");\n",
       "        requirejs.config({\n",
       "            paths: {\n",
       "                'plotly': ['https://cdn.plot.ly/plotly-latest.min']\n",
       "            }\n",
       "        });\n",
       "        require(['plotly'], function(Plotly) {\n",
       "            window._Plotly = Plotly;\n",
       "        });\n",
       "        }\n",
       "        </script>\n",
       "        "
      ]
     },
     "metadata": {},
     "output_type": "display_data"
    },
    {
     "data": {
      "text/html": [
       "        <script type=\"text/javascript\">\n",
       "        window.PlotlyConfig = {MathJaxConfig: 'local'};\n",
       "        if (window.MathJax) {MathJax.Hub.Config({SVG: {font: \"STIX-Web\"}});}\n",
       "        if (typeof require !== 'undefined') {\n",
       "        require.undef(\"plotly\");\n",
       "        requirejs.config({\n",
       "            paths: {\n",
       "                'plotly': ['https://cdn.plot.ly/plotly-latest.min']\n",
       "            }\n",
       "        });\n",
       "        require(['plotly'], function(Plotly) {\n",
       "            window._Plotly = Plotly;\n",
       "        });\n",
       "        }\n",
       "        </script>\n",
       "        "
      ]
     },
     "metadata": {},
     "output_type": "display_data"
    },
    {
     "name": "stdout",
     "output_type": "stream",
     "text": [
      "[i] Pandas .iplot() method activated.\n"
     ]
    }
   ],
   "source": [
    "!pip install -U fsds\n",
    "from fsds.imports import *"
   ]
  },
  {
   "cell_type": "code",
   "execution_count": 2,
   "metadata": {
    "ExecuteTime": {
     "end_time": "2020-10-24T20:21:36.286589Z",
     "start_time": "2020-10-24T20:21:36.283920Z"
    }
   },
   "outputs": [],
   "source": [
    "import os,sys\n",
    "sys.path.append('py_files/')"
   ]
  },
  {
   "cell_type": "markdown",
   "metadata": {},
   "source": [
    "# OBTAIN"
   ]
  },
  {
   "cell_type": "markdown",
   "metadata": {
    "colab_type": "text",
    "id": "wofiIIk6hQtc"
   },
   "source": [
    "### DATA SOURCES:\n",
    "\n",
    "* **All Donald Trump tweets from 12/01/2016 (pre-inaugaration day) to end of 08/23/2018**\n",
    "    *          Extracted from http://www.trumptwitterarchive.com/\n",
    "\n",
    "* **Minute-resolution data for the S&P500 covering the same time period.**\n",
    "    *         IVE S&P500 Index from - http://www.kibot.com/free_historical_data.aspx\n",
    "    - (***Aggregate 1 min bid-ask data link***)\n",
    "        - http://api.kibot.com/?action=history&symbol=IVE&interval=tickbidask1&bp=1&user=guest\n",
    "    \n",
    "    \n",
    "* NOTE: Both sources required manual extraction and both 1-min historical stock data and batch-historical-tweet data are difficult to obtain without paying \\\\$150-\\\\$2000 monthly developer memberships. "
   ]
  },
  {
   "cell_type": "code",
   "execution_count": null,
   "metadata": {},
   "outputs": [],
   "source": []
  },
  {
   "cell_type": "code",
   "execution_count": 3,
   "metadata": {
    "ExecuteTime": {
     "end_time": "2020-10-24T20:21:53.751799Z",
     "start_time": "2020-10-24T20:21:53.676250Z"
    }
   },
   "outputs": [],
   "source": [
    "# ## Attempt to Get Stock Data With Code\n",
    "\n",
    "import requests\n",
    "import pandas as pd\n",
    "\n",
    "def download_stock_data(fpath='data/ive_minute_tick_bidask_API.csv',\n",
    "                       verbose=True):\n",
    "    \"\"\"Downloads up-to-date IVE S&P 500 1-min aggregate data from \n",
    "    http://www.kibot.com/free_historical_data.aspx\n",
    "    \n",
    "    Args:\n",
    "        fpath (str): csv filepath to save (Default='data/ive_minute_tick_bidask_API.csv')\n",
    "        verbose (bool): Display file info (Default=True)\n",
    "        \n",
    "    Returns:\n",
    "        stock_df: DataFrame with correct headers and datetime index\"\"\"\n",
    "    agg_url = 'http://api.kibot.com/?action=history&symbol=IVE&interval=tickbidask1&bp=1&user=guest'\n",
    "    response = requests.get(agg_url,\n",
    "                            allow_redirects=True)\n",
    "\n",
    "    ## Save output to csv file\n",
    "    with open(fpath,'wb') as file:\n",
    "        file.write(response.content)\n",
    "        \n",
    "        \n",
    "    ## Load in Stock Data Frame with headers (then save)\n",
    "    headers = ['Date','Time','BidOpen','BidHigh','BidLow','BidClose','AskOpen','AskHigh','AskLow','AskClose']\n",
    "    stock_df = pd.read_csv(fpath,names=headers)\n",
    "\n",
    "# \n",
    "    ## Make Combined Date Time column and Drop Origs\n",
    "    stock_df['datetime'] = pd.to_datetime(stock_df['Date'].astype(str)+' '+stock_df['Time'].astype(str))\n",
    "    stock_df.to_csv(fpath,index=False)\n",
    "        \n",
    "    if verbose:\n",
    "        print('[i] Data successfully downloaded and saved as:')\n",
    "        print(' - ',fpath)\n",
    "        \n",
    "    return pd.read_csv(fpath,parse_dates=['datetime'],index_col='datetime')"
   ]
  },
  {
   "cell_type": "code",
   "execution_count": 4,
   "metadata": {
    "ExecuteTime": {
     "end_time": "2020-10-24T20:22:08.938094Z",
     "start_time": "2020-10-24T20:22:07.745668Z"
    }
   },
   "outputs": [],
   "source": [
    "# stock_df = download_stock_data_csv()\n",
    "stock_df = pd.read_csv('data/ive_minute_tick_bidask_API.csv',\n",
    "                       parse_dates=['datetime'],\n",
    "                       index_col='datetime')\n",
    "\n",
    "## Remove Other Columns\n",
    "stock_df = stock_df[['BidOpen','BidClose']]"
   ]
  },
  {
   "cell_type": "code",
   "execution_count": 5,
   "metadata": {
    "ExecuteTime": {
     "end_time": "2020-10-24T20:22:16.599675Z",
     "start_time": "2020-10-24T20:22:16.596405Z"
    }
   },
   "outputs": [
    {
     "data": {
      "text/plain": [
       "(888301, 2)"
      ]
     },
     "execution_count": 5,
     "metadata": {},
     "output_type": "execute_result"
    }
   ],
   "source": [
    "stock_df.shape"
   ]
  },
  {
   "cell_type": "code",
   "execution_count": 6,
   "metadata": {
    "ExecuteTime": {
     "end_time": "2020-10-24T20:22:24.563722Z",
     "start_time": "2020-10-24T20:22:24.533783Z"
    }
   },
   "outputs": [
    {
     "data": {
      "text/plain": [
       "(888284, 2)"
      ]
     },
     "execution_count": 6,
     "metadata": {},
     "output_type": "execute_result"
    }
   ],
   "source": [
    "## Remove rare 0-values\n",
    "stock_df = stock_df[(stock_df>0).all(axis=1)]\n",
    "stock_df.shape"
   ]
  },
  {
   "cell_type": "code",
   "execution_count": 7,
   "metadata": {
    "ExecuteTime": {
     "end_time": "2020-10-24T20:22:28.295338Z",
     "start_time": "2020-10-24T20:22:26.020970Z"
    }
   },
   "outputs": [
    {
     "data": {
      "text/plain": [
       "<AxesSubplot:xlabel='datetime'>"
      ]
     },
     "execution_count": 7,
     "metadata": {},
     "output_type": "execute_result"
    },
    {
     "data": {
      "image/png": "[encoded data removed]",
      "text/plain": [
       "<Figure size 432x288 with 1 Axes>"
      ]
     },
     "metadata": {
      "needs_background": "light"
     },
     "output_type": "display_data"
    }
   ],
   "source": [
    "stock_df.plot()"
   ]
  },
  {
   "cell_type": "markdown",
   "metadata": {},
   "source": [
    "## Tweet Preprocessing"
   ]
  },
  {
   "cell_type": "code",
   "execution_count": 12,
   "metadata": {
    "ExecuteTime": {
     "end_time": "2020-10-24T20:27:10.858187Z",
     "start_time": "2020-10-24T20:27:09.071342Z"
    }
   },
   "outputs": [
    {
     "data": {
      "text/html": [
       "<div>\n",
       "<style scoped>\n",
       "    .dataframe tbody tr th:only-of-type {\n",
       "        vertical-align: middle;\n",
       "    }\n",
       "\n",
       "    .dataframe tbody tr th {\n",
       "        vertical-align: top;\n",
       "    }\n",
       "\n",
       "    .dataframe thead th {\n",
       "        text-align: right;\n",
       "    }\n",
       "</style>\n",
       "<table border=\"1\" class=\"dataframe\">\n",
       "  <thead>\n",
       "    <tr style=\"text-align: right;\">\n",
       "      <th></th>\n",
       "      <th>source</th>\n",
       "      <th>text</th>\n",
       "      <th>created_at</th>\n",
       "      <th>retweet_count</th>\n",
       "      <th>favorite_count</th>\n",
       "      <th>is_retweet</th>\n",
       "      <th>id_str</th>\n",
       "    </tr>\n",
       "  </thead>\n",
       "  <tbody>\n",
       "    <tr>\n",
       "      <th>0</th>\n",
       "      <td>Twitter for iPhone</td>\n",
       "      <td>RT @GreggJarrett: Pelosi Shrugs Off Mobs ‘Peop...</td>\n",
       "      <td>2020-07-11 18:44:28</td>\n",
       "      <td>4728</td>\n",
       "      <td>0</td>\n",
       "      <td>True</td>\n",
       "      <td>1282022963987054592</td>\n",
       "    </tr>\n",
       "    <tr>\n",
       "      <th>1</th>\n",
       "      <td>Twitter for iPhone</td>\n",
       "      <td>RT @GreggJarrett: Trump right to commute Roger...</td>\n",
       "      <td>2020-07-11 18:43:57</td>\n",
       "      <td>8574</td>\n",
       "      <td>0</td>\n",
       "      <td>True</td>\n",
       "      <td>1282022835867791361</td>\n",
       "    </tr>\n",
       "    <tr>\n",
       "      <th>2</th>\n",
       "      <td>Twitter for iPhone</td>\n",
       "      <td>RT @GreggJarrett: Biased anti-Flynn rogue judg...</td>\n",
       "      <td>2020-07-11 18:43:47</td>\n",
       "      <td>6188</td>\n",
       "      <td>0</td>\n",
       "      <td>True</td>\n",
       "      <td>1282022791857025025</td>\n",
       "    </tr>\n",
       "    <tr>\n",
       "      <th>3</th>\n",
       "      <td>Twitter for iPhone</td>\n",
       "      <td>RT @TVNewsHQ: Fox News’ @GreggJarrett on Presi...</td>\n",
       "      <td>2020-07-11 18:42:55</td>\n",
       "      <td>3612</td>\n",
       "      <td>0</td>\n",
       "      <td>True</td>\n",
       "      <td>1282022576441700356</td>\n",
       "    </tr>\n",
       "    <tr>\n",
       "      <th>4</th>\n",
       "      <td>Twitter for iPhone</td>\n",
       "      <td>RT @realDonaldTrump: President Trump Approval ...</td>\n",
       "      <td>2020-07-11 13:16:00</td>\n",
       "      <td>39286</td>\n",
       "      <td>0</td>\n",
       "      <td>True</td>\n",
       "      <td>1281940302782136320</td>\n",
       "    </tr>\n",
       "    <tr>\n",
       "      <th>...</th>\n",
       "      <td>...</td>\n",
       "      <td>...</td>\n",
       "      <td>...</td>\n",
       "      <td>...</td>\n",
       "      <td>...</td>\n",
       "      <td>...</td>\n",
       "      <td>...</td>\n",
       "    </tr>\n",
       "    <tr>\n",
       "      <th>24015</th>\n",
       "      <td>Twitter for Android</td>\n",
       "      <td>Well the year has officially begun. I have man...</td>\n",
       "      <td>2016-01-01 23:00:09</td>\n",
       "      <td>2642</td>\n",
       "      <td>8495</td>\n",
       "      <td>False</td>\n",
       "      <td>683060169677344768</td>\n",
       "    </tr>\n",
       "    <tr>\n",
       "      <th>24016</th>\n",
       "      <td>Twitter for Android</td>\n",
       "      <td>@sprinklermanus: @CNN @realDonaldTrump they're...</td>\n",
       "      <td>2016-01-01 21:29:56</td>\n",
       "      <td>933</td>\n",
       "      <td>3330</td>\n",
       "      <td>False</td>\n",
       "      <td>683037464504745985</td>\n",
       "    </tr>\n",
       "    <tr>\n",
       "      <th>24017</th>\n",
       "      <td>Twitter for Android</td>\n",
       "      <td>@jallenaip: Hillary said she was in a Fog of W...</td>\n",
       "      <td>2016-01-01 06:08:06</td>\n",
       "      <td>2721</td>\n",
       "      <td>7490</td>\n",
       "      <td>False</td>\n",
       "      <td>682805477168779264</td>\n",
       "    </tr>\n",
       "    <tr>\n",
       "      <th>24018</th>\n",
       "      <td>Twitter for iPhone</td>\n",
       "      <td>Happy New Year from #MarALago! Thank you to my...</td>\n",
       "      <td>2016-01-01 06:07:28</td>\n",
       "      <td>1948</td>\n",
       "      <td>8258</td>\n",
       "      <td>False</td>\n",
       "      <td>682805320217980929</td>\n",
       "    </tr>\n",
       "    <tr>\n",
       "      <th>24019</th>\n",
       "      <td>Twitter for iPhone</td>\n",
       "      <td>#HappyNewYearAmerica! https://t.co/EeQb8PDrUe</td>\n",
       "      <td>2016-01-01 05:18:23</td>\n",
       "      <td>3434</td>\n",
       "      <td>9143</td>\n",
       "      <td>False</td>\n",
       "      <td>682792967736848385</td>\n",
       "    </tr>\n",
       "  </tbody>\n",
       "</table>\n",
       "<p>24020 rows × 7 columns</p>\n",
       "</div>"
      ],
      "text/plain": [
       "                    source                                               text  \\\n",
       "0       Twitter for iPhone  RT @GreggJarrett: Pelosi Shrugs Off Mobs ‘Peop...   \n",
       "1       Twitter for iPhone  RT @GreggJarrett: Trump right to commute Roger...   \n",
       "2       Twitter for iPhone  RT @GreggJarrett: Biased anti-Flynn rogue judg...   \n",
       "3       Twitter for iPhone  RT @TVNewsHQ: Fox News’ @GreggJarrett on Presi...   \n",
       "4       Twitter for iPhone  RT @realDonaldTrump: President Trump Approval ...   \n",
       "...                    ...                                                ...   \n",
       "24015  Twitter for Android  Well the year has officially begun. I have man...   \n",
       "24016  Twitter for Android  @sprinklermanus: @CNN @realDonaldTrump they're...   \n",
       "24017  Twitter for Android  @jallenaip: Hillary said she was in a Fog of W...   \n",
       "24018   Twitter for iPhone  Happy New Year from #MarALago! Thank you to my...   \n",
       "24019   Twitter for iPhone      #HappyNewYearAmerica! https://t.co/EeQb8PDrUe   \n",
       "\n",
       "               created_at  retweet_count  favorite_count is_retweet  \\\n",
       "0     2020-07-11 18:44:28           4728               0       True   \n",
       "1     2020-07-11 18:43:57           8574               0       True   \n",
       "2     2020-07-11 18:43:47           6188               0       True   \n",
       "3     2020-07-11 18:42:55           3612               0       True   \n",
       "4     2020-07-11 13:16:00          39286               0       True   \n",
       "...                   ...            ...             ...        ...   \n",
       "24015 2016-01-01 23:00:09           2642            8495      False   \n",
       "24016 2016-01-01 21:29:56            933            3330      False   \n",
       "24017 2016-01-01 06:08:06           2721            7490      False   \n",
       "24018 2016-01-01 06:07:28           1948            8258      False   \n",
       "24019 2016-01-01 05:18:23           3434            9143      False   \n",
       "\n",
       "                    id_str  \n",
       "0      1282022963987054592  \n",
       "1      1282022835867791361  \n",
       "2      1282022791857025025  \n",
       "3      1282022576441700356  \n",
       "4      1281940302782136320  \n",
       "...                    ...  \n",
       "24015   683060169677344768  \n",
       "24016   683037464504745985  \n",
       "24017   682805477168779264  \n",
       "24018   682805320217980929  \n",
       "24019   682792967736848385  \n",
       "\n",
       "[24020 rows x 7 columns]"
      ]
     },
     "execution_count": 12,
     "metadata": {},
     "output_type": "execute_result"
    }
   ],
   "source": [
    "raw_tweets = 'data/trump_twitter_archive_07112020.csv'\n",
    "df = pd.read_csv(raw_tweets,parse_dates=['created_at'])#,index_col='created_at')\n",
    "df"
   ]
  },
  {
   "cell_type": "code",
   "execution_count": 11,
   "metadata": {
    "ExecuteTime": {
     "end_time": "2020-10-24T20:26:54.479495Z",
     "start_time": "2020-10-24T20:26:54.474336Z"
    }
   },
   "outputs": [
    {
     "data": {
      "text/plain": [
       "DatetimeIndex(['2020-07-11 18:44:28', '2020-07-11 18:43:57',\n",
       "               '2020-07-11 18:43:47', '2020-07-11 18:42:55',\n",
       "               '2020-07-11 13:16:00', '2020-07-11 13:15:18',\n",
       "               '2020-07-11 13:15:08', '2020-07-11 13:14:41',\n",
       "               '2020-07-11 13:14:38', '2020-07-11 13:12:56',\n",
       "               ...\n",
       "               '2016-01-01 23:24:13', '2016-01-01 23:10:25',\n",
       "               '2016-01-01 23:08:18', '2016-01-01 23:06:09',\n",
       "               '2016-01-01 23:02:05', '2016-01-01 23:00:09',\n",
       "               '2016-01-01 21:29:56', '2016-01-01 06:08:06',\n",
       "               '2016-01-01 06:07:28', '2016-01-01 05:18:23'],\n",
       "              dtype='datetime64[ns]', name='created_at', length=24020, freq=None)"
      ]
     },
     "execution_count": 11,
     "metadata": {},
     "output_type": "execute_result"
    }
   ],
   "source": [
    "df.index"
   ]
  },
  {
   "cell_type": "code",
   "execution_count": null,
   "metadata": {},
   "outputs": [],
   "source": []
  }
 ],
 "metadata": {
  "kernelspec": {
   "display_name": "Python [conda env:learn-env] *",
   "language": "python",
   "name": "conda-env-learn-env-py"
  },
  "language_info": {
   "codemirror_mode": {
    "name": "ipython",
    "version": 3
   },
   "file_extension": ".py",
   "mimetype": "text/x-python",
   "name": "python",
   "nbconvert_exporter": "python",
   "pygments_lexer": "ipython3",
   "version": "3.6.11"
  },
  "toc": {
   "base_numbering": 1,
   "nav_menu": {},
   "number_sections": true,
   "sideBar": true,
   "skip_h1_title": false,
   "title_cell": "Table of Contents",
   "title_sidebar": "Contents",
   "toc_cell": false,
   "toc_position": {},
   "toc_section_display": true,
   "toc_window_display": false
  }
 },
 "nbformat": 4,
 "nbformat_minor": 4
}
